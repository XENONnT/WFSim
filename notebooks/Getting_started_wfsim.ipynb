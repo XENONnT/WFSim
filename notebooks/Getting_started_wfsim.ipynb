{
 "cells": [
  {
   "cell_type": "markdown",
   "metadata": {},
   "source": [
    "# Getting started with WFSim"
   ]
  },
  {
   "cell_type": "markdown",
   "metadata": {},
   "source": [
    "Hello friend.\n",
    "Welcome to the basic tutorial on how to simulate waveforms with the latest wfsim version in strax.\n",
    "Here we'll just demonstrate the basic functionality. For more in depth analysis stuff, checkout the straxen tutorials for more detailed thing."
   ]
  },
  {
   "cell_type": "code",
   "execution_count": 1,
   "metadata": {
    "ExecuteTime": {
     "end_time": "2021-05-10T12:46:14.527226Z",
     "start_time": "2021-05-10T12:46:05.307037Z"
    }
   },
   "outputs": [
    {
     "name": "stderr",
     "output_type": "stream",
     "text": [
      "*** Detector definition message ***\n",
      "You are currently using the default XENON10 template detector.\n",
      "\n"
     ]
    }
   ],
   "source": [
    "import numpy as np\n",
    "import strax\n",
    "import straxen\n",
    "import wfsim\n",
    "\n",
    "import matplotlib.pyplot as plt\n",
    "from matplotlib.colors import LogNorm\n",
    "from multihist import Histdd, Hist1d\n",
    "from scipy import stats\n",
    "\n",
    "import json"
   ]
  },
  {
   "cell_type": "markdown",
   "metadata": {},
   "source": [
    "## Different simulators"
   ]
  },
  {
   "cell_type": "markdown",
   "metadata": {},
   "source": [
    "Because we'd like to make simulations we have multiple different ways of making data. They are:\n",
    "* `RawRecordsFromFaxNT(1T)`\n",
    "* `RawRecordsFromFaxEpix`\n",
    "* `RawRecordsFromFaxOptical`\n",
    "* `RawRecordsFromFaxNveto`\n",
    "\n",
    "The main difference is the way you specify instructions.  The NT(1T) simulator depends on either a csv file or a defaul/user specified function to generate instructions. Epix takes input from G4 processed with  epix. Optical takes optical input from G4 for photon channels and timings. And Nveto is a small modification to optical to provide nveto data"
   ]
  },
  {
   "cell_type": "markdown",
   "metadata": {},
   "source": [
    "## Setting everything up"
   ]
  },
  {
   "cell_type": "markdown",
   "metadata": {},
   "source": [
    "First we need to define the right context. For this we made two contexts to help you out. One for 1T and one for nT. By default in your context RawRecordsFromFaxNT will be registered. If you  want another one be sure to register it"
   ]
  },
  {
   "cell_type": "markdown",
   "metadata": {},
   "source": [
    "For 1T do:"
   ]
  },
  {
   "cell_type": "code",
   "execution_count": 2,
   "metadata": {
    "ExecuteTime": {
     "end_time": "2021-05-10T12:46:14.542180Z",
     "start_time": "2021-05-10T12:46:14.531508Z"
    }
   },
   "outputs": [],
   "source": [
    "st = straxen.contexts.xenon1t_simulation()"
   ]
  },
  {
   "cell_type": "markdown",
   "metadata": {},
   "source": [
    "Or nT do:"
   ]
  },
  {
   "cell_type": "code",
   "execution_count": 3,
   "metadata": {
    "ExecuteTime": {
     "end_time": "2021-05-10T12:46:14.567075Z",
     "start_time": "2021-05-10T12:46:14.546391Z"
    }
   },
   "outputs": [],
   "source": [
    "st = straxen.contexts.xenonnt_simulation(cmt_run_id_sim='00001')"
   ]
  },
  {
   "cell_type": "markdown",
   "metadata": {},
   "source": [
    "Now we need to define a run id. What you give it doesn't really matter, since strax will look for data and make new if it doesn't find anything. And this is what you want.\n",
    "Strax will use the run id to get the electron lifetime and pmt gains from a database, and returns placeholders if the run doesn't exist."
   ]
  },
  {
   "cell_type": "code",
   "execution_count": 4,
   "metadata": {
    "ExecuteTime": {
     "end_time": "2021-05-10T12:46:14.573720Z",
     "start_time": "2021-05-10T12:46:14.570905Z"
    }
   },
   "outputs": [],
   "source": [
    "run_id = '1'"
   ]
  },
  {
   "cell_type": "markdown",
   "metadata": {},
   "source": [
    "## Defining instructions\n"
   ]
  },
  {
   "cell_type": "markdown",
   "metadata": {},
   "source": [
    "For the instructions there are multiple different ways to do it. The simulator has this option called \"fax_file\". If it has a value (None by default) the simulator will either read it as a csv or root file. If not it will use some predefined functions to make your events. The number of event you'll simulate based on the product of the config values \"nchunk\",\"event_rate\" and \"chunk_size\". Which you can set as follows:"
   ]
  },
  {
   "cell_type": "code",
   "execution_count": 5,
   "metadata": {
    "ExecuteTime": {
     "end_time": "2021-05-10T12:46:14.580781Z",
     "start_time": "2021-05-10T12:46:14.577570Z"
    }
   },
   "outputs": [],
   "source": [
    "st.set_config(dict(nchunk=1, event_rate=5, chunk_size=10,))"
   ]
  },
  {
   "cell_type": "markdown",
   "metadata": {},
   "source": [
    "Strax groups data together in chunks based on time (for low level data). nchunk is the number of chunks you want to simulate\n",
    "event_rate is the number of events per seconds, so this effects the amount of spacing between events. Finally chunk_size is the length in seconds of your chunk\n",
    "For the DAQ this is 5 seconds. For simulations you can do whatever you want. It is important to note that Strax will write out data per chunk\n",
    "So when your chunks are small you'll, among other things, call Strax' IO functions a lot, giving a substantial overhead. On the other hand, to large chunks will hog all your memory and your kernel might crash.\n",
    "Based on my experimentation setting chunk_size to 500 gives best performance"
   ]
  },
  {
   "cell_type": "markdown",
   "metadata": {},
   "source": [
    "These are ways you can give instructions\n",
    "### Random\n",
    "This is the default where simulator will generate some random instructions for you.\n",
    "### Custom\n",
    "For this you will need to overwrite the instruction generator function\n",
    "### CSV\n",
    "You can provide a csv file with the instruction (Like the output of nSort)\n",
    "### Geant4\n",
    "For this you'll  need to  use epix to do some clustering for you."
   ]
  },
  {
   "cell_type": "markdown",
   "metadata": {},
   "source": [
    "### Random\n",
    "I guess this is pretty self explanatory. The simulator has this function called \"rand_instructions\" which will make something up for you.\n",
    "\n"
   ]
  },
  {
   "cell_type": "code",
   "execution_count": 6,
   "metadata": {
    "ExecuteTime": {
     "end_time": "2021-05-10T12:46:14.646190Z",
     "start_time": "2021-05-10T12:46:14.584703Z"
    }
   },
   "outputs": [
    {
     "data": {
      "text/plain": [
       "\u001b[0;31mSignature:\u001b[0m \u001b[0mwfsim\u001b[0m\u001b[0;34m.\u001b[0m\u001b[0mstrax_interface\u001b[0m\u001b[0;34m.\u001b[0m\u001b[0mrand_instructions\u001b[0m\u001b[0;34m(\u001b[0m\u001b[0mc\u001b[0m\u001b[0;34m)\u001b[0m\u001b[0;34m\u001b[0m\u001b[0;34m\u001b[0m\u001b[0m\n",
       "\u001b[0;31mSource:\u001b[0m   \n",
       "\u001b[0;32mdef\u001b[0m \u001b[0mrand_instructions\u001b[0m\u001b[0;34m(\u001b[0m\u001b[0mc\u001b[0m\u001b[0;34m)\u001b[0m\u001b[0;34m:\u001b[0m\u001b[0;34m\u001b[0m\n",
       "\u001b[0;34m\u001b[0m    \u001b[0;34m\"\"\"Random instruction generator function. This will be called by wfsim if you do not specify \u001b[0m\n",
       "\u001b[0;34m    specific instructions.\u001b[0m\n",
       "\u001b[0;34m    :params c: wfsim configuration dict\"\"\"\u001b[0m\u001b[0;34m\u001b[0m\n",
       "\u001b[0;34m\u001b[0m    \u001b[0mn\u001b[0m \u001b[0;34m=\u001b[0m \u001b[0mc\u001b[0m\u001b[0;34m[\u001b[0m\u001b[0;34m'nevents'\u001b[0m\u001b[0;34m]\u001b[0m \u001b[0;34m=\u001b[0m \u001b[0mc\u001b[0m\u001b[0;34m[\u001b[0m\u001b[0;34m'event_rate'\u001b[0m\u001b[0;34m]\u001b[0m \u001b[0;34m*\u001b[0m \u001b[0mc\u001b[0m\u001b[0;34m[\u001b[0m\u001b[0;34m'chunk_size'\u001b[0m\u001b[0;34m]\u001b[0m \u001b[0;34m*\u001b[0m \u001b[0mc\u001b[0m\u001b[0;34m[\u001b[0m\u001b[0;34m'nchunk'\u001b[0m\u001b[0;34m]\u001b[0m\u001b[0;34m\u001b[0m\n",
       "\u001b[0;34m\u001b[0m    \u001b[0mc\u001b[0m\u001b[0;34m[\u001b[0m\u001b[0;34m'total_time'\u001b[0m\u001b[0;34m]\u001b[0m \u001b[0;34m=\u001b[0m \u001b[0mc\u001b[0m\u001b[0;34m[\u001b[0m\u001b[0;34m'chunk_size'\u001b[0m\u001b[0;34m]\u001b[0m \u001b[0;34m*\u001b[0m \u001b[0mc\u001b[0m\u001b[0;34m[\u001b[0m\u001b[0;34m'nchunk'\u001b[0m\u001b[0;34m]\u001b[0m\u001b[0;34m\u001b[0m\n",
       "\u001b[0;34m\u001b[0m\u001b[0;34m\u001b[0m\n",
       "\u001b[0;34m\u001b[0m    \u001b[0minstructions\u001b[0m \u001b[0;34m=\u001b[0m \u001b[0mnp\u001b[0m\u001b[0;34m.\u001b[0m\u001b[0mzeros\u001b[0m\u001b[0;34m(\u001b[0m\u001b[0;36m2\u001b[0m \u001b[0;34m*\u001b[0m \u001b[0mn\u001b[0m\u001b[0;34m,\u001b[0m \u001b[0mdtype\u001b[0m\u001b[0;34m=\u001b[0m\u001b[0minstruction_dtype\u001b[0m\u001b[0;34m)\u001b[0m\u001b[0;34m\u001b[0m\n",
       "\u001b[0;34m\u001b[0m    \u001b[0muniform_times\u001b[0m \u001b[0;34m=\u001b[0m \u001b[0mc\u001b[0m\u001b[0;34m[\u001b[0m\u001b[0;34m'total_time'\u001b[0m\u001b[0;34m]\u001b[0m \u001b[0;34m*\u001b[0m \u001b[0;34m(\u001b[0m\u001b[0mnp\u001b[0m\u001b[0;34m.\u001b[0m\u001b[0marange\u001b[0m\u001b[0;34m(\u001b[0m\u001b[0mn\u001b[0m\u001b[0;34m)\u001b[0m \u001b[0;34m+\u001b[0m \u001b[0;36m1.\u001b[0m\u001b[0;34m)\u001b[0m \u001b[0;34m/\u001b[0m \u001b[0mn\u001b[0m\u001b[0;34m\u001b[0m\n",
       "\u001b[0;34m\u001b[0m    \u001b[0minstructions\u001b[0m\u001b[0;34m[\u001b[0m\u001b[0;34m'time'\u001b[0m\u001b[0;34m]\u001b[0m \u001b[0;34m=\u001b[0m \u001b[0mnp\u001b[0m\u001b[0;34m.\u001b[0m\u001b[0mrepeat\u001b[0m\u001b[0;34m(\u001b[0m\u001b[0muniform_times\u001b[0m\u001b[0;34m,\u001b[0m \u001b[0;36m2\u001b[0m\u001b[0;34m)\u001b[0m \u001b[0;34m*\u001b[0m \u001b[0mint\u001b[0m\u001b[0;34m(\u001b[0m\u001b[0;36m1e9\u001b[0m\u001b[0;34m)\u001b[0m\u001b[0;34m\u001b[0m\n",
       "\u001b[0;34m\u001b[0m    \u001b[0minstructions\u001b[0m\u001b[0;34m[\u001b[0m\u001b[0;34m'event_number'\u001b[0m\u001b[0;34m]\u001b[0m \u001b[0;34m=\u001b[0m \u001b[0mnp\u001b[0m\u001b[0;34m.\u001b[0m\u001b[0mdigitize\u001b[0m\u001b[0;34m(\u001b[0m\u001b[0minstructions\u001b[0m\u001b[0;34m[\u001b[0m\u001b[0;34m'time'\u001b[0m\u001b[0;34m]\u001b[0m\u001b[0;34m,\u001b[0m\u001b[0;34m\u001b[0m\n",
       "\u001b[0;34m\u001b[0m                                               \u001b[0;36m1e9\u001b[0m \u001b[0;34m*\u001b[0m \u001b[0mnp\u001b[0m\u001b[0;34m.\u001b[0m\u001b[0marange\u001b[0m\u001b[0;34m(\u001b[0m\u001b[0mc\u001b[0m\u001b[0;34m[\u001b[0m\u001b[0;34m'nchunk'\u001b[0m\u001b[0;34m]\u001b[0m\u001b[0;34m)\u001b[0m \u001b[0;34m*\u001b[0m \u001b[0mc\u001b[0m\u001b[0;34m[\u001b[0m\u001b[0;34m'chunk_size'\u001b[0m\u001b[0;34m]\u001b[0m\u001b[0;34m)\u001b[0m \u001b[0;34m-\u001b[0m \u001b[0;36m1\u001b[0m\u001b[0;34m\u001b[0m\n",
       "\u001b[0;34m\u001b[0m    \u001b[0minstructions\u001b[0m\u001b[0;34m[\u001b[0m\u001b[0;34m'type'\u001b[0m\u001b[0;34m]\u001b[0m \u001b[0;34m=\u001b[0m \u001b[0mnp\u001b[0m\u001b[0;34m.\u001b[0m\u001b[0mtile\u001b[0m\u001b[0;34m(\u001b[0m\u001b[0;34m[\u001b[0m\u001b[0;36m1\u001b[0m\u001b[0;34m,\u001b[0m \u001b[0;36m2\u001b[0m\u001b[0;34m]\u001b[0m\u001b[0;34m,\u001b[0m \u001b[0mn\u001b[0m\u001b[0;34m)\u001b[0m\u001b[0;34m\u001b[0m\n",
       "\u001b[0;34m\u001b[0m    \u001b[0minstructions\u001b[0m\u001b[0;34m[\u001b[0m\u001b[0;34m'recoil'\u001b[0m\u001b[0;34m]\u001b[0m \u001b[0;34m=\u001b[0m \u001b[0mnp\u001b[0m\u001b[0;34m.\u001b[0m\u001b[0mrepeat\u001b[0m\u001b[0;34m(\u001b[0m\u001b[0;36m7\u001b[0m\u001b[0;34m,\u001b[0m \u001b[0mn\u001b[0m \u001b[0;34m*\u001b[0m \u001b[0;36m2\u001b[0m\u001b[0;34m)\u001b[0m  \u001b[0;31m# Use nest ids for  ER\u001b[0m\u001b[0;34m\u001b[0m\n",
       "\u001b[0;34m\u001b[0m\u001b[0;34m\u001b[0m\n",
       "\u001b[0;34m\u001b[0m    \u001b[0mr\u001b[0m \u001b[0;34m=\u001b[0m \u001b[0mnp\u001b[0m\u001b[0;34m.\u001b[0m\u001b[0msqrt\u001b[0m\u001b[0;34m(\u001b[0m\u001b[0mnp\u001b[0m\u001b[0;34m.\u001b[0m\u001b[0mrandom\u001b[0m\u001b[0;34m.\u001b[0m\u001b[0muniform\u001b[0m\u001b[0;34m(\u001b[0m\u001b[0;36m0\u001b[0m\u001b[0;34m,\u001b[0m \u001b[0mc\u001b[0m\u001b[0;34m[\u001b[0m\u001b[0;34m'tpc_radius'\u001b[0m\u001b[0;34m]\u001b[0m\u001b[0;34m**\u001b[0m\u001b[0;36m2\u001b[0m\u001b[0;34m,\u001b[0m \u001b[0mn\u001b[0m\u001b[0;34m)\u001b[0m\u001b[0;34m)\u001b[0m\u001b[0;34m\u001b[0m\n",
       "\u001b[0;34m\u001b[0m    \u001b[0mt\u001b[0m \u001b[0;34m=\u001b[0m \u001b[0mnp\u001b[0m\u001b[0;34m.\u001b[0m\u001b[0mrandom\u001b[0m\u001b[0;34m.\u001b[0m\u001b[0muniform\u001b[0m\u001b[0;34m(\u001b[0m\u001b[0;34m-\u001b[0m\u001b[0mnp\u001b[0m\u001b[0;34m.\u001b[0m\u001b[0mpi\u001b[0m\u001b[0;34m,\u001b[0m \u001b[0mnp\u001b[0m\u001b[0;34m.\u001b[0m\u001b[0mpi\u001b[0m\u001b[0;34m,\u001b[0m \u001b[0mn\u001b[0m\u001b[0;34m)\u001b[0m\u001b[0;34m\u001b[0m\n",
       "\u001b[0;34m\u001b[0m    \u001b[0minstructions\u001b[0m\u001b[0;34m[\u001b[0m\u001b[0;34m'x'\u001b[0m\u001b[0;34m]\u001b[0m \u001b[0;34m=\u001b[0m \u001b[0mnp\u001b[0m\u001b[0;34m.\u001b[0m\u001b[0mrepeat\u001b[0m\u001b[0;34m(\u001b[0m\u001b[0mr\u001b[0m \u001b[0;34m*\u001b[0m \u001b[0mnp\u001b[0m\u001b[0;34m.\u001b[0m\u001b[0mcos\u001b[0m\u001b[0;34m(\u001b[0m\u001b[0mt\u001b[0m\u001b[0;34m)\u001b[0m\u001b[0;34m,\u001b[0m \u001b[0;36m2\u001b[0m\u001b[0;34m)\u001b[0m\u001b[0;34m\u001b[0m\n",
       "\u001b[0;34m\u001b[0m    \u001b[0minstructions\u001b[0m\u001b[0;34m[\u001b[0m\u001b[0;34m'y'\u001b[0m\u001b[0;34m]\u001b[0m \u001b[0;34m=\u001b[0m \u001b[0mnp\u001b[0m\u001b[0;34m.\u001b[0m\u001b[0mrepeat\u001b[0m\u001b[0;34m(\u001b[0m\u001b[0mr\u001b[0m \u001b[0;34m*\u001b[0m \u001b[0mnp\u001b[0m\u001b[0;34m.\u001b[0m\u001b[0msin\u001b[0m\u001b[0;34m(\u001b[0m\u001b[0mt\u001b[0m\u001b[0;34m)\u001b[0m\u001b[0;34m,\u001b[0m \u001b[0;36m2\u001b[0m\u001b[0;34m)\u001b[0m\u001b[0;34m\u001b[0m\n",
       "\u001b[0;34m\u001b[0m    \u001b[0minstructions\u001b[0m\u001b[0;34m[\u001b[0m\u001b[0;34m'z'\u001b[0m\u001b[0;34m]\u001b[0m \u001b[0;34m=\u001b[0m \u001b[0mnp\u001b[0m\u001b[0;34m.\u001b[0m\u001b[0mrepeat\u001b[0m\u001b[0;34m(\u001b[0m\u001b[0mnp\u001b[0m\u001b[0;34m.\u001b[0m\u001b[0mrandom\u001b[0m\u001b[0;34m.\u001b[0m\u001b[0muniform\u001b[0m\u001b[0;34m(\u001b[0m\u001b[0;34m-\u001b[0m\u001b[0mc\u001b[0m\u001b[0;34m[\u001b[0m\u001b[0;34m'tpc_length'\u001b[0m\u001b[0;34m]\u001b[0m\u001b[0;34m,\u001b[0m \u001b[0;36m0\u001b[0m\u001b[0;34m,\u001b[0m \u001b[0mn\u001b[0m\u001b[0;34m)\u001b[0m\u001b[0;34m,\u001b[0m \u001b[0;36m2\u001b[0m\u001b[0;34m)\u001b[0m\u001b[0;34m\u001b[0m\n",
       "\u001b[0;34m\u001b[0m\u001b[0;34m\u001b[0m\n",
       "\u001b[0;34m\u001b[0m    \u001b[0mnphotons\u001b[0m \u001b[0;34m=\u001b[0m \u001b[0mnp\u001b[0m\u001b[0;34m.\u001b[0m\u001b[0mrandom\u001b[0m\u001b[0;34m.\u001b[0m\u001b[0muniform\u001b[0m\u001b[0;34m(\u001b[0m\u001b[0;36m2000\u001b[0m\u001b[0;34m,\u001b[0m \u001b[0;36m2050\u001b[0m\u001b[0;34m,\u001b[0m \u001b[0mn\u001b[0m\u001b[0;34m)\u001b[0m\u001b[0;34m\u001b[0m\n",
       "\u001b[0;34m\u001b[0m    \u001b[0mnelectrons\u001b[0m \u001b[0;34m=\u001b[0m \u001b[0;36m10\u001b[0m \u001b[0;34m**\u001b[0m \u001b[0;34m(\u001b[0m\u001b[0mnp\u001b[0m\u001b[0;34m.\u001b[0m\u001b[0mrandom\u001b[0m\u001b[0;34m.\u001b[0m\u001b[0muniform\u001b[0m\u001b[0;34m(\u001b[0m\u001b[0;36m3\u001b[0m\u001b[0;34m,\u001b[0m \u001b[0;36m4\u001b[0m\u001b[0;34m,\u001b[0m \u001b[0mn\u001b[0m\u001b[0;34m)\u001b[0m\u001b[0;34m)\u001b[0m\u001b[0;34m\u001b[0m\n",
       "\u001b[0;34m\u001b[0m    \u001b[0minstructions\u001b[0m\u001b[0;34m[\u001b[0m\u001b[0;34m'amp'\u001b[0m\u001b[0;34m]\u001b[0m \u001b[0;34m=\u001b[0m \u001b[0mnp\u001b[0m\u001b[0;34m.\u001b[0m\u001b[0mvstack\u001b[0m\u001b[0;34m(\u001b[0m\u001b[0;34m[\u001b[0m\u001b[0mnphotons\u001b[0m\u001b[0;34m,\u001b[0m \u001b[0mnelectrons\u001b[0m\u001b[0;34m]\u001b[0m\u001b[0;34m)\u001b[0m\u001b[0;34m.\u001b[0m\u001b[0mT\u001b[0m\u001b[0;34m.\u001b[0m\u001b[0mflatten\u001b[0m\u001b[0;34m(\u001b[0m\u001b[0;34m)\u001b[0m\u001b[0;34m.\u001b[0m\u001b[0mastype\u001b[0m\u001b[0;34m(\u001b[0m\u001b[0mint\u001b[0m\u001b[0;34m)\u001b[0m\u001b[0;34m\u001b[0m\n",
       "\u001b[0;34m\u001b[0m\u001b[0;34m\u001b[0m\n",
       "\u001b[0;34m\u001b[0m    \u001b[0;32mreturn\u001b[0m \u001b[0minstructions\u001b[0m\u001b[0;34m\u001b[0m\u001b[0;34m\u001b[0m\u001b[0m\n",
       "\u001b[0;31mFile:\u001b[0m      ~/.local/lib/python3.8/site-packages/wfsim/strax_interface.py\n",
       "\u001b[0;31mType:\u001b[0m      function\n"
      ]
     },
     "metadata": {},
     "output_type": "display_data"
    }
   ],
   "source": [
    "wfsim.strax_interface.rand_instructions??"
   ]
  },
  {
   "cell_type": "markdown",
   "metadata": {},
   "source": [
    "### Custom\n",
    "This is some more fun. To do this we'll write a new function which returns a structured numpy array with the correct dtype."
   ]
  },
  {
   "cell_type": "code",
   "execution_count": 7,
   "metadata": {
    "ExecuteTime": {
     "end_time": "2021-05-10T12:46:14.657185Z",
     "start_time": "2021-05-10T12:46:14.650125Z"
    }
   },
   "outputs": [
    {
     "data": {
      "text/plain": [
       "[(('Waveform simulator event number.', 'event_number'), numpy.int32),\n",
       " (('Quanta type (S1 photons or S2 electrons)', 'type'), numpy.int8),\n",
       " (('Time of the interaction [ns]', 'time'), numpy.int64),\n",
       " (('X position of the cluster[cm]', 'x'), numpy.float32),\n",
       " (('Y position of the cluster[cm]', 'y'), numpy.float32),\n",
       " (('Z position of the cluster[cm]', 'z'), numpy.float32),\n",
       " (('Number of quanta', 'amp'), numpy.int32),\n",
       " (('Recoil type of interaction.', 'recoil'), numpy.int8),\n",
       " (('Energy deposit of interaction', 'e_dep'), numpy.float32),\n",
       " (('Eventid like in geant4 output rootfile', 'g4id'), numpy.int32),\n",
       " (('Volume id giving the detector subvolume', 'vol_id'), numpy.int32),\n",
       " (('Local field [ V / cm ]', 'local_field'), numpy.float64),\n",
       " (('Number of excitons', 'n_excitons'), numpy.int32)]"
      ]
     },
     "execution_count": 7,
     "metadata": {},
     "output_type": "execute_result"
    }
   ],
   "source": [
    "wfsim.instruction_dtype"
   ]
  },
  {
   "cell_type": "markdown",
   "metadata": {},
   "source": [
    "Event number is just a lable which peaks are together. type is either 1(S1) or 2 (S2). In the truth higher numbers are also used to refer to different types of afterpulses. time,x,y,z are the time and positions of the signal. Amp is the number of photons or electrons generated, and recoil can be used for different types of recoil (but only Electronic recoil is supported). Recoil is a number according to the NEST convention which will be used to indicate which interaction. For the key look here: https://github.com/XENONnT/WFSim/blob/2c614b0f7b0d7c7adc516f6188e281857e8d7e22/wfsim/core.py#L22"
   ]
  },
  {
   "cell_type": "markdown",
   "metadata": {},
   "source": [
    "Now, lets say we want some krypton peaks. For this we'll need to change the default instruction function to include this double decay and use Nestpy to convert energy deposits into a number of photons and electrons.\n",
    "\n",
    "In this case I'll use 1 \"event\" per full decay, that where all the 4's are coming from."
   ]
  },
  {
   "cell_type": "code",
   "execution_count": 8,
   "metadata": {
    "ExecuteTime": {
     "end_time": "2021-05-10T12:46:14.670469Z",
     "start_time": "2021-05-10T12:46:14.661817Z"
    }
   },
   "outputs": [],
   "source": [
    "def super_awesome_custom_instruction(c):\n",
    "    import nestpy\n",
    "    half_life = 156.94e-9 #Kr intermediate state half-life in ns\n",
    "    decay_energies = [32.2,9.4] # Decay energies in kev\n",
    "    \n",
    "    n = c['nevents'] = c['event_rate'] * c['chunk_size'] * c['nchunk']\n",
    "    c['total_time'] = c['chunk_size'] * c['nchunk']\n",
    "\n",
    "    instructions = np.zeros(4 * n, dtype=wfsim.instruction_dtype)\n",
    "    instructions['event_number'] = np.digitize(instructions['time'],\n",
    "         1e9 * np.arange(c['nchunk']) * c['chunk_size']) - 1\n",
    "    \n",
    "    instructions['type'] = np.tile([1, 2], 2 * n)\n",
    "    instructions['recoil'] = [7 for i in range(4 * n)]\n",
    "    \n",
    "    r = np.sqrt(np.random.uniform(0, 2500, n))\n",
    "    t = np.random.uniform(-np.pi, np.pi, n)\n",
    "    instructions['x'] = np.repeat(r * np.cos(t), 4)\n",
    "    instructions['y'] = np.repeat(r * np.sin(t), 4)\n",
    "    instructions['z'] = np.repeat(np.random.uniform(-100, 0, n), 4)\n",
    "    \n",
    "    #To get the correct times we'll need to include the 156.94 ns half life of the intermediate state.\n",
    "\n",
    "    uniform_times = c['total_time'] * (np.arange(n) + 0.5) / n\n",
    "    delayed_times = uniform_times + np.random.exponential(half_life/np.log(2),len(uniform_times))\n",
    "    instructions['time'] = np.repeat(list(zip(uniform_times,delayed_times)),2) * 1e9\n",
    "\n",
    "\n",
    "    # Here we'll define our XENON-like detector\n",
    "    nc = nestpy.NESTcalc(nestpy.VDetector())\n",
    "    A = 131.293\n",
    "    Z = 54.\n",
    "    density = 2.862  # g/cm^3   #SR1 Value\n",
    "    drift_field = 82  # V/cm    #SR1 Value\n",
    "    interaction = nestpy.INTERACTION_TYPE(7)\n",
    "    \n",
    "    energy = np.tile(decay_energies,n)\n",
    "    quanta = []\n",
    "    exciton = []\n",
    "    for en in energy:\n",
    "        y = nc.GetYields(interaction,\n",
    "                         en,\n",
    "                         density,\n",
    "                         drift_field,\n",
    "                         A,\n",
    "                         Z,\n",
    "                         (1, 1))\n",
    "        q = nc.GetQuanta(y, density)\n",
    "        quanta.append(q.photons)\n",
    "        quanta.append(q.electrons)\n",
    "        exciton.append(q.excitons)\n",
    "        exciton.append(0)\n",
    "        \n",
    "    instructions['amp'] = quanta\n",
    "    instructions['local_field'] = drift_field\n",
    "    instructions['n_excitons'] = exciton\n",
    "\n",
    "    return instructions"
   ]
  },
  {
   "cell_type": "markdown",
   "metadata": {},
   "source": [
    "Now here comes the magic line:"
   ]
  },
  {
   "cell_type": "code",
   "execution_count": 9,
   "metadata": {
    "ExecuteTime": {
     "end_time": "2021-05-10T12:46:14.677858Z",
     "start_time": "2021-05-10T12:46:14.674843Z"
    }
   },
   "outputs": [],
   "source": [
    "wfsim.strax_interface.rand_instructions = super_awesome_custom_instruction"
   ]
  },
  {
   "cell_type": "markdown",
   "metadata": {},
   "source": [
    "This changes the default rand_instruction function in our own super awesome function. So when the simulator will call rand_instruction the code from super_awesome_custom_instruction will be executed"
   ]
  },
  {
   "cell_type": "markdown",
   "metadata": {},
   "source": [
    "### CSV\n",
    "The format for csv files is the same as the instructions dtype. So on every line specify event_number,type,time ,x,y,z, amp and recoil in that order.\n",
    "Then tell the simulator it exists:\n"
   ]
  },
  {
   "cell_type": "code",
   "execution_count": 10,
   "metadata": {
    "ExecuteTime": {
     "end_time": "2021-05-10T12:46:14.684799Z",
     "start_time": "2021-05-10T12:46:14.681844Z"
    }
   },
   "outputs": [],
   "source": [
    "st.set_config(dict(fax_file='instructions.csv'))"
   ]
  },
  {
   "cell_type": "markdown",
   "metadata": {},
   "source": [
    "Ofcourse if you do not have this file it will not work"
   ]
  },
  {
   "cell_type": "markdown",
   "metadata": {},
   "source": [
    "### Geant4\n",
    "For starters you'll need to register the Epix plugin. This requires an epix configuration (it's on private_nt_aux_files), and if you want a start and stop event."
   ]
  },
  {
   "cell_type": "code",
   "execution_count": 11,
   "metadata": {
    "ExecuteTime": {
     "end_time": "2021-05-10T12:46:14.693993Z",
     "start_time": "2021-05-10T12:46:14.689195Z"
    }
   },
   "outputs": [],
   "source": [
    "st.register(wfsim.strax_interface.RawRecordsFromMcChain)\n",
    "st.set_config(dict(fax_file    = 'path_to_g4_file',\n",
    "                   epix_config = 'path_to_config'))"
   ]
  },
  {
   "cell_type": "markdown",
   "metadata": {},
   "source": [
    "### Optical"
   ]
  },
  {
   "cell_type": "markdown",
   "metadata": {},
   "source": [
    "Similar to above, register correct plugin and file:"
   ]
  },
  {
   "cell_type": "code",
   "execution_count": 12,
   "metadata": {
    "ExecuteTime": {
     "end_time": "2021-05-10T12:46:14.702591Z",
     "start_time": "2021-05-10T12:46:14.697845Z"
    }
   },
   "outputs": [],
   "source": [
    "st.register(wfsim.strax_interface.RawRecordsFromMcChain)\n",
    "st.set_config(dict(fax_file = 'path_to_g4_file',))"
   ]
  },
  {
   "cell_type": "markdown",
   "metadata": {},
   "source": [
    "### nVeto\n",
    "\n",
    "Because the nveto is a different system it has a slightly different configuration. This is not entirely finished. Once it is you can run like so:"
   ]
  },
  {
   "cell_type": "code",
   "execution_count": 13,
   "metadata": {
    "ExecuteTime": {
     "end_time": "2021-05-10T12:46:14.711697Z",
     "start_time": "2021-05-10T12:46:14.706717Z"
    }
   },
   "outputs": [],
   "source": [
    "st.register(wfsim.strax_interface.RawRecordsFromFaxnVeto)\n",
    "st.set_config(dict(fax_config_nveto = 'path_to_nveto_config_file',\n",
    "                  fax_file          = 'path_to_g4_file',))"
   ]
  },
  {
   "cell_type": "markdown",
   "metadata": {},
   "source": [
    "## Configuration customization\n",
    "The simulator using a larger large amount of configuration settings to do it's magic. Some of them are best left along, like pmt_circuit_load_resistor. Others on the other hand are things you might want change a bit to see how the data will change. Unfortunately currently the full list is spread out over two different places. One is the fax config json which is on github. The other is the option list in strax. Besides those things like pattern maps are hardcoded in load_resource.py. These files are overrideable with the option \"fax_config_override\""
   ]
  },
  {
   "cell_type": "markdown",
   "metadata": {},
   "source": [
    "The strax config is viewable like this and can be changed by st.set_config(dict(option you want=value you want))"
   ]
  },
  {
   "cell_type": "code",
   "execution_count": 14,
   "metadata": {
    "ExecuteTime": {
     "end_time": "2021-05-10T12:46:14.742336Z",
     "start_time": "2021-05-10T12:46:14.715680Z"
    }
   },
   "outputs": [
    {
     "data": {
      "text/html": [
       "<div>\n",
       "<style scoped>\n",
       "    .dataframe tbody tr th:only-of-type {\n",
       "        vertical-align: middle;\n",
       "    }\n",
       "\n",
       "    .dataframe tbody tr th {\n",
       "        vertical-align: top;\n",
       "    }\n",
       "\n",
       "    .dataframe thead th {\n",
       "        text-align: right;\n",
       "    }\n",
       "</style>\n",
       "<table border=\"1\" class=\"dataframe\">\n",
       "  <thead>\n",
       "    <tr style=\"text-align: right;\">\n",
       "      <th></th>\n",
       "      <th>option</th>\n",
       "      <th>default</th>\n",
       "      <th>current</th>\n",
       "      <th>applies_to</th>\n",
       "      <th>help</th>\n",
       "    </tr>\n",
       "  </thead>\n",
       "  <tbody>\n",
       "    <tr>\n",
       "      <th>0</th>\n",
       "      <td>detector</td>\n",
       "      <td>XENONnT</td>\n",
       "      <td>XENONnT</td>\n",
       "      <td>(raw_records, raw_records_he, raw_records_aqmo...</td>\n",
       "      <td></td>\n",
       "    </tr>\n",
       "    <tr>\n",
       "      <th>1</th>\n",
       "      <td>event_rate</td>\n",
       "      <td>1000</td>\n",
       "      <td>5</td>\n",
       "      <td>(raw_records, raw_records_he, raw_records_aqmo...</td>\n",
       "      <td>Average number of events per second</td>\n",
       "    </tr>\n",
       "    <tr>\n",
       "      <th>2</th>\n",
       "      <td>chunk_size</td>\n",
       "      <td>100</td>\n",
       "      <td>10</td>\n",
       "      <td>(raw_records, raw_records_he, raw_records_aqmo...</td>\n",
       "      <td>Duration of each chunk in seconds</td>\n",
       "    </tr>\n",
       "    <tr>\n",
       "      <th>3</th>\n",
       "      <td>nchunk</td>\n",
       "      <td>10</td>\n",
       "      <td>1</td>\n",
       "      <td>(raw_records, raw_records_he, raw_records_aqmo...</td>\n",
       "      <td>Number of chunks to simulate</td>\n",
       "    </tr>\n",
       "    <tr>\n",
       "      <th>4</th>\n",
       "      <td>fax_file</td>\n",
       "      <td>None</td>\n",
       "      <td>path_to_g4_file</td>\n",
       "      <td>(raw_records, raw_records_he, raw_records_aqmo...</td>\n",
       "      <td>Directory with fax instructions</td>\n",
       "    </tr>\n",
       "    <tr>\n",
       "      <th>5</th>\n",
       "      <td>fax_config</td>\n",
       "      <td>fax_config_nt_design.json</td>\n",
       "      <td>fax_config_nt_design.json</td>\n",
       "      <td>(raw_records, raw_records_he, raw_records_aqmo...</td>\n",
       "      <td></td>\n",
       "    </tr>\n",
       "    <tr>\n",
       "      <th>6</th>\n",
       "      <td>fax_config_override</td>\n",
       "      <td>None</td>\n",
       "      <td>&lt;OMITTED&gt;</td>\n",
       "      <td>(raw_records, raw_records_he, raw_records_aqmo...</td>\n",
       "      <td>Dictionary with configuration option overrides</td>\n",
       "    </tr>\n",
       "    <tr>\n",
       "      <th>7</th>\n",
       "      <td>fax_config_override_from_cmt</td>\n",
       "      <td>None</td>\n",
       "      <td>{'drift_time_gate': ('cmt_run_id', '00001', 'e...</td>\n",
       "      <td>(raw_records, raw_records_he, raw_records_aqmo...</td>\n",
       "      <td>Dictionary of fax parameter names (key) mapped...</td>\n",
       "    </tr>\n",
       "    <tr>\n",
       "      <th>8</th>\n",
       "      <td>gain_model_mc</td>\n",
       "      <td>(to_pe_per_run, to_pe_nt.npy)</td>\n",
       "      <td>(cmt_run_id, 00001, to_pe_model, v4, True)</td>\n",
       "      <td>(raw_records, raw_records_he, raw_records_aqmo...</td>\n",
       "      <td>PMT gain model. Specify as (model_type, model_...</td>\n",
       "    </tr>\n",
       "    <tr>\n",
       "      <th>9</th>\n",
       "      <td>channel_map</td>\n",
       "      <td>&lt;OMITTED&gt;</td>\n",
       "      <td>(tpc, he, aqmon, aqmon_nv, tpc_blank, mv, aux_...</td>\n",
       "      <td>(raw_records, raw_records_he, raw_records_aqmo...</td>\n",
       "      <td>immutabledict mapping subdetector to (min, max...</td>\n",
       "    </tr>\n",
       "    <tr>\n",
       "      <th>10</th>\n",
       "      <td>n_tpc_pmts</td>\n",
       "      <td>&lt;OMITTED&gt;</td>\n",
       "      <td>494</td>\n",
       "      <td>(raw_records, raw_records_he, raw_records_aqmo...</td>\n",
       "      <td>Number of pmts in tpc. Provided by context</td>\n",
       "    </tr>\n",
       "    <tr>\n",
       "      <th>11</th>\n",
       "      <td>n_top_pmts</td>\n",
       "      <td>&lt;OMITTED&gt;</td>\n",
       "      <td>253</td>\n",
       "      <td>(raw_records, raw_records_he, raw_records_aqmo...</td>\n",
       "      <td>Number of pmts in top array. Provided by context</td>\n",
       "    </tr>\n",
       "    <tr>\n",
       "      <th>12</th>\n",
       "      <td>right_raw_extension</td>\n",
       "      <td>100000</td>\n",
       "      <td>&lt;OMITTED&gt;</td>\n",
       "      <td>(raw_records, raw_records_he, raw_records_aqmo...</td>\n",
       "      <td></td>\n",
       "    </tr>\n",
       "    <tr>\n",
       "      <th>13</th>\n",
       "      <td>seed</td>\n",
       "      <td>False</td>\n",
       "      <td>&lt;OMITTED&gt;</td>\n",
       "      <td>(raw_records, raw_records_he, raw_records_aqmo...</td>\n",
       "      <td>Option for setting the seed of the random numb...</td>\n",
       "    </tr>\n",
       "    <tr>\n",
       "      <th>14</th>\n",
       "      <td>neutron_veto</td>\n",
       "      <td>False</td>\n",
       "      <td>&lt;OMITTED&gt;</td>\n",
       "      <td>(raw_records, raw_records_he, raw_records_aqmo...</td>\n",
       "      <td>Flag for nVeto optical simulation instead of TPC</td>\n",
       "    </tr>\n",
       "    <tr>\n",
       "      <th>15</th>\n",
       "      <td>epix_config</td>\n",
       "      <td>{}</td>\n",
       "      <td>path_to_config</td>\n",
       "      <td>(raw_records, raw_records_he, raw_records_aqmo...</td>\n",
       "      <td>Dict with epix configuration</td>\n",
       "    </tr>\n",
       "    <tr>\n",
       "      <th>16</th>\n",
       "      <td>entry_start</td>\n",
       "      <td>0</td>\n",
       "      <td>&lt;OMITTED&gt;</td>\n",
       "      <td>(raw_records, raw_records_he, raw_records_aqmo...</td>\n",
       "      <td></td>\n",
       "    </tr>\n",
       "    <tr>\n",
       "      <th>17</th>\n",
       "      <td>entry_stop</td>\n",
       "      <td>None</td>\n",
       "      <td>&lt;OMITTED&gt;</td>\n",
       "      <td>(raw_records, raw_records_he, raw_records_aqmo...</td>\n",
       "      <td>G4 id event number to stop at. If -1 process t...</td>\n",
       "    </tr>\n",
       "    <tr>\n",
       "      <th>18</th>\n",
       "      <td>fax_config_nveto</td>\n",
       "      <td>None</td>\n",
       "      <td>path_to_nveto_config_file</td>\n",
       "      <td>(raw_records, raw_records_he, raw_records_aqmo...</td>\n",
       "      <td></td>\n",
       "    </tr>\n",
       "    <tr>\n",
       "      <th>19</th>\n",
       "      <td>fax_config_override_nveto</td>\n",
       "      <td>None</td>\n",
       "      <td>&lt;OMITTED&gt;</td>\n",
       "      <td>(raw_records, raw_records_he, raw_records_aqmo...</td>\n",
       "      <td>Dictionary with configuration option overrides</td>\n",
       "    </tr>\n",
       "    <tr>\n",
       "      <th>20</th>\n",
       "      <td>gain_model_nv</td>\n",
       "      <td>&lt;OMITTED&gt;</td>\n",
       "      <td>(cmt_run_id, 00001, to_pe_model_nv, v2, True)</td>\n",
       "      <td>(raw_records, raw_records_he, raw_records_aqmo...</td>\n",
       "      <td>nveto gain model, provided by context</td>\n",
       "    </tr>\n",
       "    <tr>\n",
       "      <th>21</th>\n",
       "      <td>targets</td>\n",
       "      <td>(tpc,)</td>\n",
       "      <td>&lt;OMITTED&gt;</td>\n",
       "      <td>(raw_records, raw_records_he, raw_records_aqmo...</td>\n",
       "      <td>tuple with what data to simulate (tpc, nveto o...</td>\n",
       "    </tr>\n",
       "  </tbody>\n",
       "</table>\n",
       "</div>"
      ],
      "text/plain": [
       "                          option                        default  \\\n",
       "0                       detector                        XENONnT   \n",
       "1                     event_rate                           1000   \n",
       "2                     chunk_size                            100   \n",
       "3                         nchunk                             10   \n",
       "4                       fax_file                           None   \n",
       "5                     fax_config      fax_config_nt_design.json   \n",
       "6            fax_config_override                           None   \n",
       "7   fax_config_override_from_cmt                           None   \n",
       "8                  gain_model_mc  (to_pe_per_run, to_pe_nt.npy)   \n",
       "9                    channel_map                      <OMITTED>   \n",
       "10                    n_tpc_pmts                      <OMITTED>   \n",
       "11                    n_top_pmts                      <OMITTED>   \n",
       "12           right_raw_extension                         100000   \n",
       "13                          seed                          False   \n",
       "14                  neutron_veto                          False   \n",
       "15                   epix_config                             {}   \n",
       "16                   entry_start                              0   \n",
       "17                    entry_stop                           None   \n",
       "18              fax_config_nveto                           None   \n",
       "19     fax_config_override_nveto                           None   \n",
       "20                 gain_model_nv                      <OMITTED>   \n",
       "21                       targets                         (tpc,)   \n",
       "\n",
       "                                              current  \\\n",
       "0                                             XENONnT   \n",
       "1                                                   5   \n",
       "2                                                  10   \n",
       "3                                                   1   \n",
       "4                                     path_to_g4_file   \n",
       "5                           fax_config_nt_design.json   \n",
       "6                                           <OMITTED>   \n",
       "7   {'drift_time_gate': ('cmt_run_id', '00001', 'e...   \n",
       "8          (cmt_run_id, 00001, to_pe_model, v4, True)   \n",
       "9   (tpc, he, aqmon, aqmon_nv, tpc_blank, mv, aux_...   \n",
       "10                                                494   \n",
       "11                                                253   \n",
       "12                                          <OMITTED>   \n",
       "13                                          <OMITTED>   \n",
       "14                                          <OMITTED>   \n",
       "15                                     path_to_config   \n",
       "16                                          <OMITTED>   \n",
       "17                                          <OMITTED>   \n",
       "18                          path_to_nveto_config_file   \n",
       "19                                          <OMITTED>   \n",
       "20      (cmt_run_id, 00001, to_pe_model_nv, v2, True)   \n",
       "21                                          <OMITTED>   \n",
       "\n",
       "                                           applies_to  \\\n",
       "0   (raw_records, raw_records_he, raw_records_aqmo...   \n",
       "1   (raw_records, raw_records_he, raw_records_aqmo...   \n",
       "2   (raw_records, raw_records_he, raw_records_aqmo...   \n",
       "3   (raw_records, raw_records_he, raw_records_aqmo...   \n",
       "4   (raw_records, raw_records_he, raw_records_aqmo...   \n",
       "5   (raw_records, raw_records_he, raw_records_aqmo...   \n",
       "6   (raw_records, raw_records_he, raw_records_aqmo...   \n",
       "7   (raw_records, raw_records_he, raw_records_aqmo...   \n",
       "8   (raw_records, raw_records_he, raw_records_aqmo...   \n",
       "9   (raw_records, raw_records_he, raw_records_aqmo...   \n",
       "10  (raw_records, raw_records_he, raw_records_aqmo...   \n",
       "11  (raw_records, raw_records_he, raw_records_aqmo...   \n",
       "12  (raw_records, raw_records_he, raw_records_aqmo...   \n",
       "13  (raw_records, raw_records_he, raw_records_aqmo...   \n",
       "14  (raw_records, raw_records_he, raw_records_aqmo...   \n",
       "15  (raw_records, raw_records_he, raw_records_aqmo...   \n",
       "16  (raw_records, raw_records_he, raw_records_aqmo...   \n",
       "17  (raw_records, raw_records_he, raw_records_aqmo...   \n",
       "18  (raw_records, raw_records_he, raw_records_aqmo...   \n",
       "19  (raw_records, raw_records_he, raw_records_aqmo...   \n",
       "20  (raw_records, raw_records_he, raw_records_aqmo...   \n",
       "21  (raw_records, raw_records_he, raw_records_aqmo...   \n",
       "\n",
       "                                                 help  \n",
       "0                                                      \n",
       "1                 Average number of events per second  \n",
       "2                   Duration of each chunk in seconds  \n",
       "3                        Number of chunks to simulate  \n",
       "4                     Directory with fax instructions  \n",
       "5                                                      \n",
       "6      Dictionary with configuration option overrides  \n",
       "7   Dictionary of fax parameter names (key) mapped...  \n",
       "8   PMT gain model. Specify as (model_type, model_...  \n",
       "9   immutabledict mapping subdetector to (min, max...  \n",
       "10         Number of pmts in tpc. Provided by context  \n",
       "11   Number of pmts in top array. Provided by context  \n",
       "12                                                     \n",
       "13  Option for setting the seed of the random numb...  \n",
       "14   Flag for nVeto optical simulation instead of TPC  \n",
       "15                       Dict with epix configuration  \n",
       "16                                                     \n",
       "17  G4 id event number to stop at. If -1 process t...  \n",
       "18                                                     \n",
       "19     Dictionary with configuration option overrides  \n",
       "20              nveto gain model, provided by context  \n",
       "21  tuple with what data to simulate (tpc, nveto o...  "
      ]
     },
     "execution_count": 14,
     "metadata": {},
     "output_type": "execute_result"
    }
   ],
   "source": [
    "st.show_config('raw_records')"
   ]
  },
  {
   "cell_type": "markdown",
   "metadata": {},
   "source": [
    "With the following block you can visualized which fax config you are using. Remeber that the fax config files are stored in **private_nt_aux_files** github repository, in the **sim_files** folder."
   ]
  },
  {
   "cell_type": "code",
   "execution_count": 15,
   "metadata": {
    "ExecuteTime": {
     "end_time": "2021-05-10T12:46:14.750813Z",
     "start_time": "2021-05-10T12:46:14.746036Z"
    }
   },
   "outputs": [
    {
     "data": {
      "text/plain": [
       "'fax_config_nt_design.json'"
      ]
     },
     "execution_count": 15,
     "metadata": {},
     "output_type": "execute_result"
    }
   ],
   "source": [
    "st.config['fax_config']"
   ]
  },
  {
   "cell_type": "markdown",
   "metadata": {},
   "source": [
    "The config from github can be loaded as:"
   ]
  },
  {
   "cell_type": "code",
   "execution_count": 16,
   "metadata": {
    "ExecuteTime": {
     "end_time": "2021-05-10T12:46:15.048319Z",
     "start_time": "2021-05-10T12:46:14.754783Z"
    }
   },
   "outputs": [
    {
     "data": {
      "text/plain": [
       "dict_keys(['s1_model_type', 's2_luminescence_model', 'enable_gas_gap_warping', 'enable_pmt_afterpulses', 'enable_electron_afterpulses', 'enable_noise', 'field_distortion_on', 'enable_field_dependencies', 'url_base', 'photon_area_distribution', 's1_pattern_map', 's2_pattern_map', 'photon_ap_cdfs', 's2_luminescence', 'gas_gap_map', 'temperature', 'pressure', 'lxe_dielectric_constant', 'tpc_length', 'tpc_radius', 'anode_wire_radius', 'anode_field_domination_distance', 'elr_gas_gap_length', 'gate_to_anode_distance', 'drift_field', 'anode_voltage', 'diffusion_constant_longitudinal', 'diffusion_constant_transverse', 'drift_time_gate', 'drift_velocity_liquid', 'singlet_fraction_gas', 'singlet_lifetime_gas', 'singlet_lifetime_liquid', 'triplet_lifetime_gas', 'triplet_lifetime_liquid', 's1_ER_alpha_singlet_fraction', 's1_ER_primary_singlet_fraction', 's1_ER_recombination_fraction', 's1_ER_recombination_time', 's1_ER_secondary_singlet_fraction', 's1_NR_singlet_fraction', 'maximum_recombination_time', 's1_decay_spread', 's1_decay_time', 's1_detection_efficiency', 's2_mean_area_fraction_top', 's2_secondary_sc_gain', 's2_time_spread', 'electron_extraction_yield', 'electron_lifetime_liquid', 'electron_trapping_time', 'gas_drift_velocity_slope', 'p_double_pe_emision', 'pe_pulse_ts', 'pe_pulse_ys', 'pmt_ap_modifier', 'pmt_ap_t_modifier', 'pmt_pulse_time_rounding', 'pmt_transit_time_mean', 'pmt_transit_time_spread', 'photoelectric_modifier', 'photoelectric_p', 'photoelectric_t_center', 'photoelectric_t_spread', 'photoionization_modifier', 'sample_duration', 'samples_after_pulse_center', 'samples_before_pulse_center', 'samples_to_store_after', 'samples_to_store_before', 'pmt_circuit_load_resistor', 'external_amplification', 'high_energy_deamplification_factor', 'trigger_window', 'digitizer_bits', 'digitizer_reference_baseline', 'digitizer_voltage_range', 'special_thresholds', 'zle_threshold'])"
      ]
     },
     "execution_count": 16,
     "metadata": {},
     "output_type": "execute_result"
    }
   ],
   "source": [
    "straxen.get_resource('fax_config_nt_design.json',fmt='json').keys()"
   ]
  },
  {
   "cell_type": "markdown",
   "metadata": {},
   "source": [
    "Changing things in this guy goes slightly different. In the strax option list there is the option called \"fax_config_override\". This takes a dict which will be used to override any values in the json config.\n",
    "So changing the 's2_secondary_sc_gain' is done as:"
   ]
  },
  {
   "cell_type": "code",
   "execution_count": 17,
   "metadata": {
    "ExecuteTime": {
     "end_time": "2021-05-10T12:46:15.055554Z",
     "start_time": "2021-05-10T12:46:15.052155Z"
    }
   },
   "outputs": [],
   "source": [
    "st.set_config(dict(fax_config_override = dict(s2_secondary_sc_gain=23)))"
   ]
  },
  {
   "cell_type": "markdown",
   "metadata": {},
   "source": [
    "## Things you might want to change\n",
    "\n",
    "There are 4 main things you might be interested in changing. They are:\n",
    " * Noise (True/False)\n",
    " * PMTAfterpulses (True/False)\n",
    " * Electron Afterpulses (True/False)\n",
    " * S2 luminescence (Simple or garfield)\n",
    "\n",
    "They are controled by config settings you can change as so:\n"
   ]
  },
  {
   "cell_type": "code",
   "execution_count": 18,
   "metadata": {
    "ExecuteTime": {
     "end_time": "2021-05-10T12:46:15.063269Z",
     "start_time": "2021-05-10T12:46:15.059057Z"
    }
   },
   "outputs": [],
   "source": [
    "st.set_config(dict(fax_config_override=dict(\n",
    "            s2_luminescence_model='simple',\n",
    "            enable_noise=False,\n",
    "            enable_pmt_afterpulses=False,\n",
    "            enable_electron_afterpulses=False,)))\n",
    "    "
   ]
  },
  {
   "cell_type": "markdown",
   "metadata": {},
   "source": [
    "## What actually happens?\n",
    "\n",
    "\n",
    "\n",
    "What happens behind the scenes is that the instructions are first grouped together in chunks. Then we loop over the instructions and the full chunk is returned before starting with the next one.\n",
    "\n",
    "We use a S1 and S2 class to calculate the arrival times of the photons and the channels which have been hit. Then we'll hand them over to the Pulse class to calculate the currents in the channels. Finally the currents go to a RawData class where we fake the digitizer response.\n",
    "\n",
    "### S1\n",
    "\n",
    "For S1s we start with calculating the light yield based on the position of the interaction, and draw the number of photons seen from a Poisson distribution.\n",
    "\n",
    "Second we calculate the arrival times of the photons. This is based on the scintillation of the xenon atoms. It is dependend on the recombination time, the singlet and triplet fractions.\n",
    "\n",
    "Finally the channels are calculated. Based on the pattern map we use a interpolation map to get a probability distribution for channels to be hit for a S1 signal based on the position of the interaction, and then we draw from this distribution for every photon.\n",
    "\n",
    "### S2\n",
    "\n",
    "S2s are slightly more complicated. First we need to drift the electrons up, and while doing so we'll lose some of them.\n",
    "To get the photon timings, we first need to get the arrival times of the electrons at the gas interface based on a diffusion model. Then we can calculate the photon timings based on a luminescence model for every individual electron. And for the channels we do the same trick with the interpolating map.\n",
    "\n",
    "\n",
    "### Pulse\n",
    "\n",
    "When we have our lists of channels and timing we can generate actual pulses. First we add a pmt transition time. Then we loop over all channels, calculate the double pe emission probabilities, and add a current in the pmt channel based on the arrival time. This is all stored in a big dictionary. Afterwards this is passed to our fake digitizers which then returns you with your very own pretty data\n"
   ]
  },
  {
   "cell_type": "markdown",
   "metadata": {},
   "source": [
    "### Getting down to bussiness\n",
    "\n",
    "\n",
    "Now we have access to all the normal strax data types, and another one called 'truth' which holds the simulation instructions. Calling it follows the normal strax convention."
   ]
  },
  {
   "cell_type": "code",
   "execution_count": 19,
   "metadata": {
    "ExecuteTime": {
     "end_time": "2021-05-10T12:46:15.088492Z",
     "start_time": "2021-05-10T12:46:15.065010Z"
    }
   },
   "outputs": [],
   "source": [
    "st = straxen.contexts.xenonnt_simulation(cmt_run_id_sim='00001')\n",
    "st.set_config(dict(nchunk=1, event_rate=5, chunk_size=5, fax_file=None))"
   ]
  },
  {
   "cell_type": "code",
   "execution_count": 20,
   "metadata": {
    "ExecuteTime": {
     "end_time": "2021-05-10T12:46:48.016971Z",
     "start_time": "2021-05-10T12:46:15.092214Z"
    },
    "scrolled": true
   },
   "outputs": [
    {
     "data": {
      "application/vnd.jupyter.widget-view+json": {
       "model_id": "369591f713184bd3b1ebffec562ecc5d",
       "version_major": 2,
       "version_minor": 0
      },
      "text/plain": [
       "Loading records: |          | 0.00 % [00:00<?]"
      ]
     },
     "metadata": {},
     "output_type": "display_data"
    },
    {
     "data": {
      "application/vnd.jupyter.widget-view+json": {
       "model_id": "7e690535c119454eb967a508ddc2c1e0",
       "version_major": 2,
       "version_minor": 0
      },
      "text/plain": [
       "Loading truth: |          | 0.00 % [00:00<?]"
      ]
     },
     "metadata": {},
     "output_type": "display_data"
    }
   ],
   "source": [
    "# Remove any previously simulated data, if such exists\n",
    "# !rm -r strax_data\n",
    "\n",
    "records = st.get_array(run_id,'records')\n",
    "# peaks = st.get_array(run_id, ['peaks','peak_basics'])\n",
    "# data = st.get_df(run_id, 'event_info')\n",
    "\n",
    "truth = st.get_df(run_id, 'truth')"
   ]
  },
  {
   "cell_type": "markdown",
   "metadata": {},
   "source": [
    "Now it is time to make pretty plots and see if what we makes actually makes any sense"
   ]
  },
  {
   "cell_type": "code",
   "execution_count": 21,
   "metadata": {
    "ExecuteTime": {
     "end_time": "2021-05-10T12:46:55.867868Z",
     "start_time": "2021-05-10T12:46:48.020520Z"
    }
   },
   "outputs": [
    {
     "data": {
      "application/vnd.jupyter.widget-view+json": {
       "model_id": "809fba5e30704dfb9293479dd4037abd",
       "version_major": 2,
       "version_minor": 0
      },
      "text/plain": [
       "Loading peak_basics: |          | 0.00 % [00:00<?]"
      ]
     },
     "metadata": {},
     "output_type": "display_data"
    }
   ],
   "source": [
    "peak_basics = st.get_df(run_id, 'peak_basics')"
   ]
  },
  {
   "cell_type": "code",
   "execution_count": 22,
   "metadata": {
    "ExecuteTime": {
     "end_time": "2021-05-10T12:46:55.889545Z",
     "start_time": "2021-05-10T12:46:55.871860Z"
    }
   },
   "outputs": [
    {
     "data": {
      "text/html": [
       "<div>\n",
       "<style scoped>\n",
       "    .dataframe tbody tr th:only-of-type {\n",
       "        vertical-align: middle;\n",
       "    }\n",
       "\n",
       "    .dataframe tbody tr th {\n",
       "        vertical-align: top;\n",
       "    }\n",
       "\n",
       "    .dataframe thead th {\n",
       "        text-align: right;\n",
       "    }\n",
       "</style>\n",
       "<table border=\"1\" class=\"dataframe\">\n",
       "  <thead>\n",
       "    <tr style=\"text-align: right;\">\n",
       "      <th></th>\n",
       "      <th>time</th>\n",
       "      <th>endtime</th>\n",
       "      <th>center_time</th>\n",
       "      <th>area</th>\n",
       "      <th>n_channels</th>\n",
       "      <th>max_pmt</th>\n",
       "      <th>max_pmt_area</th>\n",
       "      <th>range_50p_area</th>\n",
       "      <th>range_90p_area</th>\n",
       "      <th>area_fraction_top</th>\n",
       "      <th>length</th>\n",
       "      <th>dt</th>\n",
       "      <th>rise_time</th>\n",
       "      <th>tight_coincidence</th>\n",
       "      <th>type</th>\n",
       "    </tr>\n",
       "  </thead>\n",
       "  <tbody>\n",
       "    <tr>\n",
       "      <th>0</th>\n",
       "      <td>100000030</td>\n",
       "      <td>100000340</td>\n",
       "      <td>100000116</td>\n",
       "      <td>6.008117</td>\n",
       "      <td>2</td>\n",
       "      <td>487</td>\n",
       "      <td>3.396131</td>\n",
       "      <td>84.658058</td>\n",
       "      <td>139.222778</td>\n",
       "      <td>0.434743</td>\n",
       "      <td>31</td>\n",
       "      <td>10</td>\n",
       "      <td>72.558640</td>\n",
       "      <td>1</td>\n",
       "      <td>0</td>\n",
       "    </tr>\n",
       "    <tr>\n",
       "      <th>1</th>\n",
       "      <td>100085020</td>\n",
       "      <td>100090330</td>\n",
       "      <td>100086781</td>\n",
       "      <td>6050.895996</td>\n",
       "      <td>135</td>\n",
       "      <td>138</td>\n",
       "      <td>1673.483521</td>\n",
       "      <td>805.982056</td>\n",
       "      <td>2172.673828</td>\n",
       "      <td>0.933084</td>\n",
       "      <td>177</td>\n",
       "      <td>30</td>\n",
       "      <td>786.898987</td>\n",
       "      <td>34</td>\n",
       "      <td>2</td>\n",
       "    </tr>\n",
       "    <tr>\n",
       "      <th>2</th>\n",
       "      <td>300000050</td>\n",
       "      <td>300000360</td>\n",
       "      <td>300000139</td>\n",
       "      <td>9.503628</td>\n",
       "      <td>2</td>\n",
       "      <td>111</td>\n",
       "      <td>5.884011</td>\n",
       "      <td>71.074753</td>\n",
       "      <td>175.408966</td>\n",
       "      <td>0.619133</td>\n",
       "      <td>31</td>\n",
       "      <td>10</td>\n",
       "      <td>59.963516</td>\n",
       "      <td>1</td>\n",
       "      <td>0</td>\n",
       "    </tr>\n",
       "    <tr>\n",
       "      <th>3</th>\n",
       "      <td>300028280</td>\n",
       "      <td>300032720</td>\n",
       "      <td>300029916</td>\n",
       "      <td>11545.807617</td>\n",
       "      <td>181</td>\n",
       "      <td>32</td>\n",
       "      <td>2268.296875</td>\n",
       "      <td>636.287964</td>\n",
       "      <td>1483.845093</td>\n",
       "      <td>0.900317</td>\n",
       "      <td>148</td>\n",
       "      <td>30</td>\n",
       "      <td>584.498291</td>\n",
       "      <td>61</td>\n",
       "      <td>2</td>\n",
       "    </tr>\n",
       "    <tr>\n",
       "      <th>4</th>\n",
       "      <td>300035520</td>\n",
       "      <td>300037250</td>\n",
       "      <td>300036432</td>\n",
       "      <td>17.388079</td>\n",
       "      <td>7</td>\n",
       "      <td>134</td>\n",
       "      <td>3.215723</td>\n",
       "      <td>884.486389</td>\n",
       "      <td>1485.202148</td>\n",
       "      <td>1.000000</td>\n",
       "      <td>173</td>\n",
       "      <td>10</td>\n",
       "      <td>934.491943</td>\n",
       "      <td>2</td>\n",
       "      <td>2</td>\n",
       "    </tr>\n",
       "    <tr>\n",
       "      <th>5</th>\n",
       "      <td>500000040</td>\n",
       "      <td>500000570</td>\n",
       "      <td>500000244</td>\n",
       "      <td>19.048435</td>\n",
       "      <td>5</td>\n",
       "      <td>375</td>\n",
       "      <td>5.513971</td>\n",
       "      <td>220.591858</td>\n",
       "      <td>359.682007</td>\n",
       "      <td>0.000000</td>\n",
       "      <td>53</td>\n",
       "      <td>10</td>\n",
       "      <td>149.986282</td>\n",
       "      <td>2</td>\n",
       "      <td>2</td>\n",
       "    </tr>\n",
       "    <tr>\n",
       "      <th>6</th>\n",
       "      <td>500960650</td>\n",
       "      <td>500960920</td>\n",
       "      <td>500960710</td>\n",
       "      <td>6.818991</td>\n",
       "      <td>2</td>\n",
       "      <td>128</td>\n",
       "      <td>4.352914</td>\n",
       "      <td>43.098900</td>\n",
       "      <td>83.738449</td>\n",
       "      <td>0.638352</td>\n",
       "      <td>27</td>\n",
       "      <td>10</td>\n",
       "      <td>30.770397</td>\n",
       "      <td>2</td>\n",
       "      <td>1</td>\n",
       "    </tr>\n",
       "    <tr>\n",
       "      <th>7</th>\n",
       "      <td>700000050</td>\n",
       "      <td>700000420</td>\n",
       "      <td>700000145</td>\n",
       "      <td>18.850853</td>\n",
       "      <td>6</td>\n",
       "      <td>373</td>\n",
       "      <td>4.941594</td>\n",
       "      <td>102.237549</td>\n",
       "      <td>178.564667</td>\n",
       "      <td>0.105509</td>\n",
       "      <td>37</td>\n",
       "      <td>10</td>\n",
       "      <td>38.637653</td>\n",
       "      <td>4</td>\n",
       "      <td>1</td>\n",
       "    </tr>\n",
       "    <tr>\n",
       "      <th>8</th>\n",
       "      <td>700001130</td>\n",
       "      <td>700001520</td>\n",
       "      <td>700001257</td>\n",
       "      <td>4.998666</td>\n",
       "      <td>2</td>\n",
       "      <td>423</td>\n",
       "      <td>2.648085</td>\n",
       "      <td>145.234467</td>\n",
       "      <td>272.601288</td>\n",
       "      <td>0.000000</td>\n",
       "      <td>39</td>\n",
       "      <td>10</td>\n",
       "      <td>79.824738</td>\n",
       "      <td>1</td>\n",
       "      <td>0</td>\n",
       "    </tr>\n",
       "    <tr>\n",
       "      <th>9</th>\n",
       "      <td>700599860</td>\n",
       "      <td>700606020</td>\n",
       "      <td>700602521</td>\n",
       "      <td>110.203194</td>\n",
       "      <td>15</td>\n",
       "      <td>99</td>\n",
       "      <td>37.721416</td>\n",
       "      <td>3226.068115</td>\n",
       "      <td>5537.778809</td>\n",
       "      <td>0.930984</td>\n",
       "      <td>154</td>\n",
       "      <td>40</td>\n",
       "      <td>2111.939453</td>\n",
       "      <td>2</td>\n",
       "      <td>2</td>\n",
       "    </tr>\n",
       "  </tbody>\n",
       "</table>\n",
       "</div>"
      ],
      "text/plain": [
       "        time    endtime  center_time          area  n_channels  max_pmt  \\\n",
       "0  100000030  100000340    100000116      6.008117           2      487   \n",
       "1  100085020  100090330    100086781   6050.895996         135      138   \n",
       "2  300000050  300000360    300000139      9.503628           2      111   \n",
       "3  300028280  300032720    300029916  11545.807617         181       32   \n",
       "4  300035520  300037250    300036432     17.388079           7      134   \n",
       "5  500000040  500000570    500000244     19.048435           5      375   \n",
       "6  500960650  500960920    500960710      6.818991           2      128   \n",
       "7  700000050  700000420    700000145     18.850853           6      373   \n",
       "8  700001130  700001520    700001257      4.998666           2      423   \n",
       "9  700599860  700606020    700602521    110.203194          15       99   \n",
       "\n",
       "   max_pmt_area  range_50p_area  range_90p_area  area_fraction_top  length  \\\n",
       "0      3.396131       84.658058      139.222778           0.434743      31   \n",
       "1   1673.483521      805.982056     2172.673828           0.933084     177   \n",
       "2      5.884011       71.074753      175.408966           0.619133      31   \n",
       "3   2268.296875      636.287964     1483.845093           0.900317     148   \n",
       "4      3.215723      884.486389     1485.202148           1.000000     173   \n",
       "5      5.513971      220.591858      359.682007           0.000000      53   \n",
       "6      4.352914       43.098900       83.738449           0.638352      27   \n",
       "7      4.941594      102.237549      178.564667           0.105509      37   \n",
       "8      2.648085      145.234467      272.601288           0.000000      39   \n",
       "9     37.721416     3226.068115     5537.778809           0.930984     154   \n",
       "\n",
       "   dt    rise_time  tight_coincidence  type  \n",
       "0  10    72.558640                  1     0  \n",
       "1  30   786.898987                 34     2  \n",
       "2  10    59.963516                  1     0  \n",
       "3  30   584.498291                 61     2  \n",
       "4  10   934.491943                  2     2  \n",
       "5  10   149.986282                  2     2  \n",
       "6  10    30.770397                  2     1  \n",
       "7  10    38.637653                  4     1  \n",
       "8  10    79.824738                  1     0  \n",
       "9  40  2111.939453                  2     2  "
      ]
     },
     "execution_count": 22,
     "metadata": {},
     "output_type": "execute_result"
    }
   ],
   "source": [
    "peak_basics.head(10)"
   ]
  },
  {
   "cell_type": "markdown",
   "metadata": {},
   "source": [
    "## Matching\n",
    "To do matching with the truth the easiest way is to write a new strax plugin where you loop over peaks and get the truth arrays where the mean arrival time of the photons are within the time window of the peak\n",
    "So that will look something like this:"
   ]
  },
  {
   "cell_type": "code",
   "execution_count": 23,
   "metadata": {
    "ExecuteTime": {
     "end_time": "2021-05-10T12:46:55.899433Z",
     "start_time": "2021-05-10T12:46:55.893984Z"
    }
   },
   "outputs": [],
   "source": [
    "class MatchedPeaks(strax.LoopPlugin):\n",
    "    depends_on = ('peak_basics', 'truth')\n",
    "    provides = 'matched_peaks'\n",
    "    __version__ = '0.0.2'\n",
    "\n",
    "    dtype = [('time', np.int),\n",
    "             ('endtime', np.int),\n",
    "             ('area', np.int),\n",
    "             ('n_photon', np.int)]\n",
    "    \n",
    "    def compute(self, peaks, truth):\n",
    "        result = np.zeros(len(truth), self.dtype)\n",
    "\n",
    "        temp = strax.touching_windows(peaks, truth)\n",
    "        idx_truth = []\n",
    "        idx_peak = []\n",
    "        for ix, (l, r) in enumerate(temp):\n",
    "            res = result[ix]\n",
    "            res['time'] = truth['time'][ix]\n",
    "            res['endtime'] = strax.endtime(truth)[ix]\n",
    "            res['n_photon'] = truth['n_photon'][ix]\n",
    "    \n",
    "            if r > l:\n",
    "                i_peak = l+np.argmax(peaks['area'][l:r])\n",
    "                res['area'] = peaks['area'][i_peak]\n",
    "        \n",
    "        return result"
   ]
  },
  {
   "cell_type": "markdown",
   "metadata": {},
   "source": [
    "Of course this doesn't actually work. An electron afterpulse can be very spread out leading it to be interpreted as multiple peaks while coming from 1 instruction falling outside of the specified range. It would be very much appreciated if someone wants make a more sturdy selection criteria :)\n",
    "\n",
    "For example, checkout out peak matching algorithm for WFSim: https://github.com/XENONnT/pema"
   ]
  },
  {
   "cell_type": "code",
   "execution_count": 24,
   "metadata": {
    "ExecuteTime": {
     "end_time": "2021-05-10T12:46:55.909437Z",
     "start_time": "2021-05-10T12:46:55.903930Z"
    }
   },
   "outputs": [
    {
     "data": {
      "text/plain": [
       "__main__.MatchedPeaks"
      ]
     },
     "execution_count": 24,
     "metadata": {},
     "output_type": "execute_result"
    }
   ],
   "source": [
    "st.register(MatchedPeaks)"
   ]
  },
  {
   "cell_type": "code",
   "execution_count": 25,
   "metadata": {
    "ExecuteTime": {
     "end_time": "2021-05-10T12:46:56.084892Z",
     "start_time": "2021-05-10T12:46:55.913372Z"
    }
   },
   "outputs": [
    {
     "data": {
      "application/vnd.jupyter.widget-view+json": {
       "model_id": "f26814e5d6f742eb8d5bab33abb21dc8",
       "version_major": 2,
       "version_minor": 0
      },
      "text/plain": [
       "Loading matched_peaks: |          | 0.00 % [00:00<?]"
      ]
     },
     "metadata": {},
     "output_type": "display_data"
    },
    {
     "data": {
      "text/html": [
       "<div>\n",
       "<style scoped>\n",
       "    .dataframe tbody tr th:only-of-type {\n",
       "        vertical-align: middle;\n",
       "    }\n",
       "\n",
       "    .dataframe tbody tr th {\n",
       "        vertical-align: top;\n",
       "    }\n",
       "\n",
       "    .dataframe thead th {\n",
       "        text-align: right;\n",
       "    }\n",
       "</style>\n",
       "<table border=\"1\" class=\"dataframe\">\n",
       "  <thead>\n",
       "    <tr style=\"text-align: right;\">\n",
       "      <th></th>\n",
       "      <th>time</th>\n",
       "      <th>endtime</th>\n",
       "      <th>area</th>\n",
       "      <th>n_photon</th>\n",
       "    </tr>\n",
       "  </thead>\n",
       "  <tbody>\n",
       "    <tr>\n",
       "      <th>0</th>\n",
       "      <td>100000026</td>\n",
       "      <td>100000603</td>\n",
       "      <td>6</td>\n",
       "      <td>219</td>\n",
       "    </tr>\n",
       "    <tr>\n",
       "      <th>1</th>\n",
       "      <td>100000337</td>\n",
       "      <td>100000841</td>\n",
       "      <td>6</td>\n",
       "      <td>70</td>\n",
       "    </tr>\n",
       "    <tr>\n",
       "      <th>2</th>\n",
       "      <td>100084342</td>\n",
       "      <td>100089998</td>\n",
       "      <td>6050</td>\n",
       "      <td>15593</td>\n",
       "    </tr>\n",
       "    <tr>\n",
       "      <th>3</th>\n",
       "      <td>100091453</td>\n",
       "      <td>100095505</td>\n",
       "      <td>0</td>\n",
       "      <td>392</td>\n",
       "    </tr>\n",
       "    <tr>\n",
       "      <th>4</th>\n",
       "      <td>100184771</td>\n",
       "      <td>100186098</td>\n",
       "      <td>0</td>\n",
       "      <td>58</td>\n",
       "    </tr>\n",
       "    <tr>\n",
       "      <th>5</th>\n",
       "      <td>300000026</td>\n",
       "      <td>300000831</td>\n",
       "      <td>9</td>\n",
       "      <td>176</td>\n",
       "    </tr>\n",
       "    <tr>\n",
       "      <th>6</th>\n",
       "      <td>300000248</td>\n",
       "      <td>300000759</td>\n",
       "      <td>9</td>\n",
       "      <td>71</td>\n",
       "    </tr>\n",
       "    <tr>\n",
       "      <th>7</th>\n",
       "      <td>300028152</td>\n",
       "      <td>300032297</td>\n",
       "      <td>11545</td>\n",
       "      <td>23189</td>\n",
       "    </tr>\n",
       "    <tr>\n",
       "      <th>8</th>\n",
       "      <td>300035169</td>\n",
       "      <td>300039343</td>\n",
       "      <td>17</td>\n",
       "      <td>545</td>\n",
       "    </tr>\n",
       "    <tr>\n",
       "      <th>9</th>\n",
       "      <td>300051579</td>\n",
       "      <td>300054633</td>\n",
       "      <td>0</td>\n",
       "      <td>59</td>\n",
       "    </tr>\n",
       "  </tbody>\n",
       "</table>\n",
       "</div>"
      ],
      "text/plain": [
       "        time    endtime   area  n_photon\n",
       "0  100000026  100000603      6       219\n",
       "1  100000337  100000841      6        70\n",
       "2  100084342  100089998   6050     15593\n",
       "3  100091453  100095505      0       392\n",
       "4  100184771  100186098      0        58\n",
       "5  300000026  300000831      9       176\n",
       "6  300000248  300000759      9        71\n",
       "7  300028152  300032297  11545     23189\n",
       "8  300035169  300039343     17       545\n",
       "9  300051579  300054633      0        59"
      ]
     },
     "execution_count": 25,
     "metadata": {},
     "output_type": "execute_result"
    }
   ],
   "source": [
    "st.get_df(run_id, 'matched_peaks').head(10)"
   ]
  },
  {
   "cell_type": "markdown",
   "metadata": {},
   "source": [
    "# Externally call functions"
   ]
  },
  {
   "cell_type": "markdown",
   "metadata": {},
   "source": [
    "The s1/s2 functions used for generating photon timings and channels are now doocumented and callable from the outside. This you can use if you want to do something like compare photon arrival timings between wfsims results and g4"
   ]
  },
  {
   "cell_type": "code",
   "execution_count": 26,
   "metadata": {
    "ExecuteTime": {
     "end_time": "2021-05-10T12:46:56.093761Z",
     "start_time": "2021-05-10T12:46:56.088624Z"
    }
   },
   "outputs": [
    {
     "name": "stdout",
     "output_type": "stream",
     "text": [
      "Object `wfsim.core.S1.get_n_photons` not found.\n"
     ]
    }
   ],
   "source": [
    "wfsim.core.S1.get_n_photons?"
   ]
  },
  {
   "cell_type": "code",
   "execution_count": null,
   "metadata": {},
   "outputs": [],
   "source": []
  }
 ],
 "metadata": {
  "kernelspec": {
   "display_name": "Python 3 (ipykernel)",
   "language": "python",
   "name": "python3"
  },
  "language_info": {
   "codemirror_mode": {
    "name": "ipython",
    "version": 3
   },
   "file_extension": ".py",
   "mimetype": "text/x-python",
   "name": "python",
   "nbconvert_exporter": "python",
   "pygments_lexer": "ipython3",
   "version": "3.8.12"
  },
  "latex_envs": {
   "LaTeX_envs_menu_present": true,
   "autoclose": false,
   "autocomplete": true,
   "bibliofile": "biblio.bib",
   "cite_by": "apalike",
   "current_citInitial": 1,
   "eqLabelWithNumbers": true,
   "eqNumInitial": 1,
   "hotkeys": {
    "equation": "Ctrl-E",
    "itemize": "Ctrl-I"
   },
   "labels_anchors": false,
   "latex_user_defs": false,
   "report_style_numbering": false,
   "user_envs_cfg": false
  },
  "varInspector": {
   "cols": {
    "lenName": 16,
    "lenType": 16,
    "lenVar": 40
   },
   "kernels_config": {
    "python": {
     "delete_cmd_postfix": "",
     "delete_cmd_prefix": "del ",
     "library": "var_list.py",
     "varRefreshCmd": "print(var_dic_list())"
    },
    "r": {
     "delete_cmd_postfix": ") ",
     "delete_cmd_prefix": "rm(",
     "library": "var_list.r",
     "varRefreshCmd": "cat(var_dic_list()) "
    }
   },
   "types_to_exclude": [
    "module",
    "function",
    "builtin_function_or_method",
    "instance",
    "_Feature"
   ],
   "window_display": false
  }
 },
 "nbformat": 4,
 "nbformat_minor": 4
}
