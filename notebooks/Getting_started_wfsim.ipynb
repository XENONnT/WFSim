{
 "cells": [
  {
   "cell_type": "markdown",
   "metadata": {},
   "source": [
    "# Getting started with WFSim"
   ]
  },
  {
   "cell_type": "markdown",
   "metadata": {},
   "source": [
    "Hello friend.\n",
    "Welcome to the basic tutorial on how to simulate waveforms with the latest wfsim version in strax.\n",
    "Here we'll just demonstrate the basic functionality. For more in depth analysis stuff, checkout the straxen tutorials for more detailed thing."
   ]
  },
  {
   "cell_type": "code",
   "execution_count": null,
   "metadata": {},
   "outputs": [],
   "source": [
    "import numpy as np\n",
    "import strax\n",
    "import straxen\n",
    "import wfsim\n",
    "\n",
    "import matplotlib.pyplot as plt\n",
    "from matplotlib.colors import LogNorm\n",
    "from multihist import Histdd, Hist1d\n",
    "from scipy import stats\n",
    "\n",
    "import json"
   ]
  },
  {
   "cell_type": "markdown",
   "metadata": {},
   "source": [
    "## Different simulators"
   ]
  },
  {
   "cell_type": "markdown",
   "metadata": {},
   "source": [
    "Because we'd like to make simulations we have multiple different ways of making data. They are:\n",
    "* #### RawRecordsFromFaxNT(1T)\n",
    "* #### RawRecordsFromFaxEpix\n",
    "* #### RawRecordsFromFaxOptical\n",
    "* #### RawRecordsFromFaxNveto\n",
    "\n",
    "The main difference is the way you specify instructions.  The NT(1T) simulator depends on either a csv file or a defaul/user specified function to generate instructions. Epix takes input from G4 processed with  epix. Optical takes optical input from G4 for photon channels and timings. And Nveto is a small modification to optical to provide nveto data"
   ]
  },
  {
   "cell_type": "markdown",
   "metadata": {},
   "source": [
    "## Setting everything up"
   ]
  },
  {
   "cell_type": "markdown",
   "metadata": {},
   "source": [
    "First we need to define the right context. For this we made two contexts to help you out. One for 1T and one for nT. By default in your context RawRecordsFromFaxNT will be registered. If you  want another one be sure to register it"
   ]
  },
  {
   "cell_type": "markdown",
   "metadata": {},
   "source": [
    "For 1T do:"
   ]
  },
  {
   "cell_type": "code",
   "execution_count": null,
   "metadata": {},
   "outputs": [],
   "source": [
    "st = straxen.contexts.xenon1t_simulation()"
   ]
  },
  {
   "cell_type": "markdown",
   "metadata": {},
   "source": [
    "Or nT do:"
   ]
  },
  {
   "cell_type": "code",
   "execution_count": null,
   "metadata": {},
   "outputs": [],
   "source": [
    "st = straxen.contexts.xenonnt_simulation()"
   ]
  },
  {
   "cell_type": "markdown",
   "metadata": {},
   "source": [
    "Now we need to define a run id. What you give it doesn't really matter, since strax will look for data and make new if it doesn't find anything. And this is what you want.\n",
    "Strax will use the run id to get the electron lifetime and pmt gains from a database, and returns placeholders if the run doesn't exist."
   ]
  },
  {
   "cell_type": "code",
   "execution_count": null,
   "metadata": {},
   "outputs": [],
   "source": [
    "run_id = '1'"
   ]
  },
  {
   "cell_type": "markdown",
   "metadata": {},
   "source": [
    "## Defining instructions\n"
   ]
  },
  {
   "cell_type": "markdown",
   "metadata": {},
   "source": [
    "For the instructions there are multiple different ways to do it. The simulator has this option called \"fax_file\". If it has a value (None by default) the simulator will either read it as a csv or root file. If not it will use some predefined functions to make your events. The number of event you'll simulate based on the product of the config values \"nchunk\",\"event_rate\" and \"chunk_size\". Which you can set as follows:"
   ]
  },
  {
   "cell_type": "code",
   "execution_count": null,
   "metadata": {},
   "outputs": [],
   "source": [
    "st.set_config(dict(nchunk=1, event_rate=5, chunk_size=10,))"
   ]
  },
  {
   "cell_type": "markdown",
   "metadata": {},
   "source": [
    "Strax groups data together in chunks based on time (for low level data). nchunk is the number of chunks you want to simulate\n",
    "event_rate is the number of events per seconds, so this effects the amount of spacing between events. Finally chunk_size is the length in seconds of your chunk\n",
    "For the DAQ this is 5 seconds. For simulations you can do whatever you want. It is important to note that Strax will write out data per chunk\n",
    "So when your chunks are small you'll, among other things, call Strax' IO functions a lot, giving a substantial overhead. On the other hand, to large chunks will hog all your memory and your kernel might crash.\n",
    "Based on my experimentation setting chunk_size to 500 gives best performance"
   ]
  },
  {
   "cell_type": "markdown",
   "metadata": {},
   "source": [
    "These are ways you can give instructions\n",
    "  * #### Random\n",
    "    This is the default where simulator will generate some random instructions for you.\n",
    "  * #### Custom\n",
    "    For this you will need to overwrite the instruction generator function\n",
    "  * #### CSV\n",
    "    You can provide a csv file with the instruction (Like the output of nSort)\n",
    "  * #### Geant4\n",
    "    For this you'll  need to  use epix to do some clustering for you."
   ]
  },
  {
   "cell_type": "markdown",
   "metadata": {},
   "source": [
    "### Random\n",
    "I guess this is pretty self explanatory. The simulator has this function called \"rand_instructions\" which will make something up for you.\n",
    "\n"
   ]
  },
  {
   "cell_type": "code",
   "execution_count": null,
   "metadata": {},
   "outputs": [],
   "source": [
    "wfsim.strax_interface.rand_instructions??"
   ]
  },
  {
   "cell_type": "markdown",
   "metadata": {},
   "source": [
    "### Custom\n",
    "This is some more fun. To do this we'll write a new function which returns a structured numpy array with the correct dtype."
   ]
  },
  {
   "cell_type": "code",
   "execution_count": null,
   "metadata": {},
   "outputs": [],
   "source": [
    "wfsim.instruction_dtype"
   ]
  },
  {
   "cell_type": "markdown",
   "metadata": {},
   "source": [
    "Event number is just a lable which peaks are together. type is either 1(S1) or 2 (S2). In the truth higher numbers are also used to refer to different types of afterpulses. time,x,y,z are the time and positions of the signal. Amp is the number of photons or electrons generated, and recoil can be used for different types of recoil (but only Electronic recoil is supported). Recoil is a number according to the NEST convention which will be used to indicate which interaction. For the key look here: https://github.com/XENONnT/WFSim/blob/2c614b0f7b0d7c7adc516f6188e281857e8d7e22/wfsim/core.py#L22"
   ]
  },
  {
   "cell_type": "markdown",
   "metadata": {},
   "source": [
    "Now, lets say we want some krypton peaks. For this we'll need to change the default instruction function to include this double decay and use Nestpy to convert energy deposits into a number of photons and electrons.\n",
    "\n",
    "In this case I'll use 1 \"event\" per full decay, that where all the 4's are coming from."
   ]
  },
  {
   "cell_type": "code",
   "execution_count": null,
   "metadata": {},
   "outputs": [],
   "source": [
    "def super_awesome_custom_instruction(c):\n",
    "    import nestpy\n",
    "    half_life = 156.94e-9 #Kr intermediate state half-life in ns\n",
    "    decay_energies = [32.2,9.4] # Decay energies in kev\n",
    "    \n",
    "    n = c['nevents'] = c['event_rate'] * c['chunk_size'] * c['nchunk']\n",
    "    c['total_time'] = c['chunk_size'] * c['nchunk']\n",
    "\n",
    "    instructions = np.zeros(4 * n, dtype=wfsim.instruction_dtype)\n",
    "    instructions['event_number'] = np.digitize(instructions['time'],\n",
    "         1e9 * np.arange(c['nchunk']) * c['chunk_size']) - 1\n",
    "    \n",
    "    instructions['type'] = np.tile([1, 2], 2 * n)\n",
    "    instructions['recoil'] = [7 for i in range(4 * n)]\n",
    "    \n",
    "    r = np.sqrt(np.random.uniform(0, 2500, n))\n",
    "    t = np.random.uniform(-np.pi, np.pi, n)\n",
    "    instructions['x'] = np.repeat(r * np.cos(t), 4)\n",
    "    instructions['y'] = np.repeat(r * np.sin(t), 4)\n",
    "    instructions['z'] = np.repeat(np.random.uniform(-100, 0, n), 4)\n",
    "    \n",
    "    #To get the correct times we'll need to include the 156.94 ns half life of the intermediate state.\n",
    "\n",
    "    uniform_times = c['total_time'] * (np.arange(n) + 0.5) / n\n",
    "    delayed_times = uniform_times + np.random.exponential(half_life/np.log(2),len(uniform_times))\n",
    "    instructions['time'] = np.repeat(list(zip(uniform_times,delayed_times)),2) * 1e9\n",
    "\n",
    "\n",
    "    # Here we'll define our XENON-like detector\n",
    "    nc = nestpy.NESTcalc(nestpy.VDetector())\n",
    "    A = 131.293\n",
    "    Z = 54.\n",
    "    density = 2.862  # g/cm^3   #SR1 Value\n",
    "    drift_field = 82  # V/cm    #SR1 Value\n",
    "    interaction = nestpy.INTERACTION_TYPE(7)\n",
    "    \n",
    "    energy = np.tile(decay_energies,n)\n",
    "    quanta = []\n",
    "    for en in energy:\n",
    "        y = nc.GetYields(interaction,\n",
    "                         en,\n",
    "                         density,\n",
    "                         drift_field,\n",
    "                         A,\n",
    "                         Z,\n",
    "                         (1, 1))\n",
    "        quanta.append(nc.GetQuanta(y, density).photons)\n",
    "        quanta.append(nc.GetQuanta(y, density).electrons)\n",
    "        \n",
    "    instructions['amp'] = quanta\n",
    "\n",
    "    return instructions"
   ]
  },
  {
   "cell_type": "markdown",
   "metadata": {},
   "source": [
    "Now here comes the magic line:"
   ]
  },
  {
   "cell_type": "code",
   "execution_count": null,
   "metadata": {},
   "outputs": [],
   "source": [
    "wfsim.strax_interface.rand_instruction = super_awesome_custom_instruction"
   ]
  },
  {
   "cell_type": "markdown",
   "metadata": {},
   "source": [
    "This changes the default rand_instruction function in our own super awesome function. So when the simulator will call rand_instruction the code from super_awesome_custom_instruction will be executed"
   ]
  },
  {
   "cell_type": "markdown",
   "metadata": {},
   "source": [
    "### CSV\n",
    "The format for csv files is the same as the instructions dtype. So on every line specify event_number,type,time ,x,y,z, amp and recoil in that order.\n",
    "Then tell the simulator it exists:\n"
   ]
  },
  {
   "cell_type": "code",
   "execution_count": null,
   "metadata": {},
   "outputs": [],
   "source": [
    "st.set_config(dict(fax_file='instructions.csv'))"
   ]
  },
  {
   "cell_type": "markdown",
   "metadata": {},
   "source": [
    "Ofcourse if you do not have this file it will not work"
   ]
  },
  {
   "cell_type": "markdown",
   "metadata": {},
   "source": [
    "### Geant4\n",
    "For starters you'll need to register the Epix plugin. This requires an epix configuration (it's on private_nt_aux_files), and if you want a start and stop event."
   ]
  },
  {
   "cell_type": "code",
   "execution_count": null,
   "metadata": {},
   "outputs": [],
   "source": [
    "st.register(wfsim.strax_interface.RawRecordsFromFaxEpix)\n",
    "st.set_config(dict(fax_file = path_to_g4_file,\n",
    "                   epix_config= path_to_config))"
   ]
  },
  {
   "cell_type": "markdown",
   "metadata": {},
   "source": [
    "### Optical"
   ]
  },
  {
   "cell_type": "markdown",
   "metadata": {},
   "source": [
    "Similar to above, register correct plugin and file:"
   ]
  },
  {
   "cell_type": "code",
   "execution_count": null,
   "metadata": {},
   "outputs": [],
   "source": [
    "st.register(wfsim.strax_interface.RawRecordsFromFaxOptical)\n",
    "st.set_config(dict(fax_file = path_to_g4_file,))"
   ]
  },
  {
   "cell_type": "markdown",
   "metadata": {},
   "source": [
    "### nVeto\n",
    "\n",
    "Because the nveto is a different system it has a slightly different configuration. This is not entirely finished. Once it is you can run like so:"
   ]
  },
  {
   "cell_type": "code",
   "execution_count": null,
   "metadata": {},
   "outputs": [],
   "source": [
    "st.register(wfsim.strax_interface.RawRecordsFromFaxnVeto)\n",
    "st.set_config(dict(fax_config_nveto = path_to_nveto_config_file,\n",
    "                  fax_file = path_to_g4_file,))"
   ]
  },
  {
   "cell_type": "markdown",
   "metadata": {},
   "source": [
    "## Configuration customization\n",
    "The simulator using a larger large amount of configuration settings to do it's magic. Some of them are best left along, like pmt_circuit_load_resistor. Others on the other hand are things you might want change a bit to see how the data will change. Unfortunately currently the full list is spread out over two different places. One is the fax config json which is on github. The other is the option list in strax. Besides those things like pattern maps are hardcoded in load_resource.py. These files are overrideable with the option \"fax_config_override\""
   ]
  },
  {
   "cell_type": "markdown",
   "metadata": {},
   "source": [
    "The strax config is viewable like this and can be changed by st.set_config(dict(option you want=value you want))"
   ]
  },
  {
   "cell_type": "code",
   "execution_count": null,
   "metadata": {},
   "outputs": [],
   "source": [
    "st.show_config('raw_records')"
   ]
  },
  {
   "cell_type": "markdown",
   "metadata": {},
   "source": [
    "The config from github can be loaded as:"
   ]
  },
  {
   "cell_type": "code",
   "execution_count": null,
   "metadata": {},
   "outputs": [],
   "source": [
    "straxen.get_resource('https://raw.githubusercontent.com/XENONnT/'\n",
    "                               'strax_auxiliary_files/master/fax_files/fax_config_nt.json',fmt='json').keys()"
   ]
  },
  {
   "cell_type": "markdown",
   "metadata": {},
   "source": [
    "Changing things in this guy goes slightly different. In the strax option list there is the option called \"fax_config_override\". This takes a dict which will be used to override any values in the json config.\n",
    "So changing the 's2_secondary_sc_gain' is done as:"
   ]
  },
  {
   "cell_type": "code",
   "execution_count": null,
   "metadata": {},
   "outputs": [],
   "source": [
    "st.set_config(dict(fax_config_override = dict(s2_secondary_sc_gain=23)))"
   ]
  },
  {
   "cell_type": "markdown",
   "metadata": {},
   "source": [
    "##Things you might want to change\n",
    "\n",
    "There are 4 main things you might be interested in changing. They are:\n",
    "*Noise (True/False)\n",
    "*PMTAfterpulses (True/False)\n",
    "*Electron Afterpulses (True/False)\n",
    "*S2 luminescence (Simple or garfield)\n",
    "\n",
    "They are controled by config settings you can change as so:\n"
   ]
  },
  {
   "cell_type": "code",
   "execution_count": null,
   "metadata": {},
   "outputs": [],
   "source": [
    "st.set_config(dict(fax_config_override=dict(\n",
    "            s2_luminescence_model='simple',\n",
    "            enable_noise=False,\n",
    "            enable_pmt_afterpulses=False,\n",
    "            enable_electron_afterpulses=False,)))\n",
    "    "
   ]
  },
  {
   "cell_type": "markdown",
   "metadata": {},
   "source": [
    "## What actually happens?\n",
    "\n",
    "\n",
    "\n",
    "What happens behind the scenes is that the instructions are first grouped together in chunks. Then we loop over the instructions and the full chunk is returned before starting with the next one.\n",
    "\n",
    "We use a S1 and S2 class to calculate the arrival times of the photons and the channels which have been hit. Then we'll hand them over to the Pulse class to calculate the currents in the channels. Finally the currents go to a RawData class where we fake the digitizer response.\n",
    "\n",
    "### S1\n",
    "\n",
    "For S1s we start with calculating the light yield based on the position of the interaction, and draw the number of photons seen from a Poisson distribution.\n",
    "\n",
    "Second we calculate the arrival times of the photons. This is based on the scintillation of the xenon atoms. It is dependend on the recombination time, the singlet and triplet fractions.\n",
    "\n",
    "Finally the channels are calculated. Based on the pattern map we use a interpolation map to get a probability distribution for channels to be hit for a S1 signal based on the position of the interaction, and then we draw from this distribution for every photon.\n",
    "\n",
    "### S2\n",
    "\n",
    "S2s are slightly more complicated. First we need to drift the electrons up, and while doing so we'll lose some of them.\n",
    "To get the photon timings, we first need to get the arrival times of the electrons at the gas interface based on a diffusion model. Then we can calculate the photon timings based on a luminescence model for every individual electron. And for the channels we do the same trick with the interpolating map.\n",
    "\n",
    "\n",
    "### Pulse\n",
    "\n",
    "When we have our lists of channels and timing we can generate actual pulses. First we add a pmt transition time. Then we loop over all channels, calculate the double pe emission probabilities, and add a current in the pmt channel based on the arrival time. This is all stored in a big dictionary. Afterwards this is passed to our fake digitizers which then returns you with your very own pretty data\n"
   ]
  },
  {
   "cell_type": "markdown",
   "metadata": {},
   "source": [
    "### Getting down to bussiness\n",
    "\n",
    "\n",
    "Now we have access to all the normal strax data types, and another one called 'truth' which holds the simulation instructions. Calling it follows the normal strax convention."
   ]
  },
  {
   "cell_type": "code",
   "execution_count": null,
   "metadata": {},
   "outputs": [],
   "source": [
    "st.set_config(dict(fax_file=None))"
   ]
  },
  {
   "cell_type": "code",
   "execution_count": null,
   "metadata": {
    "scrolled": true
   },
   "outputs": [],
   "source": [
    "# Remove any previously simulated data, if such exists\n",
    "# !rm -r strax_data\n",
    "\n",
    "records = st.get_array(run_id,'records')\n",
    "# peaks = st.get_array(run_id, ['peaks','peak_basics'])\n",
    "# data = st.get_df(run_id, 'event_info')\n",
    "\n",
    "truth = st.get_df(run_id, 'truth')"
   ]
  },
  {
   "cell_type": "markdown",
   "metadata": {},
   "source": [
    "Now it is time to make pretty plots and see if what we makes actually makes any sense"
   ]
  },
  {
   "cell_type": "code",
   "execution_count": null,
   "metadata": {},
   "outputs": [],
   "source": [
    "peak_basics = st.get_df(run_id,'peak_basics')"
   ]
  },
  {
   "cell_type": "code",
   "execution_count": null,
   "metadata": {},
   "outputs": [],
   "source": [
    "peak_basics[:10]"
   ]
  },
  {
   "cell_type": "markdown",
   "metadata": {},
   "source": [
    "## Matching\n",
    "To do matching with the truth the easiest way is to write a new strax plugin where you loop over peaks and get the truth arrays where the mean arrival time of the photons are within the time window of the peak\n",
    "So that will look something like this:"
   ]
  },
  {
   "cell_type": "code",
   "execution_count": null,
   "metadata": {},
   "outputs": [],
   "source": [
    "class MatchedPeaks(strax.LoopPlugin):\n",
    "    depends_on = ('peak_basics','truth')\n",
    "    provides = 'matched_peaks'\n",
    "    __version__ = '0.0.2'\n",
    "    dtype = [('time',np.int),\n",
    "             ('endtime',np.int),\n",
    "             ('area',np.int),\n",
    "             ('n_photon',np.int)]\n",
    "    \n",
    "    def compute(self, peaks, truth):\n",
    "        result = np.zeros(len(peaks), self.dtype)\n",
    "        \n",
    "        for ix, p in enumerate(peaks):\n",
    "            t = truth[(p['time']<truth['t_mean_photon'])&\n",
    "                      (p['endtime']>truth['t_mean_photon'])]\n",
    "            r = result[ix]\n",
    "            r['time'] = p['time']\n",
    "            r['endtime'] = p['endtime']\n",
    "            r['area'] = p['area']\n",
    "            if len(t)==0:\n",
    "                r['n_photon'] = 0\n",
    "            elif len(t)>1:\n",
    "                r['n_photon'] = np.sum(t['n_photon'])\n",
    "            else:\n",
    "                r['n_photon'] = t['n_photon']\n",
    "        \n",
    "        return result"
   ]
  },
  {
   "cell_type": "markdown",
   "metadata": {},
   "source": [
    "Of course this doesn't actually work. An electron afterpulse can be very spread out leading it to be interpreted as multiple peaks while coming from 1 instruction falling outside of the specified range. It would be very much appreciated if someone wants make a more sturdy selection criteria :)\n",
    "\n",
    "For example, checkout out peak matching algorithm for WFSim: https://github.com/XENONnT/pema"
   ]
  },
  {
   "cell_type": "code",
   "execution_count": null,
   "metadata": {},
   "outputs": [],
   "source": [
    "st.register(MatchedPeaks)"
   ]
  },
  {
   "cell_type": "code",
   "execution_count": null,
   "metadata": {},
   "outputs": [],
   "source": [
    "st.get_array(run_id,'matched_peaks')"
   ]
  },
  {
   "cell_type": "markdown",
   "metadata": {},
   "source": [
    "# Externally call functions"
   ]
  },
  {
   "cell_type": "markdown",
   "metadata": {},
   "source": [
    "The s1/s2 functions used for generating photon timings and channels are now doocumented and callable from the outside. This you can use if you want to do something like compare photon arrival timings between wfsims results and g4"
   ]
  },
  {
   "cell_type": "code",
   "execution_count": null,
   "metadata": {},
   "outputs": [],
   "source": [
    "wfsim.core.S1.get_n_photons?"
   ]
  },
  {
   "cell_type": "code",
   "execution_count": null,
   "metadata": {},
   "outputs": [],
   "source": []
  }
 ],
 "metadata": {
  "kernelspec": {
   "display_name": "Python 3",
   "language": "python",
   "name": "python3"
  },
  "language_info": {
   "codemirror_mode": {
    "name": "ipython",
    "version": 3
   },
   "file_extension": ".py",
   "mimetype": "text/x-python",
   "name": "python",
   "nbconvert_exporter": "python",
   "pygments_lexer": "ipython3",
   "version": "3.8.5"
  },
  "latex_envs": {
   "LaTeX_envs_menu_present": true,
   "autoclose": false,
   "autocomplete": true,
   "bibliofile": "biblio.bib",
   "cite_by": "apalike",
   "current_citInitial": 1,
   "eqLabelWithNumbers": true,
   "eqNumInitial": 1,
   "hotkeys": {
    "equation": "Ctrl-E",
    "itemize": "Ctrl-I"
   },
   "labels_anchors": false,
   "latex_user_defs": false,
   "report_style_numbering": false,
   "user_envs_cfg": false
  },
  "varInspector": {
   "cols": {
    "lenName": 16,
    "lenType": 16,
    "lenVar": 40
   },
   "kernels_config": {
    "python": {
     "delete_cmd_postfix": "",
     "delete_cmd_prefix": "del ",
     "library": "var_list.py",
     "varRefreshCmd": "print(var_dic_list())"
    },
    "r": {
     "delete_cmd_postfix": ") ",
     "delete_cmd_prefix": "rm(",
     "library": "var_list.r",
     "varRefreshCmd": "cat(var_dic_list()) "
    }
   },
   "types_to_exclude": [
    "module",
    "function",
    "builtin_function_or_method",
    "instance",
    "_Feature"
   ],
   "window_display": false
  }
 },
 "nbformat": 4,
 "nbformat_minor": 2
}
