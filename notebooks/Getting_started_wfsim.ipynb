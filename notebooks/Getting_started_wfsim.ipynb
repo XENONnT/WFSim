{
 "cells": [
  {
   "cell_type": "markdown",
   "metadata": {},
   "source": [
    "# Getting started with WFSim"
   ]
  },
  {
   "cell_type": "markdown",
   "metadata": {},
   "source": [
    "Hello friend.\n",
    "Welcome to the basic tutorial on how to simulate waveforms with the latest wfsim version in strax.\n",
    "Here we'll just demonstrate the basic functionality. For more in depth analysis stuff, checkout the straxen tutorials for more detailed thing."
   ]
  },
  {
   "cell_type": "code",
   "execution_count": 1,
   "metadata": {
    "ExecuteTime": {
     "end_time": "2021-05-10T12:46:14.527226Z",
     "start_time": "2021-05-10T12:46:05.307037Z"
    }
   },
   "outputs": [
    {
     "name": "stderr",
     "output_type": "stream",
     "text": [
      "*** Detector definition message ***\n",
      "You are currently using the default XENON10 template detector.\n",
      "\n"
     ]
    }
   ],
   "source": [
    "import numpy as np\n",
    "import strax\n",
    "import straxen\n",
    "import wfsim\n",
    "\n",
    "import matplotlib.pyplot as plt\n",
    "from matplotlib.colors import LogNorm\n",
    "from multihist import Histdd, Hist1d\n",
    "from scipy import stats\n",
    "\n",
    "import json"
   ]
  },
  {
   "cell_type": "code",
   "execution_count": 79,
   "metadata": {},
   "outputs": [
    {
     "name": "stdout",
     "output_type": "stream",
     "text": [
      "ntauxfiles is not installed\n"
     ]
    },
    {
     "data": {
      "text/html": [
       "<div>\n",
       "<style scoped>\n",
       "    .dataframe tbody tr th:only-of-type {\n",
       "        vertical-align: middle;\n",
       "    }\n",
       "\n",
       "    .dataframe tbody tr th {\n",
       "        vertical-align: top;\n",
       "    }\n",
       "\n",
       "    .dataframe thead th {\n",
       "        text-align: right;\n",
       "    }\n",
       "</style>\n",
       "<table border=\"1\" class=\"dataframe\">\n",
       "  <thead>\n",
       "    <tr style=\"text-align: right;\">\n",
       "      <th></th>\n",
       "      <th>module</th>\n",
       "      <th>version</th>\n",
       "      <th>path</th>\n",
       "      <th>git</th>\n",
       "    </tr>\n",
       "  </thead>\n",
       "  <tbody>\n",
       "    <tr>\n",
       "      <th>0</th>\n",
       "      <td>python</td>\n",
       "      <td>3.9.17</td>\n",
       "      <td>/opt/XENONnT/anaconda/envs/XENONnT_2023.07.1/b...</td>\n",
       "      <td>None</td>\n",
       "    </tr>\n",
       "    <tr>\n",
       "      <th>1</th>\n",
       "      <td>strax</td>\n",
       "      <td>1.5.2</td>\n",
       "      <td>/opt/XENONnT/anaconda/envs/XENONnT_2023.07.1/l...</td>\n",
       "      <td>None</td>\n",
       "    </tr>\n",
       "    <tr>\n",
       "      <th>2</th>\n",
       "      <td>straxen</td>\n",
       "      <td>2.1.1</td>\n",
       "      <td>/opt/XENONnT/anaconda/envs/XENONnT_2023.07.1/l...</td>\n",
       "      <td>None</td>\n",
       "    </tr>\n",
       "    <tr>\n",
       "      <th>3</th>\n",
       "      <td>cutax</td>\n",
       "      <td>1.15.1</td>\n",
       "      <td>/home/shenyangshi/cutax/cutax</td>\n",
       "      <td>branch:bdt_ms | 277f174</td>\n",
       "    </tr>\n",
       "    <tr>\n",
       "      <th>4</th>\n",
       "      <td>wfsim</td>\n",
       "      <td>1.0.2</td>\n",
       "      <td>/opt/XENONnT/anaconda/envs/XENONnT_2023.07.1/l...</td>\n",
       "      <td>None</td>\n",
       "    </tr>\n",
       "  </tbody>\n",
       "</table>\n",
       "</div>"
      ],
      "text/plain": [
       "    module version                                               path  \\\n",
       "0   python  3.9.17  /opt/XENONnT/anaconda/envs/XENONnT_2023.07.1/b...   \n",
       "1    strax   1.5.2  /opt/XENONnT/anaconda/envs/XENONnT_2023.07.1/l...   \n",
       "2  straxen   2.1.1  /opt/XENONnT/anaconda/envs/XENONnT_2023.07.1/l...   \n",
       "3    cutax  1.15.1                      /home/shenyangshi/cutax/cutax   \n",
       "4    wfsim   1.0.2  /opt/XENONnT/anaconda/envs/XENONnT_2023.07.1/l...   \n",
       "\n",
       "                       git  \n",
       "0                     None  \n",
       "1                     None  \n",
       "2                     None  \n",
       "3  branch:bdt_ms | 277f174  \n",
       "4                     None  "
      ]
     },
     "execution_count": 79,
     "metadata": {},
     "output_type": "execute_result"
    }
   ],
   "source": [
    "straxen.print_versions(modules=('strax', 'straxen', 'cutax', 'wfsim', 'ntauxfiles'))"
   ]
  },
  {
   "cell_type": "markdown",
   "metadata": {},
   "source": [
    "## Different simulators"
   ]
  },
  {
   "cell_type": "markdown",
   "metadata": {},
   "source": [
    "Because we'd like to make simulations we have multiple different ways of making data. They are:\n",
    "* `RawRecordsFromFaxNT(1T)`\n",
    "* `RawRecordsFromFaxEpix`\n",
    "* `RawRecordsFromFaxOptical`\n",
    "* `RawRecordsFromFaxNveto`\n",
    "\n",
    "The main difference is the way you specify instructions.  The NT(1T) simulator depends on either a csv file or a default/user specified function to generate instructions. Epix takes input from G4 processed with  epix. Optical takes optical input from G4 for photon channels and timings. And Nveto is a small modification to optical to provide nveto data"
   ]
  },
  {
   "cell_type": "markdown",
   "metadata": {},
   "source": [
    "## Setting everything up"
   ]
  },
  {
   "cell_type": "markdown",
   "metadata": {},
   "source": [
    "First we need to define the right context. For this we made two contexts to help you out. One for 1T and one for nT. By default in your context RawRecordsFromFaxNT will be registered. If you  want another one be sure to register it"
   ]
  },
  {
   "cell_type": "markdown",
   "metadata": {},
   "source": [
    "For 1T do:"
   ]
  },
  {
   "cell_type": "code",
   "execution_count": 2,
   "metadata": {
    "ExecuteTime": {
     "end_time": "2021-05-10T12:46:14.542180Z",
     "start_time": "2021-05-10T12:46:14.531508Z"
    }
   },
   "outputs": [],
   "source": [
    "st = straxen.contexts.xenon1t_simulation()"
   ]
  },
  {
   "cell_type": "markdown",
   "metadata": {},
   "source": [
    "Or nT do:"
   ]
  },
  {
   "cell_type": "code",
   "execution_count": 5,
   "metadata": {
    "ExecuteTime": {
     "end_time": "2021-05-10T12:46:14.567075Z",
     "start_time": "2021-05-10T12:46:14.546391Z"
    }
   },
   "outputs": [
    {
     "name": "stderr",
     "output_type": "stream",
     "text": [
      "/opt/XENONnT/anaconda/envs/XENONnT_2023.07.1/lib/python3.9/site-packages/straxen/url_config.py:711: UserWarning: From straxen version 2.1.0 onward, URLConfig parameterswill be sorted alphabetically before being passed to the plugins, this will change the lineage hash for non-sorted URLs. To load data processed with non-sorted URLs, you will need to use an older version.\n",
      "  warnings.warn(\"From straxen version 2.1.0 onward, URLConfig parameters\"\n"
     ]
    }
   ],
   "source": [
    "st = straxen.contexts.xenonnt_simulation(cmt_run_id_sim='00001')"
   ]
  },
  {
   "cell_type": "markdown",
   "metadata": {},
   "source": [
    "Now we need to define a run id. What you give it doesn't really matter, since strax will look for data and make new if it doesn't find anything. And this is what you want.\n",
    "Strax will use the run id to get the electron lifetime and pmt gains from a database, and returns placeholders if the run doesn't exist."
   ]
  },
  {
   "cell_type": "code",
   "execution_count": 6,
   "metadata": {
    "ExecuteTime": {
     "end_time": "2021-05-10T12:46:14.573720Z",
     "start_time": "2021-05-10T12:46:14.570905Z"
    }
   },
   "outputs": [],
   "source": [
    "run_id = '1'"
   ]
  },
  {
   "cell_type": "markdown",
   "metadata": {},
   "source": [
    "## Defining instructions\n"
   ]
  },
  {
   "cell_type": "markdown",
   "metadata": {},
   "source": [
    "For the instructions there are multiple different ways to do it. The simulator has this option called \"fax_file\". If it has a value (None by default) the simulator will either read it as a csv or root file. If not it will use some predefined functions to make your events. The number of event you'll simulate based on the product of the config values \"nchunk\",\"event_rate\" and \"chunk_size\". Which you can set as follows:"
   ]
  },
  {
   "cell_type": "code",
   "execution_count": 7,
   "metadata": {
    "ExecuteTime": {
     "end_time": "2021-05-10T12:46:14.580781Z",
     "start_time": "2021-05-10T12:46:14.577570Z"
    }
   },
   "outputs": [],
   "source": [
    "st.set_config(dict(nchunk=1, event_rate=5, chunk_size=10,))"
   ]
  },
  {
   "cell_type": "markdown",
   "metadata": {},
   "source": [
    "Strax groups data together in chunks based on time (for low level data). nchunk is the number of chunks you want to simulate\n",
    "event_rate is the number of events per seconds, so this effects the amount of spacing between events. Finally chunk_size is the length in seconds of your chunk\n",
    "For the DAQ this is 5 seconds. For simulations you can do whatever you want. It is important to note that Strax will write out data per chunk\n",
    "So when your chunks are small you'll, among other things, call Strax' IO functions a lot, giving a substantial overhead. On the other hand, to large chunks will hog all your memory and your kernel might crash.\n",
    "Based on my experimentation setting chunk_size to 500 gives best performance"
   ]
  },
  {
   "cell_type": "markdown",
   "metadata": {},
   "source": [
    "These are ways you can give instructions\n",
    "### Random\n",
    "This is the default where simulator will generate some random instructions for you.\n",
    "### Custom\n",
    "For this you will need to overwrite the instruction generator function\n",
    "### CSV\n",
    "You can provide a csv file with the instruction (Like the output of nSort)\n",
    "### Geant4\n",
    "For this you'll  need to  use epix to do some clustering for you."
   ]
  },
  {
   "cell_type": "markdown",
   "metadata": {},
   "source": [
    "### Random\n",
    "I guess this is pretty self explanatory. The simulator has this function called \"rand_instructions\" which will make something up for you.\n",
    "\n"
   ]
  },
  {
   "cell_type": "code",
   "execution_count": 8,
   "metadata": {
    "ExecuteTime": {
     "end_time": "2021-05-10T12:46:14.646190Z",
     "start_time": "2021-05-10T12:46:14.584703Z"
    }
   },
   "outputs": [
    {
     "data": {
      "text/plain": [
       "\u001b[0;31mSignature:\u001b[0m \u001b[0mwfsim\u001b[0m\u001b[0;34m.\u001b[0m\u001b[0mstrax_interface\u001b[0m\u001b[0;34m.\u001b[0m\u001b[0mrand_instructions\u001b[0m\u001b[0;34m(\u001b[0m\u001b[0mc\u001b[0m\u001b[0;34m)\u001b[0m\u001b[0;34m\u001b[0m\u001b[0;34m\u001b[0m\u001b[0m\n",
       "\u001b[0;31mSource:\u001b[0m   \n",
       "\u001b[0;32mdef\u001b[0m \u001b[0mrand_instructions\u001b[0m\u001b[0;34m(\u001b[0m\u001b[0mc\u001b[0m\u001b[0;34m)\u001b[0m\u001b[0;34m:\u001b[0m\u001b[0;34m\u001b[0m\n",
       "\u001b[0;34m\u001b[0m    \u001b[0;34m\"\"\"Random instruction generator function. This will be called by wfsim if you do not specify \u001b[0m\n",
       "\u001b[0;34m    specific instructions.\u001b[0m\n",
       "\u001b[0;34m    :params c: wfsim configuration dict\"\"\"\u001b[0m\u001b[0;34m\u001b[0m\n",
       "\u001b[0;34m\u001b[0m    \u001b[0mlog\u001b[0m\u001b[0;34m.\u001b[0m\u001b[0mwarning\u001b[0m\u001b[0;34m(\u001b[0m\u001b[0;34m'rand_instructions is deprecated, please use wfsim.random_instructions'\u001b[0m\u001b[0;34m)\u001b[0m\u001b[0;34m\u001b[0m\n",
       "\u001b[0;34m\u001b[0m    \u001b[0;32mif\u001b[0m \u001b[0;34m'drift_field'\u001b[0m \u001b[0;32mnot\u001b[0m \u001b[0;32min\u001b[0m \u001b[0mc\u001b[0m\u001b[0;34m:\u001b[0m\u001b[0;34m\u001b[0m\n",
       "\u001b[0;34m\u001b[0m        \u001b[0mlog\u001b[0m\u001b[0;34m.\u001b[0m\u001b[0mwarning\u001b[0m\u001b[0;34m(\u001b[0m\u001b[0;34m'drift field not specified!'\u001b[0m\u001b[0;34m)\u001b[0m\u001b[0;34m\u001b[0m\n",
       "\u001b[0;34m\u001b[0m    \u001b[0;31m# Do the conversion for now, don't break everything all at once\u001b[0m\u001b[0;34m\u001b[0m\n",
       "\u001b[0;34m\u001b[0m    \u001b[0;32mreturn\u001b[0m \u001b[0m_rand_instructions\u001b[0m\u001b[0;34m(\u001b[0m\u001b[0mevent_rate\u001b[0m\u001b[0;34m=\u001b[0m\u001b[0mc\u001b[0m\u001b[0;34m.\u001b[0m\u001b[0mget\u001b[0m\u001b[0;34m(\u001b[0m\u001b[0;34m'event_rate'\u001b[0m\u001b[0;34m,\u001b[0m \u001b[0;36m10\u001b[0m\u001b[0;34m)\u001b[0m\u001b[0;34m,\u001b[0m\u001b[0;34m\u001b[0m\n",
       "\u001b[0;34m\u001b[0m                              \u001b[0mchunk_size\u001b[0m\u001b[0;34m=\u001b[0m\u001b[0mc\u001b[0m\u001b[0;34m.\u001b[0m\u001b[0mget\u001b[0m\u001b[0;34m(\u001b[0m\u001b[0;34m'chunk_size'\u001b[0m\u001b[0;34m,\u001b[0m \u001b[0;36m5\u001b[0m\u001b[0;34m)\u001b[0m\u001b[0;34m,\u001b[0m\u001b[0;34m\u001b[0m\n",
       "\u001b[0;34m\u001b[0m                              \u001b[0mn_chunk\u001b[0m\u001b[0;34m=\u001b[0m\u001b[0mc\u001b[0m\u001b[0;34m.\u001b[0m\u001b[0mget\u001b[0m\u001b[0;34m(\u001b[0m\u001b[0;34m'n_chunk'\u001b[0m\u001b[0;34m,\u001b[0m \u001b[0;36m2\u001b[0m\u001b[0;34m)\u001b[0m\u001b[0;34m,\u001b[0m\u001b[0;34m\u001b[0m\n",
       "\u001b[0;34m\u001b[0m                              \u001b[0menergy_range\u001b[0m\u001b[0;34m=\u001b[0m\u001b[0;34m[\u001b[0m\u001b[0;36m1\u001b[0m\u001b[0;34m,\u001b[0m \u001b[0;36m100\u001b[0m\u001b[0;34m]\u001b[0m\u001b[0;34m,\u001b[0m  \u001b[0;31m# keV\u001b[0m\u001b[0;34m\u001b[0m\n",
       "\u001b[0;34m\u001b[0m                              \u001b[0mdrift_field\u001b[0m\u001b[0;34m=\u001b[0m\u001b[0mc\u001b[0m\u001b[0;34m.\u001b[0m\u001b[0mget\u001b[0m\u001b[0;34m(\u001b[0m\u001b[0;34m'drift_field'\u001b[0m\u001b[0;34m,\u001b[0m \u001b[0;36m100\u001b[0m\u001b[0;34m)\u001b[0m\u001b[0;34m,\u001b[0m  \u001b[0;31m# V/cm\u001b[0m\u001b[0;34m\u001b[0m\n",
       "\u001b[0;34m\u001b[0m                              \u001b[0mtpc_radius\u001b[0m\u001b[0;34m=\u001b[0m\u001b[0mc\u001b[0m\u001b[0;34m.\u001b[0m\u001b[0mget\u001b[0m\u001b[0;34m(\u001b[0m\u001b[0;34m'tpc_radius'\u001b[0m\u001b[0;34m,\u001b[0m \u001b[0mstraxen\u001b[0m\u001b[0;34m.\u001b[0m\u001b[0mtpc_r\u001b[0m\u001b[0;34m)\u001b[0m\u001b[0;34m,\u001b[0m\u001b[0;34m\u001b[0m\n",
       "\u001b[0;34m\u001b[0m                              \u001b[0mtpc_length\u001b[0m\u001b[0;34m=\u001b[0m\u001b[0mc\u001b[0m\u001b[0;34m.\u001b[0m\u001b[0mget\u001b[0m\u001b[0;34m(\u001b[0m\u001b[0;34m'tpc_length'\u001b[0m\u001b[0;34m,\u001b[0m \u001b[0mstraxen\u001b[0m\u001b[0;34m.\u001b[0m\u001b[0mtpc_z\u001b[0m\u001b[0;34m)\u001b[0m\u001b[0;34m,\u001b[0m\u001b[0;34m\u001b[0m\n",
       "\u001b[0;34m\u001b[0m                              \u001b[0mnest_inst_types\u001b[0m\u001b[0;34m=\u001b[0m\u001b[0;34m[\u001b[0m\u001b[0;36m7\u001b[0m\u001b[0;34m]\u001b[0m\u001b[0;34m\u001b[0m\n",
       "\u001b[0;34m\u001b[0m                              \u001b[0;34m)\u001b[0m\u001b[0;34m\u001b[0m\u001b[0;34m\u001b[0m\u001b[0m\n",
       "\u001b[0;31mFile:\u001b[0m      /opt/XENONnT/anaconda/envs/XENONnT_2023.07.1/lib/python3.9/site-packages/wfsim/strax_interface.py\n",
       "\u001b[0;31mType:\u001b[0m      function"
      ]
     },
     "metadata": {},
     "output_type": "display_data"
    }
   ],
   "source": [
    "wfsim.strax_interface.rand_instructions??"
   ]
  },
  {
   "cell_type": "markdown",
   "metadata": {},
   "source": [
    "### Custom\n",
    "This is some more fun. To do this we'll write a new function which returns a structured numpy array with the correct dtype."
   ]
  },
  {
   "cell_type": "code",
   "execution_count": 9,
   "metadata": {
    "ExecuteTime": {
     "end_time": "2021-05-10T12:46:14.657185Z",
     "start_time": "2021-05-10T12:46:14.650125Z"
    }
   },
   "outputs": [
    {
     "data": {
      "text/plain": [
       "[(('Waveform simulator event number.', 'event_number'), numpy.int32),\n",
       " (('Quanta type (S1 photons or S2 electrons)', 'type'), numpy.int8),\n",
       " (('Time of the interaction [ns]', 'time'), numpy.int64),\n",
       " (('X position of the cluster [cm]', 'x'), numpy.float32),\n",
       " (('Y position of the cluster [cm]', 'y'), numpy.float32),\n",
       " (('Z position of the cluster [cm]', 'z'), numpy.float32),\n",
       " (('Number of quanta', 'amp'), numpy.int32),\n",
       " (('Recoil type of interaction.', 'recoil'), numpy.int8),\n",
       " (('Energy deposit of interaction', 'e_dep'), numpy.float32),\n",
       " (('Eventid like in geant4 output rootfile', 'g4id'), numpy.int32),\n",
       " (('Volume id giving the detector subvolume', 'vol_id'), numpy.int32),\n",
       " (('Local field [ V / cm ]', 'local_field'), numpy.float64),\n",
       " (('Number of excitons', 'n_excitons'), numpy.int32),\n",
       " (('X position of the primary particle [cm]', 'x_pri'), numpy.float32),\n",
       " (('Y position of the primary particle [cm]', 'y_pri'), numpy.float32),\n",
       " (('Z position of the primary particle [cm]', 'z_pri'), numpy.float32)]"
      ]
     },
     "execution_count": 9,
     "metadata": {},
     "output_type": "execute_result"
    }
   ],
   "source": [
    "wfsim.instruction_dtype"
   ]
  },
  {
   "cell_type": "markdown",
   "metadata": {},
   "source": [
    "Event number is just a lable which peaks are together. type is either 1(S1) or 2 (S2). In the truth higher numbers are also used to refer to different types of afterpulses. time,x,y,z are the time and positions of the signal. Amp is the number of photons or electrons generated, and recoil can be used for different types of recoil (but only Electronic recoil is supported). Recoil is a number according to the NEST convention which will be used to indicate which interaction. For the key look here: https://github.com/XENONnT/WFSim/blob/2c614b0f7b0d7c7adc516f6188e281857e8d7e22/wfsim/core.py#L22"
   ]
  },
  {
   "cell_type": "markdown",
   "metadata": {},
   "source": [
    "Now, lets say we want some krypton peaks. For this we'll need to change the default instruction function to include this double decay and use Nestpy to convert energy deposits into a number of photons and electrons.\n",
    "\n",
    "In this case I'll use 1 \"event\" per full decay, that where all the 4's are coming from."
   ]
  },
  {
   "cell_type": "code",
   "execution_count": 80,
   "metadata": {
    "ExecuteTime": {
     "end_time": "2021-05-10T12:46:14.670469Z",
     "start_time": "2021-05-10T12:46:14.661817Z"
    }
   },
   "outputs": [],
   "source": [
    "def super_awesome_custom_instruction(c):\n",
    "    import nestpy\n",
    "    half_life = 156.94e-9 #Kr intermediate state half-life in ns\n",
    "    decay_energies = [32.2,9.4] # Decay energies in kev\n",
    "    \n",
    "    n = c['nevents'] = c['event_rate'] * c['chunk_size']\n",
    "    c['total_time'] = c['chunk_size']\n",
    "\n",
    "    instructions = np.zeros(4 * n, dtype=wfsim.instruction_dtype)\n",
    "    instructions['event_number'] = np.repeat(np.arange(n), 4)\n",
    "    \n",
    "    instructions['type'] = np.tile([1, 2], 2 * n)\n",
    "    instructions['recoil'] = [7 for i in range(4 * n)]\n",
    "    \n",
    "    r = np.sqrt(np.random.uniform(0, 2500, n))\n",
    "    t = np.random.uniform(-np.pi, np.pi, n)\n",
    "    instructions['x'] = np.repeat(r * np.cos(t), 4)\n",
    "    instructions['y'] = np.repeat(r * np.sin(t), 4)\n",
    "    instructions['z'] = np.repeat(np.random.uniform(-100, 0, n), 4)\n",
    "    \n",
    "    #To get the correct times we'll need to include the 156.94 ns half life of the intermediate state.\n",
    "\n",
    "    uniform_times = c['total_time'] * (np.arange(n) + 0.5) / n\n",
    "    delayed_times = uniform_times + np.random.exponential(half_life/np.log(2),len(uniform_times))\n",
    "    instructions['time'] = np.repeat(list(zip(uniform_times,delayed_times)),2) * 1e9\n",
    "\n",
    "\n",
    "    # Here we'll define our XENON-like detector\n",
    "    nc = nestpy.NESTcalc(nestpy.VDetector())\n",
    "    A = 131.293\n",
    "    Z = 54.\n",
    "    density = 2.862  # g/cm^3   #SR1 Value\n",
    "    drift_field = 82  # V/cm    #SR1 Value\n",
    "    interaction = nestpy.INTERACTION_TYPE(7)\n",
    "    \n",
    "    energy = np.tile(decay_energies,n)\n",
    "    quanta = []\n",
    "    exciton = []\n",
    "    for en in energy:\n",
    "        y = nc.GetYields(interaction,\n",
    "                         en,\n",
    "                         density,\n",
    "                         drift_field,\n",
    "                         A,\n",
    "                         Z,\n",
    "                         (1, 1))\n",
    "        q = nc.GetQuanta(y, density)\n",
    "        quanta.append(q.photons)\n",
    "        quanta.append(q.electrons)\n",
    "        exciton.append(q.excitons)\n",
    "        exciton.append(0)\n",
    "        \n",
    "    instructions['amp'] = quanta\n",
    "    instructions['local_field'] = drift_field\n",
    "    instructions['n_excitons'] = exciton\n",
    "\n",
    "    return instructions"
   ]
  },
  {
   "cell_type": "markdown",
   "metadata": {},
   "source": [
    "Now here comes the magic line:"
   ]
  },
  {
   "cell_type": "code",
   "execution_count": 81,
   "metadata": {
    "ExecuteTime": {
     "end_time": "2021-05-10T12:46:14.677858Z",
     "start_time": "2021-05-10T12:46:14.674843Z"
    }
   },
   "outputs": [],
   "source": [
    "wfsim.strax_interface.rand_instructions = super_awesome_custom_instruction"
   ]
  },
  {
   "cell_type": "markdown",
   "metadata": {},
   "source": [
    "This changes the default rand_instruction function in our own super awesome function. So when the simulator will call rand_instruction the code from super_awesome_custom_instruction will be executed"
   ]
  },
  {
   "cell_type": "markdown",
   "metadata": {},
   "source": [
    "### CSV\n",
    "The format for csv files is the same as the instructions dtype. So on every line specify event_number,type,time ,x,y,z, amp and recoil in that order.\n",
    "Then tell the simulator it exists:\n"
   ]
  },
  {
   "cell_type": "code",
   "execution_count": 82,
   "metadata": {
    "ExecuteTime": {
     "end_time": "2021-05-10T12:46:14.684799Z",
     "start_time": "2021-05-10T12:46:14.681844Z"
    }
   },
   "outputs": [],
   "source": [
    "st.set_config(dict(fax_file='instructions.csv'))"
   ]
  },
  {
   "cell_type": "markdown",
   "metadata": {},
   "source": [
    "Ofcourse if you do not have this file it will not work"
   ]
  },
  {
   "cell_type": "markdown",
   "metadata": {},
   "source": [
    "### Geant4\n",
    "For starters you'll need to register the Epix plugin. This requires an epix configuration (it's on private_nt_aux_files), and if you want a start and stop event."
   ]
  },
  {
   "cell_type": "code",
   "execution_count": 83,
   "metadata": {
    "ExecuteTime": {
     "end_time": "2021-05-10T12:46:14.693993Z",
     "start_time": "2021-05-10T12:46:14.689195Z"
    }
   },
   "outputs": [],
   "source": [
    "st.register(wfsim.strax_interface.RawRecordsFromMcChain)\n",
    "st.set_config(dict(fax_file    = 'path_to_g4_file',\n",
    "                   epix_config = 'path_to_config'))"
   ]
  },
  {
   "cell_type": "markdown",
   "metadata": {},
   "source": [
    "### Optical"
   ]
  },
  {
   "cell_type": "markdown",
   "metadata": {},
   "source": [
    "Similar to above, register correct plugin and file:"
   ]
  },
  {
   "cell_type": "code",
   "execution_count": 84,
   "metadata": {
    "ExecuteTime": {
     "end_time": "2021-05-10T12:46:14.702591Z",
     "start_time": "2021-05-10T12:46:14.697845Z"
    }
   },
   "outputs": [],
   "source": [
    "st.register(wfsim.strax_interface.RawRecordsFromMcChain)\n",
    "st.set_config(dict(fax_file = 'path_to_g4_file',))"
   ]
  },
  {
   "cell_type": "markdown",
   "metadata": {},
   "source": [
    "### nVeto\n",
    "\n",
    "Because the nveto is a different system it has a slightly different configuration. This is not entirely finished. Once it is you can run like so:"
   ]
  },
  {
   "cell_type": "code",
   "execution_count": 85,
   "metadata": {
    "ExecuteTime": {
     "end_time": "2021-05-10T12:46:14.711697Z",
     "start_time": "2021-05-10T12:46:14.706717Z"
    }
   },
   "outputs": [],
   "source": [
    "st.register(wfsim.strax_interface.RawRecordsFromFaxnVeto)\n",
    "st.set_config(dict(fax_config_nveto = 'path_to_nveto_config_file',\n",
    "                  fax_file          = 'path_to_g4_file',))"
   ]
  },
  {
   "cell_type": "markdown",
   "metadata": {},
   "source": [
    "## Configuration customization\n",
    "The simulator using a larger large amount of configuration settings to do it's magic. Some of them are best left along, like pmt_circuit_load_resistor. Others on the other hand are things you might want change a bit to see how the data will change. Unfortunately currently the full list is spread out over two different places. One is the fax config json which is on github. The other is the option list in strax. Besides those things like pattern maps are hardcoded in load_resource.py. These files are overrideable with the option \"fax_config_override\""
   ]
  },
  {
   "cell_type": "markdown",
   "metadata": {},
   "source": [
    "The strax config is viewable like this and can be changed by st.set_config(dict(option you want=value you want))"
   ]
  },
  {
   "cell_type": "code",
   "execution_count": 86,
   "metadata": {
    "ExecuteTime": {
     "end_time": "2021-05-10T12:46:14.742336Z",
     "start_time": "2021-05-10T12:46:14.715680Z"
    }
   },
   "outputs": [
    {
     "data": {
      "text/html": [
       "<div>\n",
       "<style scoped>\n",
       "    .dataframe tbody tr th:only-of-type {\n",
       "        vertical-align: middle;\n",
       "    }\n",
       "\n",
       "    .dataframe tbody tr th {\n",
       "        vertical-align: top;\n",
       "    }\n",
       "\n",
       "    .dataframe thead th {\n",
       "        text-align: right;\n",
       "    }\n",
       "</style>\n",
       "<table border=\"1\" class=\"dataframe\">\n",
       "  <thead>\n",
       "    <tr style=\"text-align: right;\">\n",
       "      <th></th>\n",
       "      <th>option</th>\n",
       "      <th>default</th>\n",
       "      <th>current</th>\n",
       "      <th>applies_to</th>\n",
       "      <th>help</th>\n",
       "    </tr>\n",
       "  </thead>\n",
       "  <tbody>\n",
       "    <tr>\n",
       "      <th>0</th>\n",
       "      <td>gain_model_mc</td>\n",
       "      <td>cmt://to_pe_model?version=ONLINE&amp;run_id=plugin...</td>\n",
       "      <td>cmt://to_pe_model?run_id=00001&amp;version=ONLINE</td>\n",
       "      <td>(raw_records, raw_records_he, raw_records_aqmo...</td>\n",
       "      <td>PMT gain model. Specify as (model_type, model_...</td>\n",
       "    </tr>\n",
       "    <tr>\n",
       "      <th>1</th>\n",
       "      <td>detector</td>\n",
       "      <td>XENONnT</td>\n",
       "      <td>XENONnT</td>\n",
       "      <td>(raw_records, raw_records_he, raw_records_aqmo...</td>\n",
       "      <td></td>\n",
       "    </tr>\n",
       "    <tr>\n",
       "      <th>2</th>\n",
       "      <td>event_rate</td>\n",
       "      <td>1000</td>\n",
       "      <td>5</td>\n",
       "      <td>(raw_records, raw_records_he, raw_records_aqmo...</td>\n",
       "      <td>Average number of events per second</td>\n",
       "    </tr>\n",
       "    <tr>\n",
       "      <th>3</th>\n",
       "      <td>chunk_size</td>\n",
       "      <td>100</td>\n",
       "      <td>1</td>\n",
       "      <td>(raw_records, raw_records_he, raw_records_aqmo...</td>\n",
       "      <td>Duration of each chunk in seconds</td>\n",
       "    </tr>\n",
       "    <tr>\n",
       "      <th>4</th>\n",
       "      <td>n_chunk</td>\n",
       "      <td>10</td>\n",
       "      <td>&lt;OMITTED&gt;</td>\n",
       "      <td>(raw_records, raw_records_he, raw_records_aqmo...</td>\n",
       "      <td>Number of chunks to simulate</td>\n",
       "    </tr>\n",
       "    <tr>\n",
       "      <th>5</th>\n",
       "      <td>per_pmt_truth</td>\n",
       "      <td>False</td>\n",
       "      <td>&lt;OMITTED&gt;</td>\n",
       "      <td>(raw_records, raw_records_he, raw_records_aqmo...</td>\n",
       "      <td>Store the info per channel in the truth file</td>\n",
       "    </tr>\n",
       "    <tr>\n",
       "      <th>6</th>\n",
       "      <td>fax_file</td>\n",
       "      <td>None</td>\n",
       "      <td>path_to_g4_file</td>\n",
       "      <td>(raw_records, raw_records_he, raw_records_aqmo...</td>\n",
       "      <td>Directory with fax instructions</td>\n",
       "    </tr>\n",
       "    <tr>\n",
       "      <th>7</th>\n",
       "      <td>fax_config</td>\n",
       "      <td>fax_config_nt_design.json</td>\n",
       "      <td>fax_config_nt_design.json</td>\n",
       "      <td>(raw_records, raw_records_he, raw_records_aqmo...</td>\n",
       "      <td></td>\n",
       "    </tr>\n",
       "    <tr>\n",
       "      <th>8</th>\n",
       "      <td>fax_config_override</td>\n",
       "      <td>None</td>\n",
       "      <td>&lt;OMITTED&gt;</td>\n",
       "      <td>(raw_records, raw_records_he, raw_records_aqmo...</td>\n",
       "      <td>Dictionary with configuration option overrides</td>\n",
       "    </tr>\n",
       "    <tr>\n",
       "      <th>9</th>\n",
       "      <td>fax_config_override_from_cmt</td>\n",
       "      <td>None</td>\n",
       "      <td>{'drift_time_gate': ('cmt_run_id', '00001', 'e...</td>\n",
       "      <td>(raw_records, raw_records_he, raw_records_aqmo...</td>\n",
       "      <td>Dictionary of fax parameter names (key) mapped...</td>\n",
       "    </tr>\n",
       "    <tr>\n",
       "      <th>10</th>\n",
       "      <td>channel_map</td>\n",
       "      <td>&lt;OMITTED&gt;</td>\n",
       "      <td>(tpc, he, aqmon, aqmon_nv, tpc_blank, mv, aux_...</td>\n",
       "      <td>(raw_records, raw_records_he, raw_records_aqmo...</td>\n",
       "      <td>immutabledict mapping subdetector to (min, max...</td>\n",
       "    </tr>\n",
       "    <tr>\n",
       "      <th>11</th>\n",
       "      <td>n_tpc_pmts</td>\n",
       "      <td>&lt;OMITTED&gt;</td>\n",
       "      <td>494</td>\n",
       "      <td>(raw_records, raw_records_he, raw_records_aqmo...</td>\n",
       "      <td>Number of pmts in tpc. Provided by context</td>\n",
       "    </tr>\n",
       "    <tr>\n",
       "      <th>12</th>\n",
       "      <td>n_top_pmts</td>\n",
       "      <td>&lt;OMITTED&gt;</td>\n",
       "      <td>253</td>\n",
       "      <td>(raw_records, raw_records_he, raw_records_aqmo...</td>\n",
       "      <td>Number of pmts in top array. Provided by context</td>\n",
       "    </tr>\n",
       "    <tr>\n",
       "      <th>13</th>\n",
       "      <td>right_raw_extension</td>\n",
       "      <td>100000</td>\n",
       "      <td>&lt;OMITTED&gt;</td>\n",
       "      <td>(raw_records, raw_records_he, raw_records_aqmo...</td>\n",
       "      <td></td>\n",
       "    </tr>\n",
       "    <tr>\n",
       "      <th>14</th>\n",
       "      <td>seed</td>\n",
       "      <td>False</td>\n",
       "      <td>&lt;OMITTED&gt;</td>\n",
       "      <td>(raw_records, raw_records_he, raw_records_aqmo...</td>\n",
       "      <td>Option for setting the seed of the random numb...</td>\n",
       "    </tr>\n",
       "    <tr>\n",
       "      <th>15</th>\n",
       "      <td>gain_model_nv</td>\n",
       "      <td>&lt;OMITTED&gt;</td>\n",
       "      <td>cmt://to_pe_model_nv?run_id=00001&amp;version=ONLINE</td>\n",
       "      <td>(raw_records, raw_records_he, raw_records_aqmo...</td>\n",
       "      <td>nveto gain model, provided by context</td>\n",
       "    </tr>\n",
       "    <tr>\n",
       "      <th>16</th>\n",
       "      <td>epix_config</td>\n",
       "      <td>{}</td>\n",
       "      <td>path_to_config</td>\n",
       "      <td>(raw_records, raw_records_he, raw_records_aqmo...</td>\n",
       "      <td>Dict with epix configuration</td>\n",
       "    </tr>\n",
       "    <tr>\n",
       "      <th>17</th>\n",
       "      <td>entry_start</td>\n",
       "      <td>0</td>\n",
       "      <td>&lt;OMITTED&gt;</td>\n",
       "      <td>(raw_records, raw_records_he, raw_records_aqmo...</td>\n",
       "      <td></td>\n",
       "    </tr>\n",
       "    <tr>\n",
       "      <th>18</th>\n",
       "      <td>entry_stop</td>\n",
       "      <td>None</td>\n",
       "      <td>&lt;OMITTED&gt;</td>\n",
       "      <td>(raw_records, raw_records_he, raw_records_aqmo...</td>\n",
       "      <td>G4 id event number to stop at. If -1 process t...</td>\n",
       "    </tr>\n",
       "    <tr>\n",
       "      <th>19</th>\n",
       "      <td>fax_config_nveto</td>\n",
       "      <td>None</td>\n",
       "      <td>path_to_nveto_config_file</td>\n",
       "      <td>(raw_records, raw_records_he, raw_records_aqmo...</td>\n",
       "      <td></td>\n",
       "    </tr>\n",
       "    <tr>\n",
       "      <th>20</th>\n",
       "      <td>fax_config_override_nveto</td>\n",
       "      <td>None</td>\n",
       "      <td>&lt;OMITTED&gt;</td>\n",
       "      <td>(raw_records, raw_records_he, raw_records_aqmo...</td>\n",
       "      <td>Dictionary with configuration option overrides</td>\n",
       "    </tr>\n",
       "    <tr>\n",
       "      <th>21</th>\n",
       "      <td>targets</td>\n",
       "      <td>(tpc,)</td>\n",
       "      <td>&lt;OMITTED&gt;</td>\n",
       "      <td>(raw_records, raw_records_he, raw_records_aqmo...</td>\n",
       "      <td>tuple with what data to simulate (tpc, nveto o...</td>\n",
       "    </tr>\n",
       "  </tbody>\n",
       "</table>\n",
       "</div>"
      ],
      "text/plain": [
       "                          option  \\\n",
       "0                  gain_model_mc   \n",
       "1                       detector   \n",
       "2                     event_rate   \n",
       "3                     chunk_size   \n",
       "4                        n_chunk   \n",
       "5                  per_pmt_truth   \n",
       "6                       fax_file   \n",
       "7                     fax_config   \n",
       "8            fax_config_override   \n",
       "9   fax_config_override_from_cmt   \n",
       "10                   channel_map   \n",
       "11                    n_tpc_pmts   \n",
       "12                    n_top_pmts   \n",
       "13           right_raw_extension   \n",
       "14                          seed   \n",
       "15                 gain_model_nv   \n",
       "16                   epix_config   \n",
       "17                   entry_start   \n",
       "18                    entry_stop   \n",
       "19              fax_config_nveto   \n",
       "20     fax_config_override_nveto   \n",
       "21                       targets   \n",
       "\n",
       "                                              default  \\\n",
       "0   cmt://to_pe_model?version=ONLINE&run_id=plugin...   \n",
       "1                                             XENONnT   \n",
       "2                                                1000   \n",
       "3                                                 100   \n",
       "4                                                  10   \n",
       "5                                               False   \n",
       "6                                                None   \n",
       "7                           fax_config_nt_design.json   \n",
       "8                                                None   \n",
       "9                                                None   \n",
       "10                                          <OMITTED>   \n",
       "11                                          <OMITTED>   \n",
       "12                                          <OMITTED>   \n",
       "13                                             100000   \n",
       "14                                              False   \n",
       "15                                          <OMITTED>   \n",
       "16                                                 {}   \n",
       "17                                                  0   \n",
       "18                                               None   \n",
       "19                                               None   \n",
       "20                                               None   \n",
       "21                                             (tpc,)   \n",
       "\n",
       "                                              current  \\\n",
       "0       cmt://to_pe_model?run_id=00001&version=ONLINE   \n",
       "1                                             XENONnT   \n",
       "2                                                   5   \n",
       "3                                                   1   \n",
       "4                                           <OMITTED>   \n",
       "5                                           <OMITTED>   \n",
       "6                                     path_to_g4_file   \n",
       "7                           fax_config_nt_design.json   \n",
       "8                                           <OMITTED>   \n",
       "9   {'drift_time_gate': ('cmt_run_id', '00001', 'e...   \n",
       "10  (tpc, he, aqmon, aqmon_nv, tpc_blank, mv, aux_...   \n",
       "11                                                494   \n",
       "12                                                253   \n",
       "13                                          <OMITTED>   \n",
       "14                                          <OMITTED>   \n",
       "15   cmt://to_pe_model_nv?run_id=00001&version=ONLINE   \n",
       "16                                     path_to_config   \n",
       "17                                          <OMITTED>   \n",
       "18                                          <OMITTED>   \n",
       "19                          path_to_nveto_config_file   \n",
       "20                                          <OMITTED>   \n",
       "21                                          <OMITTED>   \n",
       "\n",
       "                                           applies_to  \\\n",
       "0   (raw_records, raw_records_he, raw_records_aqmo...   \n",
       "1   (raw_records, raw_records_he, raw_records_aqmo...   \n",
       "2   (raw_records, raw_records_he, raw_records_aqmo...   \n",
       "3   (raw_records, raw_records_he, raw_records_aqmo...   \n",
       "4   (raw_records, raw_records_he, raw_records_aqmo...   \n",
       "5   (raw_records, raw_records_he, raw_records_aqmo...   \n",
       "6   (raw_records, raw_records_he, raw_records_aqmo...   \n",
       "7   (raw_records, raw_records_he, raw_records_aqmo...   \n",
       "8   (raw_records, raw_records_he, raw_records_aqmo...   \n",
       "9   (raw_records, raw_records_he, raw_records_aqmo...   \n",
       "10  (raw_records, raw_records_he, raw_records_aqmo...   \n",
       "11  (raw_records, raw_records_he, raw_records_aqmo...   \n",
       "12  (raw_records, raw_records_he, raw_records_aqmo...   \n",
       "13  (raw_records, raw_records_he, raw_records_aqmo...   \n",
       "14  (raw_records, raw_records_he, raw_records_aqmo...   \n",
       "15  (raw_records, raw_records_he, raw_records_aqmo...   \n",
       "16  (raw_records, raw_records_he, raw_records_aqmo...   \n",
       "17  (raw_records, raw_records_he, raw_records_aqmo...   \n",
       "18  (raw_records, raw_records_he, raw_records_aqmo...   \n",
       "19  (raw_records, raw_records_he, raw_records_aqmo...   \n",
       "20  (raw_records, raw_records_he, raw_records_aqmo...   \n",
       "21  (raw_records, raw_records_he, raw_records_aqmo...   \n",
       "\n",
       "                                                 help  \n",
       "0   PMT gain model. Specify as (model_type, model_...  \n",
       "1                                                      \n",
       "2                 Average number of events per second  \n",
       "3                   Duration of each chunk in seconds  \n",
       "4                        Number of chunks to simulate  \n",
       "5        Store the info per channel in the truth file  \n",
       "6                     Directory with fax instructions  \n",
       "7                                                      \n",
       "8      Dictionary with configuration option overrides  \n",
       "9   Dictionary of fax parameter names (key) mapped...  \n",
       "10  immutabledict mapping subdetector to (min, max...  \n",
       "11         Number of pmts in tpc. Provided by context  \n",
       "12   Number of pmts in top array. Provided by context  \n",
       "13                                                     \n",
       "14  Option for setting the seed of the random numb...  \n",
       "15              nveto gain model, provided by context  \n",
       "16                       Dict with epix configuration  \n",
       "17                                                     \n",
       "18  G4 id event number to stop at. If -1 process t...  \n",
       "19                                                     \n",
       "20     Dictionary with configuration option overrides  \n",
       "21  tuple with what data to simulate (tpc, nveto o...  "
      ]
     },
     "execution_count": 86,
     "metadata": {},
     "output_type": "execute_result"
    }
   ],
   "source": [
    "st.show_config('raw_records')"
   ]
  },
  {
   "cell_type": "markdown",
   "metadata": {},
   "source": [
    "With the following block you can visualized which fax config you are using. Remeber that the fax config files are stored in **private_nt_aux_files** github repository, in the **sim_files** folder."
   ]
  },
  {
   "cell_type": "code",
   "execution_count": 87,
   "metadata": {
    "ExecuteTime": {
     "end_time": "2021-05-10T12:46:14.750813Z",
     "start_time": "2021-05-10T12:46:14.746036Z"
    }
   },
   "outputs": [
    {
     "data": {
      "text/plain": [
       "'fax_config_nt_design.json'"
      ]
     },
     "execution_count": 87,
     "metadata": {},
     "output_type": "execute_result"
    }
   ],
   "source": [
    "st.config['fax_config']"
   ]
  },
  {
   "cell_type": "markdown",
   "metadata": {},
   "source": [
    "The config from github can be loaded as:"
   ]
  },
  {
   "cell_type": "code",
   "execution_count": 88,
   "metadata": {
    "ExecuteTime": {
     "end_time": "2021-05-10T12:46:15.048319Z",
     "start_time": "2021-05-10T12:46:14.754783Z"
    }
   },
   "outputs": [
    {
     "data": {
      "text/plain": [
       "dict_keys(['s1_model_type', 's2_time_model', 's2_luminescence_model', 's2_garfield_confine_position', 'se_gain_from_map', 'ext_eff_from_map', 'enable_gas_gap_warping', 'enable_pmt_afterpulses', 'enable_electron_afterpulses', 'enable_noise', 'field_distortion_on', 'field_distortion_model', 'enable_field_dependencies', 'url_base', 'photon_area_distribution', 's1_pattern_map', 's2_pattern_map', 's1_lce_correction_map', 's2_correction_map', 'se_gain_map', 's1_time_spline', 's2_time_spline', 'field_distortion_comsol_map', 'photon_ap_cdfs', 'noise_file', 's2_luminescence_gg', 's2_luminescence', 'gas_gap_map', 'garfield_gas_gap_map', 'field_dependencies_map', 'temperature', 'pressure', 'lxe_dielectric_constant', 'tpc_length', 'tpc_radius', 'anode_wire_radius', 'anode_field_domination_distance', 'elr_gas_gap_length', 'gate_to_anode_distance', 'drift_field', 'anode_voltage', 'diffusion_constant_longitudinal', 'diffusion_constant_transverse', 'drift_time_gate', 'drift_velocity_liquid', 'singlet_fraction_gas', 'singlet_lifetime_gas', 'singlet_lifetime_liquid', 'triplet_lifetime_gas', 'triplet_lifetime_liquid', 's1_ER_alpha_singlet_fraction', 's1_ER_primary_singlet_fraction', 's1_ER_recombination_fraction', 's1_ER_recombination_time', 's1_ER_secondary_singlet_fraction', 's1_NR_singlet_fraction', 'maximum_recombination_time', 's1_decay_spread', 's1_decay_time', 's1_detection_efficiency', 's2_mean_area_fraction_top', 's2_aft_sigma', 's2_aft_skewness', 's2_secondary_sc_gain', 's2_time_spread', 'electron_extraction_yield', 'electron_lifetime_liquid', 'electron_trapping_time', 'gas_drift_velocity_slope', 'g2_mean', 'p_double_pe_emision', 'pe_pulse_ts', 'pe_pulse_ys', 'pmt_ap_modifier', 'pmt_ap_t_modifier', 'pmt_pulse_time_rounding', 'pmt_transit_time_mean', 'pmt_transit_time_spread', 'photoelectric_modifier', 'photoelectric_p', 'photoelectric_t_center', 'photoelectric_t_spread', 'photoionization_modifier', 'sample_duration', 'samples_after_pulse_center', 'samples_before_pulse_center', 'samples_to_store_after', 'samples_to_store_before', 'pmt_circuit_load_resistor', 'external_amplification', 'high_energy_deamplification_factor', 'trigger_window', 'digitizer_bits', 'digitizer_reference_baseline', 'digitizer_voltage_range', 'special_thresholds', 'zle_threshold'])"
      ]
     },
     "execution_count": 88,
     "metadata": {},
     "output_type": "execute_result"
    }
   ],
   "source": [
    "straxen.get_resource('fax_config_nt_design.json',fmt='json').keys()"
   ]
  },
  {
   "cell_type": "markdown",
   "metadata": {},
   "source": [
    "Changing things in this guy goes slightly different. In the strax option list there is the option called \"fax_config_override\". This takes a dict which will be used to override any values in the json config.\n",
    "So changing the 's2_secondary_sc_gain' is done as:"
   ]
  },
  {
   "cell_type": "code",
   "execution_count": 89,
   "metadata": {
    "ExecuteTime": {
     "end_time": "2021-05-10T12:46:15.055554Z",
     "start_time": "2021-05-10T12:46:15.052155Z"
    }
   },
   "outputs": [],
   "source": [
    "st.set_config(dict(fax_config_override = dict(s2_secondary_sc_gain=23)))"
   ]
  },
  {
   "cell_type": "markdown",
   "metadata": {},
   "source": [
    "## Things you might want to change\n",
    "\n",
    "There are 4 main things you might be interested in changing. They are:\n",
    " * Noise (True/False)\n",
    " * PMTAfterpulses (True/False)\n",
    " * Electron Afterpulses (True/False)\n",
    " * S2 luminescence (Simple or garfield)\n",
    "\n",
    "They are controled by config settings you can change as so:\n"
   ]
  },
  {
   "cell_type": "code",
   "execution_count": 90,
   "metadata": {
    "ExecuteTime": {
     "end_time": "2021-05-10T12:46:15.063269Z",
     "start_time": "2021-05-10T12:46:15.059057Z"
    }
   },
   "outputs": [],
   "source": [
    "st.set_config(dict(fax_config_override=dict(\n",
    "            s2_luminescence_model='simple',\n",
    "            enable_noise=False,\n",
    "            enable_pmt_afterpulses=False,\n",
    "            enable_electron_afterpulses=False,)))\n",
    "    "
   ]
  },
  {
   "cell_type": "markdown",
   "metadata": {},
   "source": [
    "## What actually happens?\n",
    "\n",
    "\n",
    "\n",
    "What happens behind the scenes is that the instructions are first grouped together in chunks. Then we loop over the instructions and the full chunk is returned before starting with the next one.\n",
    "\n",
    "We use a S1 and S2 class to calculate the arrival times of the photons and the channels which have been hit. Then we'll hand them over to the Pulse class to calculate the currents in the channels. Finally the currents go to a RawData class where we fake the digitizer response.\n",
    "\n",
    "### S1\n",
    "\n",
    "For S1s we start with calculating the light yield based on the position of the interaction, and draw the number of photons seen from a Poisson distribution.\n",
    "\n",
    "Second we calculate the arrival times of the photons. This is based on the scintillation of the xenon atoms. It is dependend on the recombination time, the singlet and triplet fractions.\n",
    "\n",
    "Finally the channels are calculated. Based on the pattern map we use a interpolation map to get a probability distribution for channels to be hit for a S1 signal based on the position of the interaction, and then we draw from this distribution for every photon.\n",
    "\n",
    "### S2\n",
    "\n",
    "S2s are slightly more complicated. First we need to drift the electrons up, and while doing so we'll lose some of them.\n",
    "To get the photon timings, we first need to get the arrival times of the electrons at the gas interface based on a diffusion model. Then we can calculate the photon timings based on a luminescence model for every individual electron. And for the channels we do the same trick with the interpolating map.\n",
    "\n",
    "\n",
    "### Pulse\n",
    "\n",
    "When we have our lists of channels and timing we can generate actual pulses. First we add a pmt transition time. Then we loop over all channels, calculate the double pe emission probabilities, and add a current in the pmt channel based on the arrival time. This is all stored in a big dictionary. Afterwards this is passed to our fake digitizers which then returns you with your very own pretty data\n"
   ]
  },
  {
   "cell_type": "markdown",
   "metadata": {},
   "source": [
    "### Getting down to bussiness\n",
    "\n",
    "\n",
    "Now we have access to all the normal strax data types, and another one called 'truth' which holds the simulation instructions. Calling it follows the normal strax convention."
   ]
  },
  {
   "cell_type": "code",
   "execution_count": 91,
   "metadata": {
    "ExecuteTime": {
     "end_time": "2021-05-10T12:46:15.088492Z",
     "start_time": "2021-05-10T12:46:15.065010Z"
    }
   },
   "outputs": [],
   "source": [
    "st = straxen.contexts.xenonnt_simulation(cmt_run_id_sim='00001')\n",
    "st.set_config(dict(event_rate=5, chunk_size=1, fax_file=None))"
   ]
  },
  {
   "cell_type": "code",
   "execution_count": 92,
   "metadata": {
    "ExecuteTime": {
     "end_time": "2021-05-10T12:46:48.016971Z",
     "start_time": "2021-05-10T12:46:15.092214Z"
    },
    "scrolled": true
   },
   "outputs": [
    {
     "data": {
      "application/vnd.jupyter.widget-view+json": {
       "model_id": "de3ee32e0c354d6ba875c1855eb5d05e",
       "version_major": 2,
       "version_minor": 0
      },
      "text/plain": [
       "Loading records: |          | 0.00 % [00:00<?]"
      ]
     },
     "metadata": {},
     "output_type": "display_data"
    },
    {
     "data": {
      "application/vnd.jupyter.widget-view+json": {
       "model_id": "fa9964d51b74435691e1df2f49253f04",
       "version_major": 2,
       "version_minor": 0
      },
      "text/plain": [
       "Loading truth: |          | 0.00 % [00:00<?]"
      ]
     },
     "metadata": {},
     "output_type": "display_data"
    }
   ],
   "source": [
    "# Remove any previously simulated data, if such exists\n",
    "# !rm -r strax_data\n",
    "\n",
    "records = st.get_array(run_id,'records')\n",
    "# peaks = st.get_array(run_id, ['peaks','peak_basics'])\n",
    "# data = st.get_df(run_id, 'event_info')\n",
    "\n",
    "truth = st.get_df(run_id, 'truth')"
   ]
  },
  {
   "cell_type": "markdown",
   "metadata": {},
   "source": [
    "Now it is time to make pretty plots and see if what we makes actually makes any sense"
   ]
  },
  {
   "cell_type": "code",
   "execution_count": 93,
   "metadata": {
    "ExecuteTime": {
     "end_time": "2021-05-10T12:46:55.867868Z",
     "start_time": "2021-05-10T12:46:48.020520Z"
    }
   },
   "outputs": [
    {
     "data": {
      "application/vnd.jupyter.widget-view+json": {
       "model_id": "37817cd1ea694f1ba80da900b7c911fb",
       "version_major": 2,
       "version_minor": 0
      },
      "text/plain": [
       "Loading peak_basics: |          | 0.00 % [00:00<?]"
      ]
     },
     "metadata": {},
     "output_type": "display_data"
    }
   ],
   "source": [
    "peak_basics = st.get_df(run_id, 'peak_basics')"
   ]
  },
  {
   "cell_type": "code",
   "execution_count": 94,
   "metadata": {
    "ExecuteTime": {
     "end_time": "2021-05-10T12:46:55.889545Z",
     "start_time": "2021-05-10T12:46:55.871860Z"
    }
   },
   "outputs": [
    {
     "data": {
      "text/html": [
       "<div>\n",
       "<style scoped>\n",
       "    .dataframe tbody tr th:only-of-type {\n",
       "        vertical-align: middle;\n",
       "    }\n",
       "\n",
       "    .dataframe tbody tr th {\n",
       "        vertical-align: top;\n",
       "    }\n",
       "\n",
       "    .dataframe thead th {\n",
       "        text-align: right;\n",
       "    }\n",
       "</style>\n",
       "<table border=\"1\" class=\"dataframe\">\n",
       "  <thead>\n",
       "    <tr style=\"text-align: right;\">\n",
       "      <th></th>\n",
       "      <th>time</th>\n",
       "      <th>endtime</th>\n",
       "      <th>center_time</th>\n",
       "      <th>area</th>\n",
       "      <th>n_hits</th>\n",
       "      <th>n_channels</th>\n",
       "      <th>max_pmt</th>\n",
       "      <th>max_pmt_area</th>\n",
       "      <th>n_saturated_channels</th>\n",
       "      <th>range_50p_area</th>\n",
       "      <th>range_90p_area</th>\n",
       "      <th>area_fraction_top</th>\n",
       "      <th>length</th>\n",
       "      <th>dt</th>\n",
       "      <th>rise_time</th>\n",
       "      <th>tight_coincidence</th>\n",
       "      <th>type</th>\n",
       "      <th>max_diff</th>\n",
       "      <th>min_diff</th>\n",
       "    </tr>\n",
       "  </thead>\n",
       "  <tbody>\n",
       "    <tr>\n",
       "      <th>0</th>\n",
       "      <td>100000030</td>\n",
       "      <td>100000670</td>\n",
       "      <td>100000205</td>\n",
       "      <td>45.194511</td>\n",
       "      <td>14</td>\n",
       "      <td>13</td>\n",
       "      <td>345</td>\n",
       "      <td>5.892519</td>\n",
       "      <td>0</td>\n",
       "      <td>198.728180</td>\n",
       "      <td>327.420563</td>\n",
       "      <td>0.138998</td>\n",
       "      <td>64</td>\n",
       "      <td>10</td>\n",
       "      <td>94.678757</td>\n",
       "      <td>7</td>\n",
       "      <td>2</td>\n",
       "      <td>80</td>\n",
       "      <td>10</td>\n",
       "    </tr>\n",
       "    <tr>\n",
       "      <th>1</th>\n",
       "      <td>100622470</td>\n",
       "      <td>100626210</td>\n",
       "      <td>100624258</td>\n",
       "      <td>143.898376</td>\n",
       "      <td>41</td>\n",
       "      <td>17</td>\n",
       "      <td>50</td>\n",
       "      <td>45.115543</td>\n",
       "      <td>0</td>\n",
       "      <td>1164.394287</td>\n",
       "      <td>2533.276855</td>\n",
       "      <td>0.875330</td>\n",
       "      <td>187</td>\n",
       "      <td>20</td>\n",
       "      <td>930.115356</td>\n",
       "      <td>7</td>\n",
       "      <td>2</td>\n",
       "      <td>500</td>\n",
       "      <td>0</td>\n",
       "    </tr>\n",
       "    <tr>\n",
       "      <th>2</th>\n",
       "      <td>300000020</td>\n",
       "      <td>300000410</td>\n",
       "      <td>300000128</td>\n",
       "      <td>22.863621</td>\n",
       "      <td>7</td>\n",
       "      <td>6</td>\n",
       "      <td>483</td>\n",
       "      <td>5.560007</td>\n",
       "      <td>0</td>\n",
       "      <td>73.276711</td>\n",
       "      <td>153.896225</td>\n",
       "      <td>0.276379</td>\n",
       "      <td>39</td>\n",
       "      <td>10</td>\n",
       "      <td>53.755302</td>\n",
       "      <td>5</td>\n",
       "      <td>1</td>\n",
       "      <td>40</td>\n",
       "      <td>10</td>\n",
       "    </tr>\n",
       "    <tr>\n",
       "      <th>3</th>\n",
       "      <td>300724040</td>\n",
       "      <td>300724470</td>\n",
       "      <td>300724142</td>\n",
       "      <td>7.752567</td>\n",
       "      <td>3</td>\n",
       "      <td>3</td>\n",
       "      <td>461</td>\n",
       "      <td>3.555671</td>\n",
       "      <td>0</td>\n",
       "      <td>92.052193</td>\n",
       "      <td>296.905457</td>\n",
       "      <td>0.000000</td>\n",
       "      <td>43</td>\n",
       "      <td>10</td>\n",
       "      <td>25.530293</td>\n",
       "      <td>2</td>\n",
       "      <td>1</td>\n",
       "      <td>180</td>\n",
       "      <td>10</td>\n",
       "    </tr>\n",
       "    <tr>\n",
       "      <th>4</th>\n",
       "      <td>500000050</td>\n",
       "      <td>500000560</td>\n",
       "      <td>500000248</td>\n",
       "      <td>51.385868</td>\n",
       "      <td>11</td>\n",
       "      <td>11</td>\n",
       "      <td>408</td>\n",
       "      <td>20.320269</td>\n",
       "      <td>0</td>\n",
       "      <td>166.012741</td>\n",
       "      <td>310.153564</td>\n",
       "      <td>0.129670</td>\n",
       "      <td>51</td>\n",
       "      <td>10</td>\n",
       "      <td>142.900955</td>\n",
       "      <td>2</td>\n",
       "      <td>2</td>\n",
       "      <td>90</td>\n",
       "      <td>0</td>\n",
       "    </tr>\n",
       "    <tr>\n",
       "      <th>5</th>\n",
       "      <td>500589980</td>\n",
       "      <td>500593580</td>\n",
       "      <td>500591982</td>\n",
       "      <td>37.373817</td>\n",
       "      <td>15</td>\n",
       "      <td>10</td>\n",
       "      <td>241</td>\n",
       "      <td>8.749174</td>\n",
       "      <td>0</td>\n",
       "      <td>1940.112183</td>\n",
       "      <td>3275.072021</td>\n",
       "      <td>0.688202</td>\n",
       "      <td>180</td>\n",
       "      <td>20</td>\n",
       "      <td>2096.490967</td>\n",
       "      <td>3</td>\n",
       "      <td>2</td>\n",
       "      <td>-1</td>\n",
       "      <td>-1</td>\n",
       "    </tr>\n",
       "    <tr>\n",
       "      <th>6</th>\n",
       "      <td>700000040</td>\n",
       "      <td>700000610</td>\n",
       "      <td>700000139</td>\n",
       "      <td>15.011408</td>\n",
       "      <td>4</td>\n",
       "      <td>4</td>\n",
       "      <td>324</td>\n",
       "      <td>4.820670</td>\n",
       "      <td>0</td>\n",
       "      <td>57.526924</td>\n",
       "      <td>345.084930</td>\n",
       "      <td>0.000000</td>\n",
       "      <td>57</td>\n",
       "      <td>10</td>\n",
       "      <td>49.048229</td>\n",
       "      <td>3</td>\n",
       "      <td>1</td>\n",
       "      <td>270</td>\n",
       "      <td>20</td>\n",
       "    </tr>\n",
       "    <tr>\n",
       "      <th>7</th>\n",
       "      <td>700699840</td>\n",
       "      <td>700706240</td>\n",
       "      <td>700703462</td>\n",
       "      <td>102.122833</td>\n",
       "      <td>25</td>\n",
       "      <td>14</td>\n",
       "      <td>129</td>\n",
       "      <td>33.482544</td>\n",
       "      <td>0</td>\n",
       "      <td>3729.012451</td>\n",
       "      <td>5596.686035</td>\n",
       "      <td>0.880986</td>\n",
       "      <td>160</td>\n",
       "      <td>40</td>\n",
       "      <td>2050.706543</td>\n",
       "      <td>4</td>\n",
       "      <td>2</td>\n",
       "      <td>-1</td>\n",
       "      <td>-1</td>\n",
       "    </tr>\n",
       "    <tr>\n",
       "      <th>8</th>\n",
       "      <td>900000050</td>\n",
       "      <td>900000720</td>\n",
       "      <td>900000210</td>\n",
       "      <td>28.657455</td>\n",
       "      <td>8</td>\n",
       "      <td>8</td>\n",
       "      <td>346</td>\n",
       "      <td>7.821901</td>\n",
       "      <td>0</td>\n",
       "      <td>151.675720</td>\n",
       "      <td>443.599609</td>\n",
       "      <td>0.229542</td>\n",
       "      <td>67</td>\n",
       "      <td>10</td>\n",
       "      <td>58.658257</td>\n",
       "      <td>5</td>\n",
       "      <td>1</td>\n",
       "      <td>290</td>\n",
       "      <td>0</td>\n",
       "    </tr>\n",
       "    <tr>\n",
       "      <th>9</th>\n",
       "      <td>900703540</td>\n",
       "      <td>900707830</td>\n",
       "      <td>900705461</td>\n",
       "      <td>99.501129</td>\n",
       "      <td>24</td>\n",
       "      <td>16</td>\n",
       "      <td>64</td>\n",
       "      <td>27.903099</td>\n",
       "      <td>0</td>\n",
       "      <td>1144.565796</td>\n",
       "      <td>3354.698730</td>\n",
       "      <td>0.942021</td>\n",
       "      <td>143</td>\n",
       "      <td>30</td>\n",
       "      <td>838.284546</td>\n",
       "      <td>2</td>\n",
       "      <td>2</td>\n",
       "      <td>610</td>\n",
       "      <td>10</td>\n",
       "    </tr>\n",
       "  </tbody>\n",
       "</table>\n",
       "</div>"
      ],
      "text/plain": [
       "        time    endtime  center_time        area  n_hits  n_channels  max_pmt  \\\n",
       "0  100000030  100000670    100000205   45.194511      14          13      345   \n",
       "1  100622470  100626210    100624258  143.898376      41          17       50   \n",
       "2  300000020  300000410    300000128   22.863621       7           6      483   \n",
       "3  300724040  300724470    300724142    7.752567       3           3      461   \n",
       "4  500000050  500000560    500000248   51.385868      11          11      408   \n",
       "5  500589980  500593580    500591982   37.373817      15          10      241   \n",
       "6  700000040  700000610    700000139   15.011408       4           4      324   \n",
       "7  700699840  700706240    700703462  102.122833      25          14      129   \n",
       "8  900000050  900000720    900000210   28.657455       8           8      346   \n",
       "9  900703540  900707830    900705461   99.501129      24          16       64   \n",
       "\n",
       "   max_pmt_area  n_saturated_channels  range_50p_area  range_90p_area  \\\n",
       "0      5.892519                     0      198.728180      327.420563   \n",
       "1     45.115543                     0     1164.394287     2533.276855   \n",
       "2      5.560007                     0       73.276711      153.896225   \n",
       "3      3.555671                     0       92.052193      296.905457   \n",
       "4     20.320269                     0      166.012741      310.153564   \n",
       "5      8.749174                     0     1940.112183     3275.072021   \n",
       "6      4.820670                     0       57.526924      345.084930   \n",
       "7     33.482544                     0     3729.012451     5596.686035   \n",
       "8      7.821901                     0      151.675720      443.599609   \n",
       "9     27.903099                     0     1144.565796     3354.698730   \n",
       "\n",
       "   area_fraction_top  length  dt    rise_time  tight_coincidence  type  \\\n",
       "0           0.138998      64  10    94.678757                  7     2   \n",
       "1           0.875330     187  20   930.115356                  7     2   \n",
       "2           0.276379      39  10    53.755302                  5     1   \n",
       "3           0.000000      43  10    25.530293                  2     1   \n",
       "4           0.129670      51  10   142.900955                  2     2   \n",
       "5           0.688202     180  20  2096.490967                  3     2   \n",
       "6           0.000000      57  10    49.048229                  3     1   \n",
       "7           0.880986     160  40  2050.706543                  4     2   \n",
       "8           0.229542      67  10    58.658257                  5     1   \n",
       "9           0.942021     143  30   838.284546                  2     2   \n",
       "\n",
       "   max_diff  min_diff  \n",
       "0        80        10  \n",
       "1       500         0  \n",
       "2        40        10  \n",
       "3       180        10  \n",
       "4        90         0  \n",
       "5        -1        -1  \n",
       "6       270        20  \n",
       "7        -1        -1  \n",
       "8       290         0  \n",
       "9       610        10  "
      ]
     },
     "execution_count": 94,
     "metadata": {},
     "output_type": "execute_result"
    }
   ],
   "source": [
    "peak_basics.head(10)"
   ]
  },
  {
   "cell_type": "markdown",
   "metadata": {},
   "source": [
    "## Matching\n",
    "To do matching with the truth the easiest way is to write a new strax plugin where you loop over peaks and get the truth arrays where the mean arrival time of the photons are within the time window of the peak\n",
    "So that will look something like this:"
   ]
  },
  {
   "cell_type": "code",
   "execution_count": 95,
   "metadata": {
    "ExecuteTime": {
     "end_time": "2021-05-10T12:46:55.899433Z",
     "start_time": "2021-05-10T12:46:55.893984Z"
    }
   },
   "outputs": [
    {
     "name": "stderr",
     "output_type": "stream",
     "text": [
      "/tmp/jobs/29284557/ipykernel_277/3800134942.py:6: DeprecationWarning: `np.int` is a deprecated alias for the builtin `int`. To silence this warning, use `int` by itself. Doing this will not modify any behavior and is safe. When replacing `np.int`, you may wish to use e.g. `np.int64` or `np.int32` to specify the precision. If you wish to review your current use, check the release note link for additional information.\n",
      "Deprecated in NumPy 1.20; for more details and guidance: https://numpy.org/devdocs/release/1.20.0-notes.html#deprecations\n",
      "  dtype = [('time', np.int),\n",
      "/tmp/jobs/29284557/ipykernel_277/3800134942.py:7: DeprecationWarning: `np.int` is a deprecated alias for the builtin `int`. To silence this warning, use `int` by itself. Doing this will not modify any behavior and is safe. When replacing `np.int`, you may wish to use e.g. `np.int64` or `np.int32` to specify the precision. If you wish to review your current use, check the release note link for additional information.\n",
      "Deprecated in NumPy 1.20; for more details and guidance: https://numpy.org/devdocs/release/1.20.0-notes.html#deprecations\n",
      "  ('endtime', np.int),\n",
      "/tmp/jobs/29284557/ipykernel_277/3800134942.py:8: DeprecationWarning: `np.int` is a deprecated alias for the builtin `int`. To silence this warning, use `int` by itself. Doing this will not modify any behavior and is safe. When replacing `np.int`, you may wish to use e.g. `np.int64` or `np.int32` to specify the precision. If you wish to review your current use, check the release note link for additional information.\n",
      "Deprecated in NumPy 1.20; for more details and guidance: https://numpy.org/devdocs/release/1.20.0-notes.html#deprecations\n",
      "  ('area', np.int),\n",
      "/tmp/jobs/29284557/ipykernel_277/3800134942.py:9: DeprecationWarning: `np.int` is a deprecated alias for the builtin `int`. To silence this warning, use `int` by itself. Doing this will not modify any behavior and is safe. When replacing `np.int`, you may wish to use e.g. `np.int64` or `np.int32` to specify the precision. If you wish to review your current use, check the release note link for additional information.\n",
      "Deprecated in NumPy 1.20; for more details and guidance: https://numpy.org/devdocs/release/1.20.0-notes.html#deprecations\n",
      "  ('n_photon', np.int)]\n"
     ]
    }
   ],
   "source": [
    "class MatchedPeaks(strax.LoopPlugin):\n",
    "    depends_on = ('peak_basics', 'truth')\n",
    "    provides = 'matched_peaks'\n",
    "    __version__ = '0.0.2'\n",
    "\n",
    "    dtype = [('time', np.int),\n",
    "             ('endtime', np.int),\n",
    "             ('area', np.int),\n",
    "             ('n_photon', np.int)]\n",
    "    \n",
    "    def compute(self, peaks, truth):\n",
    "        result = np.zeros(len(truth), self.dtype)\n",
    "\n",
    "        temp = strax.touching_windows(peaks, truth)\n",
    "        idx_truth = []\n",
    "        idx_peak = []\n",
    "        for ix, (l, r) in enumerate(temp):\n",
    "            res = result[ix]\n",
    "            res['time'] = truth['time'][ix]\n",
    "            res['endtime'] = strax.endtime(truth)[ix]\n",
    "            res['n_photon'] = truth['n_photon'][ix]\n",
    "    \n",
    "            if r > l:\n",
    "                i_peak = l+np.argmax(peaks['area'][l:r])\n",
    "                res['area'] = peaks['area'][i_peak]\n",
    "        \n",
    "        return result"
   ]
  },
  {
   "cell_type": "markdown",
   "metadata": {},
   "source": [
    "Of course this doesn't actually work. An electron afterpulse can be very spread out leading it to be interpreted as multiple peaks while coming from 1 instruction falling outside of the specified range. It would be very much appreciated if someone wants make a more sturdy selection criteria :)\n",
    "\n",
    "For example, checkout out peak matching algorithm for WFSim: https://github.com/XENONnT/pema"
   ]
  },
  {
   "cell_type": "code",
   "execution_count": 96,
   "metadata": {
    "ExecuteTime": {
     "end_time": "2021-05-10T12:46:55.909437Z",
     "start_time": "2021-05-10T12:46:55.903930Z"
    }
   },
   "outputs": [
    {
     "data": {
      "text/plain": [
       "__main__.MatchedPeaks"
      ]
     },
     "execution_count": 96,
     "metadata": {},
     "output_type": "execute_result"
    }
   ],
   "source": [
    "st.register(MatchedPeaks)"
   ]
  },
  {
   "cell_type": "code",
   "execution_count": 97,
   "metadata": {
    "ExecuteTime": {
     "end_time": "2021-05-10T12:46:56.084892Z",
     "start_time": "2021-05-10T12:46:55.913372Z"
    }
   },
   "outputs": [
    {
     "data": {
      "application/vnd.jupyter.widget-view+json": {
       "model_id": "88b268d26cd140889140d333ba1155b2",
       "version_major": 2,
       "version_minor": 0
      },
      "text/plain": [
       "Loading matched_peaks: |          | 0.00 % [00:00<?]"
      ]
     },
     "metadata": {},
     "output_type": "display_data"
    },
    {
     "data": {
      "text/html": [
       "<div>\n",
       "<style scoped>\n",
       "    .dataframe tbody tr th:only-of-type {\n",
       "        vertical-align: middle;\n",
       "    }\n",
       "\n",
       "    .dataframe tbody tr th {\n",
       "        vertical-align: top;\n",
       "    }\n",
       "\n",
       "    .dataframe thead th {\n",
       "        text-align: right;\n",
       "    }\n",
       "</style>\n",
       "<table border=\"1\" class=\"dataframe\">\n",
       "  <thead>\n",
       "    <tr style=\"text-align: right;\">\n",
       "      <th></th>\n",
       "      <th>time</th>\n",
       "      <th>endtime</th>\n",
       "      <th>area</th>\n",
       "      <th>n_photon</th>\n",
       "    </tr>\n",
       "  </thead>\n",
       "  <tbody>\n",
       "    <tr>\n",
       "      <th>0</th>\n",
       "      <td>100000029</td>\n",
       "      <td>100000630</td>\n",
       "      <td>45</td>\n",
       "      <td>251</td>\n",
       "    </tr>\n",
       "    <tr>\n",
       "      <th>1</th>\n",
       "      <td>100000333</td>\n",
       "      <td>100000791</td>\n",
       "      <td>45</td>\n",
       "      <td>69</td>\n",
       "    </tr>\n",
       "    <tr>\n",
       "      <th>2</th>\n",
       "      <td>100620431</td>\n",
       "      <td>100627474</td>\n",
       "      <td>143</td>\n",
       "      <td>856</td>\n",
       "    </tr>\n",
       "    <tr>\n",
       "      <th>3</th>\n",
       "      <td>100622911</td>\n",
       "      <td>100627768</td>\n",
       "      <td>143</td>\n",
       "      <td>211</td>\n",
       "    </tr>\n",
       "    <tr>\n",
       "      <th>4</th>\n",
       "      <td>300000006</td>\n",
       "      <td>300000565</td>\n",
       "      <td>22</td>\n",
       "      <td>255</td>\n",
       "    </tr>\n",
       "    <tr>\n",
       "      <th>5</th>\n",
       "      <td>300000067</td>\n",
       "      <td>300000556</td>\n",
       "      <td>22</td>\n",
       "      <td>69</td>\n",
       "    </tr>\n",
       "    <tr>\n",
       "      <th>6</th>\n",
       "      <td>300723015</td>\n",
       "      <td>300728784</td>\n",
       "      <td>7</td>\n",
       "      <td>186</td>\n",
       "    </tr>\n",
       "    <tr>\n",
       "      <th>7</th>\n",
       "      <td>300723660</td>\n",
       "      <td>300727606</td>\n",
       "      <td>7</td>\n",
       "      <td>128</td>\n",
       "    </tr>\n",
       "    <tr>\n",
       "      <th>8</th>\n",
       "      <td>500000003</td>\n",
       "      <td>500000619</td>\n",
       "      <td>51</td>\n",
       "      <td>235</td>\n",
       "    </tr>\n",
       "    <tr>\n",
       "      <th>9</th>\n",
       "      <td>500000111</td>\n",
       "      <td>500000642</td>\n",
       "      <td>51</td>\n",
       "      <td>49</td>\n",
       "    </tr>\n",
       "  </tbody>\n",
       "</table>\n",
       "</div>"
      ],
      "text/plain": [
       "        time    endtime  area  n_photon\n",
       "0  100000029  100000630    45       251\n",
       "1  100000333  100000791    45        69\n",
       "2  100620431  100627474   143       856\n",
       "3  100622911  100627768   143       211\n",
       "4  300000006  300000565    22       255\n",
       "5  300000067  300000556    22        69\n",
       "6  300723015  300728784     7       186\n",
       "7  300723660  300727606     7       128\n",
       "8  500000003  500000619    51       235\n",
       "9  500000111  500000642    51        49"
      ]
     },
     "execution_count": 97,
     "metadata": {},
     "output_type": "execute_result"
    }
   ],
   "source": [
    "st.get_df(run_id, 'matched_peaks').head(10)"
   ]
  },
  {
   "cell_type": "markdown",
   "metadata": {},
   "source": [
    "# Externally call functions"
   ]
  },
  {
   "cell_type": "markdown",
   "metadata": {},
   "source": [
    "The s1/s2 functions used for generating photon timings and channels are now doocumented and callable from the outside. This you can use if you want to do something like compare photon arrival timings between wfsims results and g4"
   ]
  },
  {
   "cell_type": "code",
   "execution_count": 98,
   "metadata": {
    "ExecuteTime": {
     "end_time": "2021-05-10T12:46:56.093761Z",
     "start_time": "2021-05-10T12:46:56.088624Z"
    }
   },
   "outputs": [
    {
     "name": "stdout",
     "output_type": "stream",
     "text": [
      "Object `wfsim.core.S1.get_n_photons` not found.\n"
     ]
    }
   ],
   "source": [
    "st = straxen.contexts.xenonnt_simulation(cmt_run_id_sim='00001')"
   ]
  },
  {
   "cell_type": "code",
   "execution_count": 119,
   "metadata": {},
   "outputs": [],
   "source": [
    "config = straxen.get_resource('fax_config_nt_sr0_v4.json', fmt='json')\n",
    "config.update({'detector':'XENONnT', 'right_raw_extension':50000})\n",
    "st.config['gains'] = [1 for _ in range(straxen.n_tpc_pmts)]\n",
    "config.update(st.config)"
   ]
  },
  {
   "cell_type": "code",
   "execution_count": 122,
   "metadata": {},
   "outputs": [
    {
     "name": "stderr",
     "output_type": "stream",
     "text": [
      "WARNING:wfsim.resource:Loading XENONnT_SR0_spe_distributions_20210713_no_noise_scaled.csv from mongo downloader to /dali/lgrandi/strax/resource_cache/99c2cbc580cfa8eeebe831456076e136\n",
      "WARNING:wfsim.resource:Loading XENONnT_s1_xyz_patterns_LCE_MCvf051911_wires.pkl from mongo downloader to /dali/lgrandi/strax/resource_cache/02ed2634596793f6e7aa13783745089a\n",
      "WARNING:wfsim.resource:A file has value False, assuming this is intentional.\n",
      "WARNING:wfsim.resource:Loading XENONnT_s2_xy_patterns_GXe_LCE_corrected_qes_MCv4.3.0_wires.pkl from mongo downloader to /dali/lgrandi/strax/resource_cache/6639b01b73d4fdbb703174ad424801f5\n",
      "WARNING:wfsim.resource:Loading XENONnT_s2_xy_map_v4_210503_mlp_3_in_1_iterated.json from mongo downloader to /dali/lgrandi/strax/resource_cache/ca348171778ae5cdb5de6c1f5814f156\n",
      "WARNING:wfsim.resource:Loading XENONnT_se_xy_map_v1_mlp.json from mongo downloader to /dali/lgrandi/strax/resource_cache/4ed37f1d06853503899ac37a0a2237ba\n",
      "WARNING:wfsim.resource:Loading XENONnT_pmt_afterpulse_config_018435.json.gz from mongo downloader to /dali/lgrandi/strax/resource_cache/a38b18cd61ca67a065a3a32d9b57c2b2\n",
      "WARNING:wfsim.resource:Loading XENONnT_GARFIELD_SR0_B2d75n_C2d75n_G0d3p_A4d9p_T0d9n_PMTs1d3n_FSR0d65p.npz from mongo downloader to /dali/lgrandi/strax/resource_cache/42d87bc750ceb2f3c0491a586e016341\n",
      "WARNING:wfsim.resource:Loading garfield_timing_map_gas_gap_sr0.npy from mongo downloader to /dali/lgrandi/strax/resource_cache/803c5f08cb89063a9671ac8da5cb7e75\n",
      "WARNING:wfsim.resource:Loading gas_gap_warping_map_January_2021.pkl from mongo downloader to /dali/lgrandi/strax/resource_cache/d37b34dda3e865ef607b0bee2057772c\n",
      "WARNING:wfsim.resource:Loading garfield_gas_gap_map_sr0.json from mongo downloader to /dali/lgrandi/strax/resource_cache/d39d7eda03373635c60e209067470dc8\n",
      "WARNING:wfsim.resource:Loading x1t_se_afterpulse_delaytime.pkl.gz from mongo downloader to /dali/lgrandi/strax/resource_cache/014aa048758a51f154cdc3b32dac2773\n",
      "WARNING:wfsim.resource:Loading XENONnT_noise_tpc_only_2ms_25118.npz from mongo downloader to /dali/lgrandi/strax/resource_cache/e560759e28f74d5c049425c25e5ae0d5\n",
      "WARNING:wfsim.resource:Loading XnT_3D_FDC_xyt_dummy_all_zeros_v0.1.json.gz from mongo downloader to /dali/lgrandi/strax/resource_cache/55b30b2d26d151ae8e2aa55ffe6693ad\n",
      "WARNING:wfsim.resource:Loading field_dependent_radius_depth_maps_B2d75n_C2d75n_G0d3p_A4d9p_T0d9n_PMTs1d3n_FSR0d65p_QPTFE_0d5n_0d4p.json.gz from mongo downloader to /dali/lgrandi/strax/resource_cache/487272e33b4c832ae715350b6275ba0b\n",
      "WARNING:wfsim.resource:Loading data_driven_diffusion_map_XENONnTSR0V2.json.gz from mongo downloader to /dali/lgrandi/strax/resource_cache/8a6c6dc1bfe5380f48e96462161a3313\n",
      "WARNING:wfsim.resource:Loading XENONnT_s1_proponly_pc_reflection_optPhot_perPMT_S1_local_20220510.json.gz from mongo downloader to /dali/lgrandi/strax/resource_cache/91f4a6162d5e335c4416165349222061\n",
      "WARNING:wfsim.resource:Loading XENONnT_s2_opticalprop_time_v0.json.gz from mongo downloader to /dali/lgrandi/strax/resource_cache/1d257e215e00873e37ae49f16a04d717\n",
      "WARNING:wfsim.resource:Using json for unspecified XENONnT_se_xy_map_v1_mlp.json\n",
      "/opt/XENONnT/anaconda/envs/XENONnT_2023.07.1/lib/python3.9/site-packages/wfsim/load_resource.py:262: RuntimeWarning: invalid value encountered in true_divide\n",
      "  orig_aft_=np.mean((s2map_topeff_/s2map_toteff_)[s2map_toteff_>0.0])\n",
      "WARNING:wfsim.resource:Using json.gz for unspecified XENONnT_s2_opticalprop_time_v0.json.gz\n",
      "WARNING:wfsim.resource:Using noise data XENONnT_noise_tpc_only_2ms_25118.npz with 494 channels for XENONnT\n"
     ]
    }
   ],
   "source": [
    "s2 = wfsim.core.s2.S2(config)"
   ]
  },
  {
   "cell_type": "code",
   "execution_count": 124,
   "metadata": {},
   "outputs": [
    {
     "data": {
      "text/plain": [
       "\u001b[0;31mSignature:\u001b[0m      \n",
       "\u001b[0ms2\u001b[0m\u001b[0;34m.\u001b[0m\u001b[0melectron_timings\u001b[0m\u001b[0;34m(\u001b[0m\u001b[0;34m\u001b[0m\n",
       "\u001b[0;34m\u001b[0m    \u001b[0mt\u001b[0m\u001b[0;34m,\u001b[0m\u001b[0;34m\u001b[0m\n",
       "\u001b[0;34m\u001b[0m    \u001b[0mn_electron\u001b[0m\u001b[0;34m,\u001b[0m\u001b[0;34m\u001b[0m\n",
       "\u001b[0;34m\u001b[0m    \u001b[0mdrift_time_mean\u001b[0m\u001b[0;34m,\u001b[0m\u001b[0;34m\u001b[0m\n",
       "\u001b[0;34m\u001b[0m    \u001b[0mdrift_time_spread\u001b[0m\u001b[0;34m,\u001b[0m\u001b[0;34m\u001b[0m\n",
       "\u001b[0;34m\u001b[0m    \u001b[0msc_gain\u001b[0m\u001b[0;34m,\u001b[0m\u001b[0;34m\u001b[0m\n",
       "\u001b[0;34m\u001b[0m    \u001b[0mtimings\u001b[0m\u001b[0;34m,\u001b[0m\u001b[0;34m\u001b[0m\n",
       "\u001b[0;34m\u001b[0m    \u001b[0mgains\u001b[0m\u001b[0;34m,\u001b[0m\u001b[0;34m\u001b[0m\n",
       "\u001b[0;34m\u001b[0m    \u001b[0melectron_trapping_time\u001b[0m\u001b[0;34m,\u001b[0m\u001b[0;34m\u001b[0m\n",
       "\u001b[0;34m\u001b[0m\u001b[0;34m)\u001b[0m\u001b[0;34m\u001b[0m\u001b[0;34m\u001b[0m\u001b[0m\n",
       "\u001b[0;31mCall signature:\u001b[0m  \u001b[0ms2\u001b[0m\u001b[0;34m.\u001b[0m\u001b[0melectron_timings\u001b[0m\u001b[0;34m(\u001b[0m\u001b[0;34m*\u001b[0m\u001b[0margs\u001b[0m\u001b[0;34m,\u001b[0m \u001b[0;34m**\u001b[0m\u001b[0mkwargs\u001b[0m\u001b[0;34m)\u001b[0m\u001b[0;34m\u001b[0m\u001b[0;34m\u001b[0m\u001b[0m\n",
       "\u001b[0;31mType:\u001b[0m            CPUDispatcher\n",
       "\u001b[0;31mString form:\u001b[0m     CPUDispatcher(<function S2.electron_timings at 0x7f8d3dae25e0>)\n",
       "\u001b[0;31mFile:\u001b[0m            /opt/XENONnT/anaconda/envs/XENONnT_2023.07.1/lib/python3.9/site-packages/wfsim/core/s2.py\n",
       "\u001b[0;31mDocstring:\u001b[0m      \n",
       "Calculate arrival times of the electrons. Data is written to the timings and gains arrays\n",
       ":param t: 1d array of ints\n",
       ":param n_electron:1 d array of ints\n",
       ":param drift_time_mean: 1d array of floats\n",
       ":param drift_time_spread: 1d array of floats\n",
       ":param sc_gain: secondary scintillation gain       \n",
       ":param timings: empty array with length sum(n_electron)\n",
       ":param gains: empty array with length sum(n_electron)\n",
       ":param electron_trapping_time: configuration values\n",
       "\u001b[0;31mClass docstring:\u001b[0m\n",
       "Implementation of user-facing dispatcher objects (i.e. created using\n",
       "the @jit decorator).\n",
       "This is an abstract base class. Subclasses should define the targetdescr\n",
       "class attribute.\n",
       "\u001b[0;31mInit docstring:\u001b[0m \n",
       "Parameters\n",
       "----------\n",
       "py_func: function object to be compiled\n",
       "locals: dict, optional\n",
       "    Mapping of local variable names to Numba types.  Used to override\n",
       "    the types deduced by the type inference engine.\n",
       "targetoptions: dict, optional\n",
       "    Target-specific config options.\n",
       "impl_kind: str\n",
       "    Select the compiler mode for `@jit` and `@generated_jit`\n",
       "pipeline_class: type numba.compiler.CompilerBase\n",
       "    The compiler pipeline type."
      ]
     },
     "metadata": {},
     "output_type": "display_data"
    }
   ],
   "source": [
    "s2.electron_timings?"
   ]
  },
  {
   "cell_type": "code",
   "execution_count": null,
   "metadata": {},
   "outputs": [],
   "source": []
  }
 ],
 "metadata": {
  "kernelspec": {
   "display_name": "Python 3 (ipykernel)",
   "language": "python",
   "name": "python3"
  },
  "language_info": {
   "codemirror_mode": {
    "name": "ipython",
    "version": 3
   },
   "file_extension": ".py",
   "mimetype": "text/x-python",
   "name": "python",
   "nbconvert_exporter": "python",
   "pygments_lexer": "ipython3",
   "version": "3.9.17"
  },
  "latex_envs": {
   "LaTeX_envs_menu_present": true,
   "autoclose": false,
   "autocomplete": true,
   "bibliofile": "biblio.bib",
   "cite_by": "apalike",
   "current_citInitial": 1,
   "eqLabelWithNumbers": true,
   "eqNumInitial": 1,
   "hotkeys": {
    "equation": "Ctrl-E",
    "itemize": "Ctrl-I"
   },
   "labels_anchors": false,
   "latex_user_defs": false,
   "report_style_numbering": false,
   "user_envs_cfg": false
  },
  "varInspector": {
   "cols": {
    "lenName": 16,
    "lenType": 16,
    "lenVar": 40
   },
   "kernels_config": {
    "python": {
     "delete_cmd_postfix": "",
     "delete_cmd_prefix": "del ",
     "library": "var_list.py",
     "varRefreshCmd": "print(var_dic_list())"
    },
    "r": {
     "delete_cmd_postfix": ") ",
     "delete_cmd_prefix": "rm(",
     "library": "var_list.r",
     "varRefreshCmd": "cat(var_dic_list()) "
    }
   },
   "types_to_exclude": [
    "module",
    "function",
    "builtin_function_or_method",
    "instance",
    "_Feature"
   ],
   "window_display": false
  }
 },
 "nbformat": 4,
 "nbformat_minor": 4
}
