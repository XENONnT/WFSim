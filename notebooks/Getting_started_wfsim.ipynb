{
 "cells": [
  {
   "cell_type": "markdown",
   "metadata": {},
   "source": [
    "# Getting started with WFSim"
   ]
  },
  {
   "cell_type": "markdown",
   "metadata": {},
   "source": [
    "Hello friend.\n",
    "Welcome to the basic tutorial on how to simulate waveforms with the latest wfsim version in strax.\n",
    "Here we'll just demonstrate the basic functionality. For more in depth analysis stuff, checkout the straxen tutorials for more detailed thing."
   ]
  },
  {
   "cell_type": "code",
   "execution_count": 1,
   "metadata": {},
   "outputs": [],
   "source": [
    "import numpy as np\n",
    "import strax\n",
    "import straxen\n",
    "import wfsim\n",
    "\n",
    "import matplotlib.pyplot as plt\n",
    "from matplotlib.colors import LogNorm\n",
    "from multihist import Histdd, Hist1d\n",
    "from scipy import stats\n",
    "\n",
    "import json"
   ]
  },
  {
   "cell_type": "markdown",
   "metadata": {},
   "source": [
    "## Setting everything up"
   ]
  },
  {
   "cell_type": "markdown",
   "metadata": {},
   "source": [
    "First we need to define the right context. The thing which differs now is where to get the plugin to provide raw records. By default this is the DAQ Reader. Depending on which detector you want (1T or nT) we have two different plugins you'll need to register. One is RawRecordsFromFax1T, the other RawRecordsFromFaxNT."
   ]
  },
  {
   "cell_type": "markdown",
   "metadata": {},
   "source": [
    "For 1T do:"
   ]
  },
  {
   "cell_type": "code",
   "execution_count": 2,
   "metadata": {},
   "outputs": [],
   "source": [
    "st = strax.Context(\n",
    "        storage=strax.DataDirectory('./strax_data'),\n",
    "        register=wfsim.RawRecordsFromFax1T,\n",
    "        config=dict(detector='XENON1T',\n",
    "                    fax_config='https://raw.githubusercontent.com/XENONnT/'\n",
    "                               'strax_auxiliary_files/master/fax_files/fax_config_1t.json',\n",
    "                    **straxen.contexts.x1t_common_config,),\n",
    "        **straxen.contexts.common_opts)"
   ]
  },
  {
   "cell_type": "markdown",
   "metadata": {},
   "source": [
    "Or nT do:"
   ]
  },
  {
   "cell_type": "code",
   "execution_count": null,
   "metadata": {},
   "outputs": [],
   "source": [
    "straxen.contexts.xnt_common_config['gain_model'] = ('to_pe_per_run',\n",
    "                                        aux_repo+'58e615f99a4a6b15e97b12951c510de91ce06045/fax_files/to_pe_nt.npy')\n",
    "st = strax.Context(\n",
    "        storage=strax.DataDirectory('./strax_data'),\n",
    "        register=wfsim.RawRecordsFromFaxNT,\n",
    "        config=dict(detector='XENONnT',\n",
    "                    fax_config=aux_repo+'4e71b8a2446af772c83a8600adc77c0c3b7e54d1/fax_files/fax_config_nt.json'\n",
    "                    **straxen.contexts.xnt_common_config,\n",
    "                   ),\n",
    "        **straxen.contexts.common_opts)"
   ]
  },
  {
   "cell_type": "markdown",
   "metadata": {},
   "source": [
    "To make your life even simpler there is currently a pull request open to add these to the default straxen contexts.\n",
    "As soon as they get merged you can also do:"
   ]
  },
  {
   "cell_type": "code",
   "execution_count": null,
   "metadata": {},
   "outputs": [],
   "source": [
    "st = straxen.contexts.xenon1t_simulation()"
   ]
  },
  {
   "cell_type": "markdown",
   "metadata": {},
   "source": [
    "or"
   ]
  },
  {
   "cell_type": "code",
   "execution_count": null,
   "metadata": {},
   "outputs": [],
   "source": [
    "st = straxen.contexts.xenonnt_simulation()"
   ]
  },
  {
   "cell_type": "markdown",
   "metadata": {},
   "source": [
    "Now we need to define a run id. What you give it doesn't really matter, since strax will look for data and make new if it doesn't find anything. And this is what you want.\n",
    "Strax will use the run id to get the electron lifetime and pmt gains from a database, and returns placeholders if the run doesn't exist."
   ]
  },
  {
   "cell_type": "code",
   "execution_count": 4,
   "metadata": {},
   "outputs": [],
   "source": [
    "run_id = '1'"
   ]
  },
  {
   "cell_type": "markdown",
   "metadata": {},
   "source": [
    "## Defining instructions\n"
   ]
  },
  {
   "cell_type": "markdown",
   "metadata": {},
   "source": [
    "For the instructions there are multiple different ways to do it. The simulator has this option called \"fax_file\". If it has a value (None by default) the simulator will either read it as a csv or root file. If not it will use some predefined functions to make your events. The number of event you'll simulate based on the product of the config values \"nchunk\",\"event_rate\" and \"chunk_size\". Which you can set as follows:"
   ]
  },
  {
   "cell_type": "code",
   "execution_count": 5,
   "metadata": {},
   "outputs": [],
   "source": [
    "st.set_config(dict(nchunk=1, event_rate=5, chunk_size=10,))"
   ]
  },
  {
   "cell_type": "markdown",
   "metadata": {},
   "source": [
    "Strax groups data together in chunks based on time (for low level data). nchunk is the number of chunks you want to simulate\n",
    "event_rate is the number of events per seconds, so this effects the amount of spacing between events. Finally chunk_size is the length in seconds of your chunk\n",
    "For the DAQ this is 5 seconds. For simulations you can do whatever you want. It is important to note that Strax will write out data per chunk\n",
    "So when your chunks are small you'll, among other things, call Strax' IO functions a lot, giving a substantial overhead. On the other hand, to large chunks will hog all your memory and your kernel might crash.\n",
    "Based on my experimentation setting chunk_size to 500 gives best performance"
   ]
  },
  {
   "cell_type": "markdown",
   "metadata": {},
   "source": [
    "These are ways you can give instructions\n",
    "  * #### Random\n",
    "    This is the default where simulator will generate some random instructions for you.\n",
    "  * #### Custom\n",
    "    For this you will need to overwrite the instruction generator function\n",
    "  * #### CSV\n",
    "    You can provide a csv file with the instruction (Like the output of nSort)\n",
    "  * #### Geant4\n",
    "    If you provide a .root file the simulator will make instructions based on this by converting the energy to photons and electrons. This is like an incredibly elementary nSort"
   ]
  },
  {
   "cell_type": "markdown",
   "metadata": {},
   "source": [
    "### Random\n",
    "I guess this is pretty self explanatory. The simulator has this function called \"rand_instructions\" which will make something up for you.\n",
    "\n"
   ]
  },
  {
   "cell_type": "code",
   "execution_count": 6,
   "metadata": {},
   "outputs": [],
   "source": [
    "wfsim.rand_instructions??"
   ]
  },
  {
   "cell_type": "markdown",
   "metadata": {},
   "source": [
    "### Custom\n",
    "This is some more fun. To do this we'll write a new function which returns a structured numpy array with the correct dtype."
   ]
  },
  {
   "cell_type": "code",
   "execution_count": 7,
   "metadata": {},
   "outputs": [
    {
     "data": {
      "text/plain": [
       "[('event_number', numpy.int32),\n",
       " ('type', numpy.int8),\n",
       " ('time', numpy.int64),\n",
       " ('x', numpy.float32),\n",
       " ('y', numpy.float32),\n",
       " ('z', numpy.float32),\n",
       " ('amp', numpy.int32),\n",
       " ('recoil', '<U2')]"
      ]
     },
     "execution_count": 7,
     "metadata": {},
     "output_type": "execute_result"
    }
   ],
   "source": [
    "wfsim.instruction_dtype"
   ]
  },
  {
   "cell_type": "markdown",
   "metadata": {},
   "source": [
    "Event number is just a lable which peaks are together. type is either 1(S1) or 2 (S2). In the truth higher numbers are also used to refer to different types of afterpulses. time,x,y,z are the time and positions of the signal. Amp is the number of photons or electrons generated, and recoil can be used for different types of recoil (but only Electronic recoil is supported)"
   ]
  },
  {
   "cell_type": "markdown",
   "metadata": {},
   "source": [
    "Now, lets say we want some krypton peaks. For this we'll need to change the default instruction function to include this double decay and use Nestpy to convert energy deposits into a number of photons and electrons.\n",
    "\n",
    "In this case I'll use 1 \"event\" per full decay, that where all the 4's are coming from."
   ]
  },
  {
   "cell_type": "code",
   "execution_count": 8,
   "metadata": {},
   "outputs": [],
   "source": [
    "def super_awesome_custom_instruction(c):\n",
    "    import nestpy\n",
    "    half_life = 156.94e-9 #Kr intermediate state half-life in ns\n",
    "    decay_energies = [32.2,9.4] # Decay energies in kev\n",
    "    \n",
    "    n = c['nevents'] = c['event_rate'] * c['chunk_size'] * c['nchunk']\n",
    "    c['total_time'] = c['chunk_size'] * c['nchunk']\n",
    "\n",
    "    instructions = np.zeros(4 * n, dtype=wfsim.instruction_dtype)\n",
    "    instructions['event_number'] = np.digitize(instructions['time'],\n",
    "         1e9 * np.arange(c['nchunk']) * c['chunk_size']) - 1\n",
    "    \n",
    "    instructions['type'] = np.tile([1, 2], 2 * n)\n",
    "    instructions['recoil'] = ['er' for i in range(4 * n)]\n",
    "    \n",
    "    r = np.sqrt(np.random.uniform(0, 2500, n))\n",
    "    t = np.random.uniform(-np.pi, np.pi, n)\n",
    "    instructions['x'] = np.repeat(r * np.cos(t), 4)\n",
    "    instructions['y'] = np.repeat(r * np.sin(t), 4)\n",
    "    instructions['z'] = np.repeat(np.random.uniform(-100, 0, n), 4)\n",
    "    \n",
    "    #To get the correct times we'll need to include the 156.94 ns half life of the intermediate state.\n",
    "\n",
    "    uniform_times = c['total_time'] * (np.arange(n) + 0.5) / n\n",
    "    delayed_times = uniform_times + np.random.exponential(half_life/np.log(2),len(uniform_times))\n",
    "    instructions['time'] = np.repeat(list(zip(uniform_times,delayed_times)),2) * 1e9\n",
    "\n",
    "\n",
    "    # Here we'll define our XENON-like detector\n",
    "    nc = nestpy.NESTcalc(nestpy.VDetector())\n",
    "    A = 131.293\n",
    "    Z = 54.\n",
    "    density = 2.862  # g/cm^3   #SR1 Value\n",
    "    drift_field = 82  # V/cm    #SR1 Value\n",
    "    interaction = nestpy.INTERACTION_TYPE(7)\n",
    "    \n",
    "    energy = np.tile(decay_energies,n)\n",
    "    quanta = []\n",
    "    for en in energy:\n",
    "        y = nc.GetYields(interaction,\n",
    "                         en,\n",
    "                         density,\n",
    "                         drift_field,\n",
    "                         A,\n",
    "                         Z,\n",
    "                         (1, 1))\n",
    "        quanta.append(nc.GetQuanta(y, density).photons)\n",
    "        quanta.append(nc.GetQuanta(y, density).electrons)\n",
    "        \n",
    "    instructions['amp'] = quanta\n",
    "\n",
    "    return instructions"
   ]
  },
  {
   "cell_type": "markdown",
   "metadata": {},
   "source": [
    "Now here comes the magic line:"
   ]
  },
  {
   "cell_type": "code",
   "execution_count": 9,
   "metadata": {},
   "outputs": [],
   "source": [
    "wfsim.strax_interface.rand_instruction = super_awesome_custom_instruction"
   ]
  },
  {
   "cell_type": "markdown",
   "metadata": {},
   "source": [
    "This changes the default rand_instruction function in our own super awesome function. So when the simulator will call rand_instruction the code from super_awesome_custom_instruction will be executed"
   ]
  },
  {
   "cell_type": "markdown",
   "metadata": {},
   "source": [
    "### CSV\n",
    "The format for csv files is the same as the instructions dtype. So on every line specify event_number,type,time ,x,y,z, amp and recoil in that order.\n",
    "Then tell the simulator it exists:\n"
   ]
  },
  {
   "cell_type": "code",
   "execution_count": 10,
   "metadata": {},
   "outputs": [],
   "source": [
    "st.set_config(dict(fax_file='instructions.csv'))"
   ]
  },
  {
   "cell_type": "markdown",
   "metadata": {},
   "source": [
    "Ofcourse if you do not have this file it will not work"
   ]
  },
  {
   "cell_type": "markdown",
   "metadata": {},
   "source": [
    "### Geant4\n",
    "Setting a root file as instructions is the same as for the csv. Just change the value of fax_file in the config to where-ever your file is and the simulator will take care of the rest. The e_dep field will be fed to nestpy to get the number of photons and electrons. I do think it's cleaner to first feed your GEANT4 output to nSort, since that does the same, but better, and use the output csv in here. Calling nSort from here will not work since it depends on root, and we do not plan on having root installed in our main envs"
   ]
  },
  {
   "cell_type": "code",
   "execution_count": 11,
   "metadata": {},
   "outputs": [],
   "source": [
    "st.set_config(dict(fax_file= '/dali/lgrandi/pgaemers/fax_files/Xenon1T_WholeLXe_Pb212_00008_g4mc_G4.root'))"
   ]
  },
  {
   "cell_type": "markdown",
   "metadata": {},
   "source": [
    "## Configuration customization\n",
    "The simulator using a larger large amount of configuration settings to do it's magic. Some of them are best left along, like pmt_circuit_load_resistor. Others on the other hand are things you might want change a bit to see how the data will change. Unfortunately currently the full list is spread out over two different places. One is the fax config json which is on github. The other is the option list in strax. Besides those things like pattern maps are hardcoded in load_resource.py."
   ]
  },
  {
   "cell_type": "markdown",
   "metadata": {},
   "source": [
    "The strax config is viewable like this and can be changed by st.set_config(dict(option you want=value you want))"
   ]
  },
  {
   "cell_type": "code",
   "execution_count": 12,
   "metadata": {},
   "outputs": [
    {
     "name": "stderr",
     "output_type": "stream",
     "text": [
      "/Users/petergaemers/Desktop/python/strax/strax/context.py:369: UserWarning: Option channel_map not taken by any registered plugin\n",
      "  warnings.warn(f\"Option {k} not taken by any registered plugin\")\n"
     ]
    },
    {
     "data": {
      "text/html": [
       "<div>\n",
       "<style scoped>\n",
       "    .dataframe tbody tr th:only-of-type {\n",
       "        vertical-align: middle;\n",
       "    }\n",
       "\n",
       "    .dataframe tbody tr th {\n",
       "        vertical-align: top;\n",
       "    }\n",
       "\n",
       "    .dataframe thead th {\n",
       "        text-align: right;\n",
       "    }\n",
       "</style>\n",
       "<table border=\"1\" class=\"dataframe\">\n",
       "  <thead>\n",
       "    <tr style=\"text-align: right;\">\n",
       "      <th></th>\n",
       "      <th>option</th>\n",
       "      <th>default</th>\n",
       "      <th>current</th>\n",
       "      <th>applies_to</th>\n",
       "      <th>help</th>\n",
       "    </tr>\n",
       "  </thead>\n",
       "  <tbody>\n",
       "    <tr>\n",
       "      <th>0</th>\n",
       "      <td>fax_file</td>\n",
       "      <td>None</td>\n",
       "      <td>/dali/lgrandi/pgaemers/fax_files/Xenon1T_Whole...</td>\n",
       "      <td>(raw_records, truth)</td>\n",
       "      <td>Directory with fax instructions</td>\n",
       "    </tr>\n",
       "    <tr>\n",
       "      <th>1</th>\n",
       "      <td>nSort_path</td>\n",
       "      <td>None</td>\n",
       "      <td>&lt;OMITTED&gt;</td>\n",
       "      <td>(raw_records, truth)</td>\n",
       "      <td>If nSort is needed to convert GEANT4 to instru...</td>\n",
       "    </tr>\n",
       "    <tr>\n",
       "      <th>2</th>\n",
       "      <td>fax_config_override</td>\n",
       "      <td>None</td>\n",
       "      <td>&lt;OMITTED&gt;</td>\n",
       "      <td>(raw_records, truth)</td>\n",
       "      <td>Dictionary with configuration option overrides</td>\n",
       "    </tr>\n",
       "    <tr>\n",
       "      <th>3</th>\n",
       "      <td>event_rate</td>\n",
       "      <td>5</td>\n",
       "      <td>5</td>\n",
       "      <td>(raw_records, truth)</td>\n",
       "      <td>Average number of events per second</td>\n",
       "    </tr>\n",
       "    <tr>\n",
       "      <th>4</th>\n",
       "      <td>chunk_size</td>\n",
       "      <td>5</td>\n",
       "      <td>10</td>\n",
       "      <td>(raw_records, truth)</td>\n",
       "      <td>Duration of each chunk in seconds</td>\n",
       "    </tr>\n",
       "    <tr>\n",
       "      <th>5</th>\n",
       "      <td>nchunk</td>\n",
       "      <td>4</td>\n",
       "      <td>1</td>\n",
       "      <td>(raw_records, truth)</td>\n",
       "      <td>Number of chunks to simulate</td>\n",
       "    </tr>\n",
       "    <tr>\n",
       "      <th>6</th>\n",
       "      <td>fax_config</td>\n",
       "      <td>https://raw.githubusercontent.com/XENONnT/stra...</td>\n",
       "      <td>https://raw.githubusercontent.com/XENONnT/stra...</td>\n",
       "      <td>(raw_records, truth)</td>\n",
       "      <td></td>\n",
       "    </tr>\n",
       "    <tr>\n",
       "      <th>7</th>\n",
       "      <td>to_pe_file</td>\n",
       "      <td>https://raw.githubusercontent.com/XENONnT/stra...</td>\n",
       "      <td>https://raw.githubusercontent.com/XENONnT/stra...</td>\n",
       "      <td>(raw_records, truth)</td>\n",
       "      <td></td>\n",
       "    </tr>\n",
       "    <tr>\n",
       "      <th>8</th>\n",
       "      <td>gain_model</td>\n",
       "      <td>(to_pe_per_run, https://raw.githubusercontent....</td>\n",
       "      <td>(to_pe_constant, 0.005)</td>\n",
       "      <td>(raw_records, truth)</td>\n",
       "      <td>PMT gain model. Specify as (model_type, model_...</td>\n",
       "    </tr>\n",
       "    <tr>\n",
       "      <th>9</th>\n",
       "      <td>right_raw_extension</td>\n",
       "      <td>50000</td>\n",
       "      <td>&lt;OMITTED&gt;</td>\n",
       "      <td>(raw_records, truth)</td>\n",
       "      <td></td>\n",
       "    </tr>\n",
       "    <tr>\n",
       "      <th>10</th>\n",
       "      <td>zle_threshold</td>\n",
       "      <td>0</td>\n",
       "      <td>&lt;OMITTED&gt;</td>\n",
       "      <td>(raw_records, truth)</td>\n",
       "      <td></td>\n",
       "    </tr>\n",
       "    <tr>\n",
       "      <th>11</th>\n",
       "      <td>detector</td>\n",
       "      <td>XENON1T</td>\n",
       "      <td>XENONnT</td>\n",
       "      <td>(raw_records, truth)</td>\n",
       "      <td></td>\n",
       "    </tr>\n",
       "    <tr>\n",
       "      <th>12</th>\n",
       "      <td>timeout</td>\n",
       "      <td>1800</td>\n",
       "      <td>&lt;OMITTED&gt;</td>\n",
       "      <td>(raw_records, truth)</td>\n",
       "      <td>Terminate processing if any one mailbox receiv...</td>\n",
       "    </tr>\n",
       "  </tbody>\n",
       "</table>\n",
       "</div>"
      ],
      "text/plain": [
       "                 option                                            default  \\\n",
       "0              fax_file                                               None   \n",
       "1            nSort_path                                               None   \n",
       "2   fax_config_override                                               None   \n",
       "3            event_rate                                                  5   \n",
       "4            chunk_size                                                  5   \n",
       "5                nchunk                                                  4   \n",
       "6            fax_config  https://raw.githubusercontent.com/XENONnT/stra...   \n",
       "7            to_pe_file  https://raw.githubusercontent.com/XENONnT/stra...   \n",
       "8            gain_model  (to_pe_per_run, https://raw.githubusercontent....   \n",
       "9   right_raw_extension                                              50000   \n",
       "10        zle_threshold                                                  0   \n",
       "11             detector                                            XENON1T   \n",
       "12              timeout                                               1800   \n",
       "\n",
       "                                              current            applies_to  \\\n",
       "0   /dali/lgrandi/pgaemers/fax_files/Xenon1T_Whole...  (raw_records, truth)   \n",
       "1                                           <OMITTED>  (raw_records, truth)   \n",
       "2                                           <OMITTED>  (raw_records, truth)   \n",
       "3                                                   5  (raw_records, truth)   \n",
       "4                                                  10  (raw_records, truth)   \n",
       "5                                                   1  (raw_records, truth)   \n",
       "6   https://raw.githubusercontent.com/XENONnT/stra...  (raw_records, truth)   \n",
       "7   https://raw.githubusercontent.com/XENONnT/stra...  (raw_records, truth)   \n",
       "8                             (to_pe_constant, 0.005)  (raw_records, truth)   \n",
       "9                                           <OMITTED>  (raw_records, truth)   \n",
       "10                                          <OMITTED>  (raw_records, truth)   \n",
       "11                                            XENONnT  (raw_records, truth)   \n",
       "12                                          <OMITTED>  (raw_records, truth)   \n",
       "\n",
       "                                                 help  \n",
       "0                     Directory with fax instructions  \n",
       "1   If nSort is needed to convert GEANT4 to instru...  \n",
       "2      Dictionary with configuration option overrides  \n",
       "3                 Average number of events per second  \n",
       "4                   Duration of each chunk in seconds  \n",
       "5                        Number of chunks to simulate  \n",
       "6                                                      \n",
       "7                                                      \n",
       "8   PMT gain model. Specify as (model_type, model_...  \n",
       "9                                                      \n",
       "10                                                     \n",
       "11                                                     \n",
       "12  Terminate processing if any one mailbox receiv...  "
      ]
     },
     "execution_count": 12,
     "metadata": {},
     "output_type": "execute_result"
    }
   ],
   "source": [
    "st.show_config('raw_records')"
   ]
  },
  {
   "cell_type": "markdown",
   "metadata": {},
   "source": [
    "The config from github can be loaded as:"
   ]
  },
  {
   "cell_type": "code",
   "execution_count": 13,
   "metadata": {},
   "outputs": [
    {
     "data": {
      "text/plain": [
       "dict_keys(['pmt_pulse_time_rounding', 'gauss_noise_sigmas', 'real_noise_file', 'real_noise_sample_mode', 'maximum_recombination_time', 's1_detection_efficiency', 'singlet_lifetime_liquid', 'triplet_lifetime_liquid', 's1_ER_recombination_fraction', 's1_ER_primary_singlet_fraction', 's1_ER_secondary_singlet_fraction', 's1_NR_singlet_fraction', 's1_ER_alpha_singlet_fraction', 'electron_trapping_time', 'gas_drift_velocity_slope', 'lxe_dielectric_constant', 'singlet_lifetime_gas', 'triplet_lifetime_gas', 'singlet_fraction_gas', 'each_pmt_afterpulse_types', 'pmt_afterpulse_types', 'p_double_pe_emision', 's1_model_type', 's1_decay_time', 'pmt_transit_time_spread', 'real_noise_sample_size', 'pressure', 'temperature', 'anode_voltage', 'pmt_rise_time', 'pmt_fall_time', 'photon_area_distribution', 'pe_pulse_ts', 'pe_pulse_ys', 'samples_before_pulse_center', 'samples_after_pulse_center', 'pmt_transit_time_mean', 'led_pulse_length', 'drift_field', 'liquid_density', 'diffusion_constant_liquid', 'electron_extraction_yield', 'gate_to_anode_distance', 'elr_gas_gap_length', 's2_secondary_sc_gain', 'anode_field_domination_distance', 'anode_wire_radius', 's2_fitted_patterns_file', 's2_mean_area_fraction_top', 'rz_position_distortion_map', 'tpc_name', 'run_number', 'channels_top', 'channels_bottom', 'sample_duration', 'digitizer_voltage_range', 'nominal_gain', 'digitizer_bits', 'pmt_circuit_load_resistor', 'external_amplification', 'digitizer_reference_baseline', 's1_width_threshold', 's1_risetime_threshold', 'tight_coincidence_window_left', 'tight_coincidence_window_right', 'tight_coincidence_threshold', 'tpc_length', 'tpc_radius', 'electron_lifetime_liquid', 'drift_velocity_liquid', 'drift_time_gate', 'shrink_data_threshold', 'xy_posrec_preference', 'channels_in_detector', 'n_channels', 'gains', 'gain_sigmas', 'quantum_efficiencies', 'relative_qe_error', 'relative_gain_error', 'pmts', 'noise_file_index', 'noise_file_folder', 'max_intervals', 'samples_to_store_before', 'samples_to_store_after', 'zle_threshold', 'special_thresholds', 's1_ER_recombination_time', 'pmt_ap_modifier', 'photoionization_modifier', 'pmt_ap_t_modifier', 'trigger_window', 'photoelectric_p', 'photoelectric_modifier', 'photoelectric_t_center', 'photoelectric_t_spread'])"
      ]
     },
     "execution_count": 13,
     "metadata": {},
     "output_type": "execute_result"
    }
   ],
   "source": [
    "straxen.get_resource('https://raw.githubusercontent.com/XENONnT/'\n",
    "                               'strax_auxiliary_files/master/fax_files/fax_config_nt.json',fmt='json').keys()"
   ]
  },
  {
   "cell_type": "markdown",
   "metadata": {},
   "source": [
    "Changing things in this guy goes slightly different. In the strax option list there is the option called \"fax_config_override\". This takes a dict which will be used to override any values in the json config.\n",
    "So changing the 's2_secondary_sc_gain' is done as:"
   ]
  },
  {
   "cell_type": "code",
   "execution_count": 14,
   "metadata": {},
   "outputs": [],
   "source": [
    "st.set_config(dict(fax_config_override = dict(s2_secondary_sc_gain=23)))"
   ]
  },
  {
   "cell_type": "markdown",
   "metadata": {},
   "source": [
    "## What actually happens?\n",
    "\n",
    "\n",
    "\n",
    "What happens behind the scenes is that the instructions are first grouped together in chunks. Then we loop over the instructions and the full chunk is returned before starting with the next one.\n",
    "\n",
    "We use a S1 and S2 class to calculate the arrival times of the photons and the channels which have been hit. Then we'll hand them over to the Pulse class to calculate the currents in the channels. Finally the currents go to a RawData class where we fake the digitizer response.\n",
    "\n",
    "### S1\n",
    "\n",
    "For S1s we start with calculating the light yield based on the position of the interaction, and draw the number of photons seen from a Poisson distribution.\n",
    "\n",
    "Second we calculate the arrival times of the photons. This is based on the scintillation of the xenon atoms. It is dependend on the recombination time, the singlet and triplet fractions.\n",
    "\n",
    "Finally the channels are calculated. Based on the pattern map we use a interpolation map to get a probability distribution for channels to be hit for a S1 signal based on the position of the interaction, and then we draw from this distribution for every photon.\n",
    "\n",
    "### S2\n",
    "\n",
    "S2s are slightly more complicated. First we need to drift the electrons up, and while doing so we'll lose some of them.\n",
    "To get the photon timings, we first need to get the arrival times of the electrons at the gas interface based on a diffusion model. Then we can calculate the photon timings based on a luminescence model for every individual electron. And for the channels we do the same trick with the interpolating map.\n",
    "\n",
    "\n",
    "### Pulse\n",
    "\n",
    "When we have our lists of channels and timing we can generate actual pulses. First we add a pmt transition time. Then we loop over all channels, calculate the double pe emission probabilities, and add a current in the pmt channel based on the arrival time. This is all stored in a big dictionary. Afterwards this is passed to our fake digitizers which then returns you with your very own pretty data\n"
   ]
  },
  {
   "cell_type": "markdown",
   "metadata": {},
   "source": [
    "### Getting down to bussiness\n",
    "\n",
    "\n",
    "Now we have access to all the normal strax data types, and another one called 'truth' which holds the simulation instructions. Calling it follows the normal strax convention."
   ]
  },
  {
   "cell_type": "code",
   "execution_count": 15,
   "metadata": {},
   "outputs": [],
   "source": [
    "st.set_config(dict(fax_file=None))"
   ]
  },
  {
   "cell_type": "code",
   "execution_count": 16,
   "metadata": {
    "scrolled": true
   },
   "outputs": [
    {
     "name": "stderr",
     "output_type": "stream",
     "text": [
      "/Users/petergaemers/Desktop/python/strax/strax/context.py:369: UserWarning: Option channel_map not taken by any registered plugin\n",
      "  warnings.warn(f\"Option {k} not taken by any registered plugin\")\n",
      "Simulating Raw Records: 100%|██████████| 96/96 [00:24<00:00,  3.87it/s]\n"
     ]
    },
    {
     "name": "stdout",
     "output_type": "stream",
     "text": [
      "Source finished!\n"
     ]
    },
    {
     "name": "stderr",
     "output_type": "stream",
     "text": [
      "/Users/petergaemers/Desktop/python/strax/strax/context.py:369: UserWarning: Option channel_map not taken by any registered plugin\n",
      "  warnings.warn(f\"Option {k} not taken by any registered plugin\")\n"
     ]
    }
   ],
   "source": [
    "# Remove any previously simulated data, if such exists\n",
    "# !rm -r strax_data\n",
    "\n",
    "records = st.get_array(run_id,'records')\n",
    "# peaks = st.get_array(run_id, ['peaks','peak_basics'])\n",
    "# data = st.get_df(run_id, 'event_info')\n",
    "\n",
    "truth = st.get_df(run_id, 'truth')"
   ]
  },
  {
   "cell_type": "markdown",
   "metadata": {},
   "source": [
    "Now it is time to make pretty plots and see if what we makes actually makes any sense"
   ]
  },
  {
   "cell_type": "code",
   "execution_count": 17,
   "metadata": {},
   "outputs": [],
   "source": [
    "peak_basics = st.get_df(run_id,'peak_basics')"
   ]
  },
  {
   "cell_type": "code",
   "execution_count": 18,
   "metadata": {},
   "outputs": [
    {
     "data": {
      "text/html": [
       "<div>\n",
       "<style scoped>\n",
       "    .dataframe tbody tr th:only-of-type {\n",
       "        vertical-align: middle;\n",
       "    }\n",
       "\n",
       "    .dataframe tbody tr th {\n",
       "        vertical-align: top;\n",
       "    }\n",
       "\n",
       "    .dataframe thead th {\n",
       "        text-align: right;\n",
       "    }\n",
       "</style>\n",
       "<table border=\"1\" class=\"dataframe\">\n",
       "  <thead>\n",
       "    <tr style=\"text-align: right;\">\n",
       "      <th></th>\n",
       "      <th>time</th>\n",
       "      <th>endtime</th>\n",
       "      <th>center_time</th>\n",
       "      <th>area</th>\n",
       "      <th>n_channels</th>\n",
       "      <th>max_pmt</th>\n",
       "      <th>max_pmt_area</th>\n",
       "      <th>range_50p_area</th>\n",
       "      <th>range_90p_area</th>\n",
       "      <th>area_fraction_top</th>\n",
       "      <th>length</th>\n",
       "      <th>dt</th>\n",
       "      <th>rise_time</th>\n",
       "      <th>tight_coincidence</th>\n",
       "      <th>type</th>\n",
       "    </tr>\n",
       "  </thead>\n",
       "  <tbody>\n",
       "    <tr>\n",
       "      <th>0</th>\n",
       "      <td>99999510</td>\n",
       "      <td>100000190</td>\n",
       "      <td>100000098</td>\n",
       "      <td>1511.265015</td>\n",
       "      <td>438</td>\n",
       "      <td>425</td>\n",
       "      <td>11</td>\n",
       "      <td>45.498920</td>\n",
       "      <td>108.933258</td>\n",
       "      <td>0.090103</td>\n",
       "      <td>68</td>\n",
       "      <td>10</td>\n",
       "      <td>32.073212</td>\n",
       "      <td>278</td>\n",
       "      <td>1</td>\n",
       "    </tr>\n",
       "    <tr>\n",
       "      <th>1</th>\n",
       "      <td>100000190</td>\n",
       "      <td>100000460</td>\n",
       "      <td>100000224</td>\n",
       "      <td>160.055038</td>\n",
       "      <td>436</td>\n",
       "      <td>425</td>\n",
       "      <td>2</td>\n",
       "      <td>41.434231</td>\n",
       "      <td>93.053680</td>\n",
       "      <td>0.088126</td>\n",
       "      <td>27</td>\n",
       "      <td>10</td>\n",
       "      <td>27.741791</td>\n",
       "      <td>19</td>\n",
       "      <td>1</td>\n",
       "    </tr>\n",
       "    <tr>\n",
       "      <th>2</th>\n",
       "      <td>100000470</td>\n",
       "      <td>100002090</td>\n",
       "      <td>100001584</td>\n",
       "      <td>1.275000</td>\n",
       "      <td>1</td>\n",
       "      <td>477</td>\n",
       "      <td>1</td>\n",
       "      <td>19.543358</td>\n",
       "      <td>126.469147</td>\n",
       "      <td>0.000000</td>\n",
       "      <td>162</td>\n",
       "      <td>10</td>\n",
       "      <td>12.299422</td>\n",
       "      <td>1</td>\n",
       "      <td>0</td>\n",
       "    </tr>\n",
       "    <tr>\n",
       "      <th>3</th>\n",
       "      <td>100002730</td>\n",
       "      <td>100003030</td>\n",
       "      <td>100002842</td>\n",
       "      <td>2.070000</td>\n",
       "      <td>3</td>\n",
       "      <td>36</td>\n",
       "      <td>0</td>\n",
       "      <td>211.971954</td>\n",
       "      <td>235.813843</td>\n",
       "      <td>1.000000</td>\n",
       "      <td>30</td>\n",
       "      <td>10</td>\n",
       "      <td>17.707243</td>\n",
       "      <td>2</td>\n",
       "      <td>0</td>\n",
       "    </tr>\n",
       "    <tr>\n",
       "      <th>4</th>\n",
       "      <td>100164950</td>\n",
       "      <td>100166240</td>\n",
       "      <td>100165555</td>\n",
       "      <td>18.500000</td>\n",
       "      <td>17</td>\n",
       "      <td>128</td>\n",
       "      <td>3</td>\n",
       "      <td>202.121216</td>\n",
       "      <td>416.111206</td>\n",
       "      <td>0.173243</td>\n",
       "      <td>129</td>\n",
       "      <td>10</td>\n",
       "      <td>187.104172</td>\n",
       "      <td>3</td>\n",
       "      <td>2</td>\n",
       "    </tr>\n",
       "    <tr>\n",
       "      <th>5</th>\n",
       "      <td>100514580</td>\n",
       "      <td>100523780</td>\n",
       "      <td>100518825</td>\n",
       "      <td>11563.562500</td>\n",
       "      <td>491</td>\n",
       "      <td>206</td>\n",
       "      <td>1228</td>\n",
       "      <td>1771.331787</td>\n",
       "      <td>4564.572266</td>\n",
       "      <td>0.087043</td>\n",
       "      <td>184</td>\n",
       "      <td>50</td>\n",
       "      <td>1627.153198</td>\n",
       "      <td>59</td>\n",
       "      <td>2</td>\n",
       "    </tr>\n",
       "    <tr>\n",
       "      <th>6</th>\n",
       "      <td>100870810</td>\n",
       "      <td>100871920</td>\n",
       "      <td>100871312</td>\n",
       "      <td>18.850000</td>\n",
       "      <td>19</td>\n",
       "      <td>34</td>\n",
       "      <td>1</td>\n",
       "      <td>144.104645</td>\n",
       "      <td>346.100159</td>\n",
       "      <td>0.701591</td>\n",
       "      <td>111</td>\n",
       "      <td>10</td>\n",
       "      <td>124.979836</td>\n",
       "      <td>8</td>\n",
       "      <td>2</td>\n",
       "    </tr>\n",
       "    <tr>\n",
       "      <th>7</th>\n",
       "      <td>100938950</td>\n",
       "      <td>100940020</td>\n",
       "      <td>100939763</td>\n",
       "      <td>20.995001</td>\n",
       "      <td>19</td>\n",
       "      <td>97</td>\n",
       "      <td>5</td>\n",
       "      <td>183.766678</td>\n",
       "      <td>469.409851</td>\n",
       "      <td>0.568231</td>\n",
       "      <td>107</td>\n",
       "      <td>10</td>\n",
       "      <td>316.340454</td>\n",
       "      <td>4</td>\n",
       "      <td>2</td>\n",
       "    </tr>\n",
       "    <tr>\n",
       "      <th>8</th>\n",
       "      <td>299999510</td>\n",
       "      <td>300000190</td>\n",
       "      <td>300000098</td>\n",
       "      <td>1476.585693</td>\n",
       "      <td>458</td>\n",
       "      <td>332</td>\n",
       "      <td>9</td>\n",
       "      <td>44.220722</td>\n",
       "      <td>108.634956</td>\n",
       "      <td>0.156120</td>\n",
       "      <td>68</td>\n",
       "      <td>10</td>\n",
       "      <td>30.482187</td>\n",
       "      <td>313</td>\n",
       "      <td>1</td>\n",
       "    </tr>\n",
       "    <tr>\n",
       "      <th>9</th>\n",
       "      <td>300000190</td>\n",
       "      <td>300000770</td>\n",
       "      <td>300000223</td>\n",
       "      <td>158.209991</td>\n",
       "      <td>455</td>\n",
       "      <td>179</td>\n",
       "      <td>1</td>\n",
       "      <td>40.539444</td>\n",
       "      <td>93.234810</td>\n",
       "      <td>0.161873</td>\n",
       "      <td>58</td>\n",
       "      <td>10</td>\n",
       "      <td>26.819931</td>\n",
       "      <td>32</td>\n",
       "      <td>1</td>\n",
       "    </tr>\n",
       "  </tbody>\n",
       "</table>\n",
       "</div>"
      ],
      "text/plain": [
       "        time    endtime  center_time          area  n_channels  max_pmt  \\\n",
       "0   99999510  100000190    100000098   1511.265015         438      425   \n",
       "1  100000190  100000460    100000224    160.055038         436      425   \n",
       "2  100000470  100002090    100001584      1.275000           1      477   \n",
       "3  100002730  100003030    100002842      2.070000           3       36   \n",
       "4  100164950  100166240    100165555     18.500000          17      128   \n",
       "5  100514580  100523780    100518825  11563.562500         491      206   \n",
       "6  100870810  100871920    100871312     18.850000          19       34   \n",
       "7  100938950  100940020    100939763     20.995001          19       97   \n",
       "8  299999510  300000190    300000098   1476.585693         458      332   \n",
       "9  300000190  300000770    300000223    158.209991         455      179   \n",
       "\n",
       "   max_pmt_area  range_50p_area  range_90p_area  area_fraction_top  length  \\\n",
       "0            11       45.498920      108.933258           0.090103      68   \n",
       "1             2       41.434231       93.053680           0.088126      27   \n",
       "2             1       19.543358      126.469147           0.000000     162   \n",
       "3             0      211.971954      235.813843           1.000000      30   \n",
       "4             3      202.121216      416.111206           0.173243     129   \n",
       "5          1228     1771.331787     4564.572266           0.087043     184   \n",
       "6             1      144.104645      346.100159           0.701591     111   \n",
       "7             5      183.766678      469.409851           0.568231     107   \n",
       "8             9       44.220722      108.634956           0.156120      68   \n",
       "9             1       40.539444       93.234810           0.161873      58   \n",
       "\n",
       "   dt    rise_time  tight_coincidence  type  \n",
       "0  10    32.073212                278     1  \n",
       "1  10    27.741791                 19     1  \n",
       "2  10    12.299422                  1     0  \n",
       "3  10    17.707243                  2     0  \n",
       "4  10   187.104172                  3     2  \n",
       "5  50  1627.153198                 59     2  \n",
       "6  10   124.979836                  8     2  \n",
       "7  10   316.340454                  4     2  \n",
       "8  10    30.482187                313     1  \n",
       "9  10    26.819931                 32     1  "
      ]
     },
     "execution_count": 18,
     "metadata": {},
     "output_type": "execute_result"
    }
   ],
   "source": [
    "peak_basics[:10]"
   ]
  },
  {
   "cell_type": "markdown",
   "metadata": {},
   "source": [
    "## Matching\n",
    "To do matching with the truth the easiest way is to write a new strax plugin where you loop over peaks and get the truth arrays where the mean arrival time of the photons are within the time window of the peak\n",
    "So that will look something like this:"
   ]
  },
  {
   "cell_type": "code",
   "execution_count": 20,
   "metadata": {},
   "outputs": [],
   "source": [
    "class MatchedPeaks(strax.LoopPlugin):\n",
    "    depends_on = ('peak_basics','truth')\n",
    "    provides = 'matched_peaks'\n",
    "    __version__ = '0.0.2'\n",
    "    dtype = [('time',np.int),\n",
    "             ('endtime',np.int),\n",
    "             ('area',np.int),\n",
    "             ('n_photon',np.int)]\n",
    "    \n",
    "    def compute(self, peaks, truth):\n",
    "        result = np.zeros(len(peaks), self.dtype)\n",
    "        \n",
    "        for ix, p in enumerate(peaks):\n",
    "            t = truth[(p['time']<truth['t_mean_photon'])&\n",
    "                      (p['endtime']>truth['t_mean_photon'])]\n",
    "            r = result[ix]\n",
    "            r['time'] = p['time']\n",
    "            r['endtime'] = p['endtime']\n",
    "            r['area'] = p['area']\n",
    "            if len(t)==0:\n",
    "                r['n_photon'] = 0\n",
    "            elif len(t)>1:\n",
    "                r['n_photon'] = np.sum(t['n_photon'])\n",
    "            else:\n",
    "                r['n_photon'] = t['n_photon']\n",
    "        \n",
    "        return result"
   ]
  },
  {
   "cell_type": "markdown",
   "metadata": {},
   "source": [
    "Of course this doesn't actually work. An electron afterpulse can be very spread out leading it to be interpreted as multiple peaks while coming from 1 instruction falling outside of the specified range. It would be very much appreciated if someone wants make a more sturdy selection criteria :)\n",
    "\n",
    "For example, checkout out peak matching algorithm for WFSim: https://github.com/XENONnT/pema"
   ]
  },
  {
   "cell_type": "code",
   "execution_count": 21,
   "metadata": {},
   "outputs": [
    {
     "data": {
      "text/plain": [
       "__main__.MatchedPeaks"
      ]
     },
     "execution_count": 21,
     "metadata": {},
     "output_type": "execute_result"
    }
   ],
   "source": [
    "st.register(MatchedPeaks)"
   ]
  },
  {
   "cell_type": "code",
   "execution_count": 22,
   "metadata": {},
   "outputs": [],
   "source": [
    "st.get_array(run_id,'matched_peaks')"
   ]
  },
  {
   "cell_type": "code",
   "execution_count": null,
   "metadata": {},
   "outputs": [],
   "source": []
  }
 ],
 "metadata": {
  "kernelspec": {
   "display_name": "Python 3",
   "language": "python",
   "name": "python3"
  },
  "language_info": {
   "codemirror_mode": {
    "name": "ipython",
    "version": 3
   },
   "file_extension": ".py",
   "mimetype": "text/x-python",
   "name": "python",
   "nbconvert_exporter": "python",
   "pygments_lexer": "ipython3",
   "version": "3.8.5"
  },
  "latex_envs": {
   "LaTeX_envs_menu_present": true,
   "autoclose": false,
   "autocomplete": true,
   "bibliofile": "biblio.bib",
   "cite_by": "apalike",
   "current_citInitial": 1,
   "eqLabelWithNumbers": true,
   "eqNumInitial": 1,
   "hotkeys": {
    "equation": "Ctrl-E",
    "itemize": "Ctrl-I"
   },
   "labels_anchors": false,
   "latex_user_defs": false,
   "report_style_numbering": false,
   "user_envs_cfg": false
  },
  "varInspector": {
   "cols": {
    "lenName": 16,
    "lenType": 16,
    "lenVar": 40
   },
   "kernels_config": {
    "python": {
     "delete_cmd_postfix": "",
     "delete_cmd_prefix": "del ",
     "library": "var_list.py",
     "varRefreshCmd": "print(var_dic_list())"
    },
    "r": {
     "delete_cmd_postfix": ") ",
     "delete_cmd_prefix": "rm(",
     "library": "var_list.r",
     "varRefreshCmd": "cat(var_dic_list()) "
    }
   },
   "types_to_exclude": [
    "module",
    "function",
    "builtin_function_or_method",
    "instance",
    "_Feature"
   ],
   "window_display": false
  }
 },
 "nbformat": 4,
 "nbformat_minor": 2
}
