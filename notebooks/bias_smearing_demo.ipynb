{
 "cells": [
  {
   "cell_type": "code",
   "execution_count": null,
   "metadata": {},
   "outputs": [],
   "source": [
    "import strax\n",
    "import straxen"
   ]
  },
  {
   "cell_type": "code",
   "execution_count": null,
   "metadata": {},
   "outputs": [],
   "source": [
    "import wfsim"
   ]
  },
  {
   "cell_type": "code",
   "execution_count": null,
   "metadata": {},
   "outputs": [],
   "source": [
    "import numpy as np\n",
    "import pandas as pd\n",
    "\n",
    "instruction_dtype = [('event_number', np.int), ('type', '<U2'), ('t', np.int), \n",
    "    ('x', np.float32), ('y', np.float32), ('z', np.float32), \n",
    "    ('amp', np.int), ('recoil', '<U2')]\n",
    "\n",
    "def rand_instructions(c):\n",
    "    n = c['nevents'] = c['event_rate'] * c['chunk_size'] * c['nchunk']\n",
    "    c['total_time'] = c['chunk_size'] * c['nchunk']\n",
    "\n",
    "    instructions = np.zeros(2 * n, dtype=instruction_dtype)\n",
    "    uniform_times = c['total_time'] * (np.arange(n) + 0.5) / n\n",
    "    instructions['t'] = np.repeat(uniform_times, 2) * int(1e9)\n",
    "    instructions['event_number'] = np.digitize(instructions['t'], \n",
    "         1e9 * np.arange(c['nchunk']) * c['chunk_size']) - 1\n",
    "    instructions['type'] = np.tile(['s1', 's2'], n)\n",
    "    instructions['recoil'] = ['er' for i in range(n * 2)]\n",
    "\n",
    "    r = np.sqrt(np.random.uniform(0, 2500, n))\n",
    "    t = np.random.uniform(-np.pi, np.pi, n)\n",
    "    instructions['x'] = np.repeat(r * np.cos(t), 2)\n",
    "    instructions['y'] = np.repeat(r * np.sin(t), 2)\n",
    "    instructions['z'] = np.repeat(np.random.uniform(-100, 0, n), 2)\n",
    "\n",
    "    nphotons = np.random.uniform(2000, 2050, n)\n",
    "    nelectrons = 10 ** (np.random.uniform(1, 4, n))\n",
    "    instructions['amp'] = np.vstack([nphotons, nelectrons]).T.flatten().astype(int)\n",
    "\n",
    "    return instructions\n",
    "\n",
    "c = dict(event_rate = 100, chunk_size=1, nchunk=10)\n",
    "inst = rand_instructions(c)\n",
    "_ = pd.DataFrame(inst).to_csv('test_uni.csv', index=False)"
   ]
  },
  {
   "cell_type": "code",
   "execution_count": null,
   "metadata": {},
   "outputs": [],
   "source": [
    "st = strax.Context(\n",
    "register=[wfsim.RawRecordsFromFax],\n",
    "config=dict(fax_file='./test_uni.csv'),\n",
    "**straxen.contexts.common_opts)"
   ]
  },
  {
   "cell_type": "code",
   "execution_count": null,
   "metadata": {},
   "outputs": [],
   "source": [
    "# Just some id from post-SR1, so the corrections work\n",
    "run_id = '180519_1902'"
   ]
  },
  {
   "cell_type": "code",
   "execution_count": null,
   "metadata": {
    "scrolled": true
   },
   "outputs": [],
   "source": [
    "# Call for event_info so it immediately get processed as well\n",
    "!rm -r strax_data\n",
    "st.make(run_id, 'event_info')"
   ]
  },
  {
   "cell_type": "code",
   "execution_count": null,
   "metadata": {},
   "outputs": [],
   "source": [
    "truth = st.get_df(run_id, 'truth')\n",
    "data = st.get_df(run_id, 'event_info')"
   ]
  },
  {
   "cell_type": "code",
   "execution_count": null,
   "metadata": {},
   "outputs": [],
   "source": [
    "n = c['nevents'] = c['event_rate'] * c['chunk_size'] * c['nchunk']\n",
    "c['total_time'] = c['chunk_size'] * c['nchunk']\n",
    "timing_grid = np.linspace(0, c['total_time'], n+1) * 1e9"
   ]
  },
  {
   "cell_type": "code",
   "execution_count": null,
   "metadata": {},
   "outputs": [],
   "source": [
    "truth['merge_index'] = np.digitize(truth['t'], timing_grid)\n",
    "data['merge_index'] = np.digitize(data['time'], timing_grid)\n",
    "\n",
    "truth.drop('event_number', axis=1, inplace=True)\n",
    "data = data.merge(truth[truth['type']=='s2'], how='outer', left_on='merge_index', right_on='merge_index')"
   ]
  },
  {
   "cell_type": "code",
   "execution_count": null,
   "metadata": {},
   "outputs": [],
   "source": [
    "import matplotlib.pyplot as plt\n",
    "from matplotlib.colors import LogNorm\n",
    "from multihist import Histdd, Hist1d\n",
    "\n",
    "plt.rcParams['figure.figsize'] = (10, 5)\n",
    "fig = plt.figure()\n",
    "\n",
    "ax = fig.add_subplot(121)\n",
    "mh = Histdd(data.s2_area, data.n_photon,\n",
    "            bins=[np.logspace(1, 6, 101), np.logspace(1, 6, 101)])\n",
    "plt.pcolormesh(mh.bin_edges[0], mh.bin_edges[1], mh.histogram.T, norm=LogNorm())\n",
    "plt.xscale('log'); plt.yscale('log')\n",
    "\n",
    "ax = fig.add_subplot(122)\n",
    "mh = Histdd(data.n_photon, (data.s2_area-data.n_photon)/data.n_photon, \n",
    "            bins=[np.logspace(1, 6, 101), np.linspace(-0.5, 0.5, 101)])\n",
    "plt.pcolormesh(mh.bin_edges[0], mh.bin_edges[1], mh.histogram.T, norm=LogNorm())\n",
    "plt.xscale('log')\n",
    "\n",
    "plt.show()"
   ]
  },
  {
   "cell_type": "code",
   "execution_count": null,
   "metadata": {},
   "outputs": [],
   "source": [
    "truth = st.get_df(run_id, 'truth')\n",
    "data = st.get_df(run_id, 'event_info')\n",
    "\n",
    "truth['merge_index'] = np.digitize(truth['t'], timing_grid)\n",
    "data['merge_index'] = np.digitize(data['time'], timing_grid)\n",
    "\n",
    "truth.drop('event_number', axis=1, inplace=True)\n",
    "data = data.merge(truth[truth['type']=='s1'], how='outer', left_on='merge_index', right_on='merge_index')"
   ]
  },
  {
   "cell_type": "code",
   "execution_count": null,
   "metadata": {},
   "outputs": [],
   "source": [
    "plt.rcParams['figure.figsize'] = (10, 5)\n",
    "fig = plt.figure()\n",
    "\n",
    "ax = fig.add_subplot(121)\n",
    "mh = Histdd(data.s1_area, data.n_photon,\n",
    "            bins=[np.logspace(2, 2.8, 101), np.logspace(2, 2.8, 101)])\n",
    "plt.pcolormesh(mh.bin_edges[0], mh.bin_edges[1], mh.histogram.T, norm=LogNorm())\n",
    "plt.xscale('log'); plt.yscale('log')\n",
    "\n",
    "ax = fig.add_subplot(122)\n",
    "mh = Histdd(data.n_photon, (data.s1_area-data.n_photon)/data.n_photon, \n",
    "            bins=[np.logspace(2, 2.8, 101), np.linspace(-0.5, 0.5, 101)])\n",
    "plt.pcolormesh(mh.bin_edges[0], mh.bin_edges[1], mh.histogram.T, norm=LogNorm())\n",
    "plt.xscale('log')\n",
    "\n",
    "plt.show()"
   ]
  },
  {
   "cell_type": "code",
   "execution_count": null,
   "metadata": {},
   "outputs": [],
   "source": []
  }
 ],
 "metadata": {
  "kernelspec": {
   "display_name": "Python 3",
   "language": "python",
   "name": "python3"
  },
  "language_info": {
   "codemirror_mode": {
    "name": "ipython",
    "version": 3
   },
   "file_extension": ".py",
   "mimetype": "text/x-python",
   "name": "python",
   "nbconvert_exporter": "python",
   "pygments_lexer": "ipython3",
   "version": "3.6.9"
  },
  "widgets": {
   "state": {
    "a26e7f9ab967429687376a4127408b3b": {
     "views": [
      {
       "cell_index": 9
      }
     ]
    }
   },
   "version": "1.2.0"
  }
 },
 "nbformat": 4,
 "nbformat_minor": 4
}
