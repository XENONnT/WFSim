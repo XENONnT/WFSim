{
 "cells": [
  {
   "cell_type": "markdown",
   "metadata": {},
   "source": [
    "## Understanding Waveform Simulation for XENONnT\n",
    "\n",
    "Nov 30"
   ]
  },
  {
   "cell_type": "code",
   "execution_count": 1,
   "metadata": {},
   "outputs": [
    {
     "name": "stderr",
     "output_type": "stream",
     "text": [
      "*** Detector definition message ***\n",
      "You are currently using the default XENON10 template detector.\n",
      "\n"
     ]
    }
   ],
   "source": [
    "import strax, straxen, wfsim\n",
    "import numpy as np\n",
    "import pandas as pd"
   ]
  },
  {
   "cell_type": "code",
   "execution_count": 2,
   "metadata": {},
   "outputs": [
    {
     "data": {
      "text/html": [
       "<div>\n",
       "<style scoped>\n",
       "    .dataframe tbody tr th:only-of-type {\n",
       "        vertical-align: middle;\n",
       "    }\n",
       "\n",
       "    .dataframe tbody tr th {\n",
       "        vertical-align: top;\n",
       "    }\n",
       "\n",
       "    .dataframe thead th {\n",
       "        text-align: right;\n",
       "    }\n",
       "</style>\n",
       "<table border=\"1\" class=\"dataframe\">\n",
       "  <thead>\n",
       "    <tr style=\"text-align: right;\">\n",
       "      <th></th>\n",
       "      <th>module</th>\n",
       "      <th>version</th>\n",
       "      <th>path</th>\n",
       "      <th>git</th>\n",
       "    </tr>\n",
       "  </thead>\n",
       "  <tbody>\n",
       "    <tr>\n",
       "      <th>0</th>\n",
       "      <td>python</td>\n",
       "      <td>3.9.17</td>\n",
       "      <td>/opt/XENONnT/anaconda/envs/XENONnT_2023.07.1/b...</td>\n",
       "      <td>None</td>\n",
       "    </tr>\n",
       "    <tr>\n",
       "      <th>1</th>\n",
       "      <td>strax</td>\n",
       "      <td>1.5.2</td>\n",
       "      <td>/opt/XENONnT/anaconda/envs/XENONnT_2023.07.1/l...</td>\n",
       "      <td>None</td>\n",
       "    </tr>\n",
       "    <tr>\n",
       "      <th>2</th>\n",
       "      <td>straxen</td>\n",
       "      <td>2.1.1</td>\n",
       "      <td>/opt/XENONnT/anaconda/envs/XENONnT_2023.07.1/l...</td>\n",
       "      <td>None</td>\n",
       "    </tr>\n",
       "    <tr>\n",
       "      <th>3</th>\n",
       "      <td>cutax</td>\n",
       "      <td>1.15.1</td>\n",
       "      <td>/home/shenyangshi/cutax/cutax</td>\n",
       "      <td>branch:bdt_ms | 277f174</td>\n",
       "    </tr>\n",
       "    <tr>\n",
       "      <th>4</th>\n",
       "      <td>wfsim</td>\n",
       "      <td>1.0.2</td>\n",
       "      <td>/opt/XENONnT/anaconda/envs/XENONnT_2023.07.1/l...</td>\n",
       "      <td>None</td>\n",
       "    </tr>\n",
       "    <tr>\n",
       "      <th>5</th>\n",
       "      <td>ntauxfiles</td>\n",
       "      <td>0.3.0</td>\n",
       "      <td>/project2/lgrandi/shenyangshi/home/private_nt_...</td>\n",
       "      <td>branch:AmBe_ms_fit | 3555246</td>\n",
       "    </tr>\n",
       "  </tbody>\n",
       "</table>\n",
       "</div>"
      ],
      "text/plain": [
       "       module version                                               path  \\\n",
       "0      python  3.9.17  /opt/XENONnT/anaconda/envs/XENONnT_2023.07.1/b...   \n",
       "1       strax   1.5.2  /opt/XENONnT/anaconda/envs/XENONnT_2023.07.1/l...   \n",
       "2     straxen   2.1.1  /opt/XENONnT/anaconda/envs/XENONnT_2023.07.1/l...   \n",
       "3       cutax  1.15.1                      /home/shenyangshi/cutax/cutax   \n",
       "4       wfsim   1.0.2  /opt/XENONnT/anaconda/envs/XENONnT_2023.07.1/l...   \n",
       "5  ntauxfiles   0.3.0  /project2/lgrandi/shenyangshi/home/private_nt_...   \n",
       "\n",
       "                            git  \n",
       "0                          None  \n",
       "1                          None  \n",
       "2                          None  \n",
       "3       branch:bdt_ms | 277f174  \n",
       "4                          None  \n",
       "5  branch:AmBe_ms_fit | 3555246  "
      ]
     },
     "execution_count": 2,
     "metadata": {},
     "output_type": "execute_result"
    }
   ],
   "source": [
    "straxen.print_versions(modules=('strax', 'straxen', 'cutax', 'wfsim', 'ntauxfiles'))"
   ]
  },
  {
   "cell_type": "code",
   "execution_count": 4,
   "metadata": {},
   "outputs": [],
   "source": [
    "config = straxen.get_resource('fax_config_nt_sr0_dev.json', fmt='json')\n",
    "config.update({'detector':'XENONnT', 'right_raw_extension':50000})"
   ]
  },
  {
   "cell_type": "markdown",
   "metadata": {},
   "source": [
    "### Part 1, Simulation flow\n",
    "[Conceptual Overview](#Conceptual-Overview) / [Between Interface and Core](#Between-Interface-and-Core) / [Pulse Classes](#Pulse-Classes) / [Workflow Walkthrough](#Workflow-Walkthrough)"
   ]
  },
  {
   "cell_type": "markdown",
   "metadata": {},
   "source": [
    "### Conceptual Overview\n",
    "\n",
    "#### What it's for?\n",
    "\n",
    "Imagine a monoenergetic source like Kr83m, producing photons and electrons uniformally in the detector, what would the events look like, can the processing software correctly reconstruct them? Or Would you like some fake events in the blinded regions?\n",
    "\n",
    "The signals from XENON experiments have been extensively studied, so that we can mostly model them from the bottom up approach. The [WFSim](https://github.com/XENONnT/WFSim) use those models do construct waveforms as realistic as possible while keeping track of the inputs.\n",
    "\n",
    "Let's break down the WFSim bit by bit.\n",
    "\n",
    "#### How it works\n",
    "\n",
    "The WFSim from the outside works like a python iterator, and is composed of four levels of iterators, where the deepest are `Pulse` classes (those are not exactly iterator) taking [instruction groups](#Instruction-groups) and return a list of pseudo pulses. The `RawData` take the pseudo pulses and `yield` digitized pulses, similar to what physical digitizers would do. The `ChunkRawRecords` and `RawRecordsFromFaxNT` takes care of chunking and interface with strax respectively.\n"
   ]
  },
  {
   "cell_type": "markdown",
   "metadata": {},
   "source": [
    "<img src=\"wfsim_intro_1.1.png\" width=\"600\">"
   ]
  },
  {
   "cell_type": "markdown",
   "metadata": {},
   "source": [
    "#### Instruction groups\n",
    "\n",
    "However, it is not exactly iterating over instructions, the instructions are just one of the arguments for `__init__`. It is designed to turn instruction like the one below into the lowest input structure of the processing software, `chunk` containing `raw_records`(`event` containing `pulses`)."
   ]
  },
  {
   "cell_type": "code",
   "execution_count": null,
   "metadata": {},
   "outputs": [],
   "source": []
  },
  {
   "cell_type": "code",
   "execution_count": 5,
   "metadata": {},
   "outputs": [
    {
     "name": "stderr",
     "output_type": "stream",
     "text": [
      "WARNING:wfsim.interface:rand_instructions is deprecated, please use wfsim.random_instructions\n"
     ]
    },
    {
     "data": {
      "application/vnd.jupyter.widget-view+json": {
       "model_id": "5c95225017ed428e9366f0bfc5578b12",
       "version_major": 2,
       "version_minor": 0
      },
      "text/plain": [
       "generating instructions from nest:   0%|          | 0/6 [00:00<?, ?it/s]"
      ]
     },
     "metadata": {},
     "output_type": "display_data"
    },
    {
     "name": "stderr",
     "output_type": "stream",
     "text": [
      "WARNING:wfsim.interface:g4id is not (fully) filled\n",
      "WARNING:wfsim.interface:vol_id is not (fully) filled\n"
     ]
    },
    {
     "data": {
      "text/html": [
       "<div>\n",
       "<style scoped>\n",
       "    .dataframe tbody tr th:only-of-type {\n",
       "        vertical-align: middle;\n",
       "    }\n",
       "\n",
       "    .dataframe tbody tr th {\n",
       "        vertical-align: top;\n",
       "    }\n",
       "\n",
       "    .dataframe thead th {\n",
       "        text-align: right;\n",
       "    }\n",
       "</style>\n",
       "<table border=\"1\" class=\"dataframe\">\n",
       "  <thead>\n",
       "    <tr style=\"text-align: right;\">\n",
       "      <th></th>\n",
       "      <th>event_number</th>\n",
       "      <th>type</th>\n",
       "      <th>time</th>\n",
       "      <th>x</th>\n",
       "      <th>y</th>\n",
       "      <th>z</th>\n",
       "      <th>amp</th>\n",
       "      <th>recoil</th>\n",
       "      <th>e_dep</th>\n",
       "      <th>g4id</th>\n",
       "      <th>vol_id</th>\n",
       "      <th>local_field</th>\n",
       "      <th>n_excitons</th>\n",
       "      <th>x_pri</th>\n",
       "      <th>y_pri</th>\n",
       "      <th>z_pri</th>\n",
       "    </tr>\n",
       "  </thead>\n",
       "  <tbody>\n",
       "    <tr>\n",
       "      <th>0</th>\n",
       "      <td>0</td>\n",
       "      <td>1</td>\n",
       "      <td>166666666</td>\n",
       "      <td>32.122543</td>\n",
       "      <td>-22.621212</td>\n",
       "      <td>-43.662350</td>\n",
       "      <td>818</td>\n",
       "      <td>7</td>\n",
       "      <td>13.101433</td>\n",
       "      <td>-1</td>\n",
       "      <td>-1</td>\n",
       "      <td>22.92</td>\n",
       "      <td>113</td>\n",
       "      <td>32.122543</td>\n",
       "      <td>-22.621212</td>\n",
       "      <td>-43.662350</td>\n",
       "    </tr>\n",
       "    <tr>\n",
       "      <th>1</th>\n",
       "      <td>0</td>\n",
       "      <td>2</td>\n",
       "      <td>166666666</td>\n",
       "      <td>32.122543</td>\n",
       "      <td>-22.621212</td>\n",
       "      <td>-43.662350</td>\n",
       "      <td>145</td>\n",
       "      <td>7</td>\n",
       "      <td>13.101433</td>\n",
       "      <td>-1</td>\n",
       "      <td>-1</td>\n",
       "      <td>22.92</td>\n",
       "      <td>0</td>\n",
       "      <td>32.122543</td>\n",
       "      <td>-22.621212</td>\n",
       "      <td>-43.662350</td>\n",
       "    </tr>\n",
       "    <tr>\n",
       "      <th>2</th>\n",
       "      <td>0</td>\n",
       "      <td>1</td>\n",
       "      <td>500000000</td>\n",
       "      <td>7.289836</td>\n",
       "      <td>-28.672121</td>\n",
       "      <td>-58.539639</td>\n",
       "      <td>3675</td>\n",
       "      <td>7</td>\n",
       "      <td>57.908840</td>\n",
       "      <td>-1</td>\n",
       "      <td>-1</td>\n",
       "      <td>22.92</td>\n",
       "      <td>670</td>\n",
       "      <td>7.289836</td>\n",
       "      <td>-28.672121</td>\n",
       "      <td>-58.539639</td>\n",
       "    </tr>\n",
       "    <tr>\n",
       "      <th>3</th>\n",
       "      <td>0</td>\n",
       "      <td>2</td>\n",
       "      <td>500000000</td>\n",
       "      <td>7.289836</td>\n",
       "      <td>-28.672121</td>\n",
       "      <td>-58.539639</td>\n",
       "      <td>609</td>\n",
       "      <td>7</td>\n",
       "      <td>57.908840</td>\n",
       "      <td>-1</td>\n",
       "      <td>-1</td>\n",
       "      <td>22.92</td>\n",
       "      <td>0</td>\n",
       "      <td>7.289836</td>\n",
       "      <td>-28.672121</td>\n",
       "      <td>-58.539639</td>\n",
       "    </tr>\n",
       "    <tr>\n",
       "      <th>4</th>\n",
       "      <td>0</td>\n",
       "      <td>1</td>\n",
       "      <td>833333333</td>\n",
       "      <td>36.476028</td>\n",
       "      <td>-32.952290</td>\n",
       "      <td>-136.419952</td>\n",
       "      <td>4234</td>\n",
       "      <td>7</td>\n",
       "      <td>65.917046</td>\n",
       "      <td>-1</td>\n",
       "      <td>-1</td>\n",
       "      <td>22.92</td>\n",
       "      <td>755</td>\n",
       "      <td>36.476028</td>\n",
       "      <td>-32.952290</td>\n",
       "      <td>-136.419952</td>\n",
       "    </tr>\n",
       "    <tr>\n",
       "      <th>5</th>\n",
       "      <td>0</td>\n",
       "      <td>2</td>\n",
       "      <td>833333333</td>\n",
       "      <td>36.476028</td>\n",
       "      <td>-32.952290</td>\n",
       "      <td>-136.419952</td>\n",
       "      <td>625</td>\n",
       "      <td>7</td>\n",
       "      <td>65.917046</td>\n",
       "      <td>-1</td>\n",
       "      <td>-1</td>\n",
       "      <td>22.92</td>\n",
       "      <td>0</td>\n",
       "      <td>36.476028</td>\n",
       "      <td>-32.952290</td>\n",
       "      <td>-136.419952</td>\n",
       "    </tr>\n",
       "    <tr>\n",
       "      <th>6</th>\n",
       "      <td>1</td>\n",
       "      <td>1</td>\n",
       "      <td>1166666666</td>\n",
       "      <td>-13.274544</td>\n",
       "      <td>-16.667040</td>\n",
       "      <td>-7.988991</td>\n",
       "      <td>1040</td>\n",
       "      <td>7</td>\n",
       "      <td>16.401899</td>\n",
       "      <td>-1</td>\n",
       "      <td>-1</td>\n",
       "      <td>22.92</td>\n",
       "      <td>159</td>\n",
       "      <td>-13.274544</td>\n",
       "      <td>-16.667040</td>\n",
       "      <td>-7.988991</td>\n",
       "    </tr>\n",
       "    <tr>\n",
       "      <th>7</th>\n",
       "      <td>1</td>\n",
       "      <td>2</td>\n",
       "      <td>1166666666</td>\n",
       "      <td>-13.274544</td>\n",
       "      <td>-16.667040</td>\n",
       "      <td>-7.988991</td>\n",
       "      <td>164</td>\n",
       "      <td>7</td>\n",
       "      <td>16.401899</td>\n",
       "      <td>-1</td>\n",
       "      <td>-1</td>\n",
       "      <td>22.92</td>\n",
       "      <td>0</td>\n",
       "      <td>-13.274544</td>\n",
       "      <td>-16.667040</td>\n",
       "      <td>-7.988991</td>\n",
       "    </tr>\n",
       "    <tr>\n",
       "      <th>8</th>\n",
       "      <td>1</td>\n",
       "      <td>1</td>\n",
       "      <td>1500000000</td>\n",
       "      <td>-6.285732</td>\n",
       "      <td>65.843475</td>\n",
       "      <td>-28.266441</td>\n",
       "      <td>2797</td>\n",
       "      <td>7</td>\n",
       "      <td>43.466827</td>\n",
       "      <td>-1</td>\n",
       "      <td>-1</td>\n",
       "      <td>22.92</td>\n",
       "      <td>486</td>\n",
       "      <td>-6.285732</td>\n",
       "      <td>65.843475</td>\n",
       "      <td>-28.266441</td>\n",
       "    </tr>\n",
       "    <tr>\n",
       "      <th>9</th>\n",
       "      <td>1</td>\n",
       "      <td>2</td>\n",
       "      <td>1500000000</td>\n",
       "      <td>-6.285732</td>\n",
       "      <td>65.843475</td>\n",
       "      <td>-28.266441</td>\n",
       "      <td>383</td>\n",
       "      <td>7</td>\n",
       "      <td>43.466827</td>\n",
       "      <td>-1</td>\n",
       "      <td>-1</td>\n",
       "      <td>22.92</td>\n",
       "      <td>0</td>\n",
       "      <td>-6.285732</td>\n",
       "      <td>65.843475</td>\n",
       "      <td>-28.266441</td>\n",
       "    </tr>\n",
       "    <tr>\n",
       "      <th>10</th>\n",
       "      <td>1</td>\n",
       "      <td>1</td>\n",
       "      <td>1833333333</td>\n",
       "      <td>-45.993202</td>\n",
       "      <td>-14.296285</td>\n",
       "      <td>-122.466698</td>\n",
       "      <td>346</td>\n",
       "      <td>7</td>\n",
       "      <td>5.972553</td>\n",
       "      <td>-1</td>\n",
       "      <td>-1</td>\n",
       "      <td>22.92</td>\n",
       "      <td>24</td>\n",
       "      <td>-45.993202</td>\n",
       "      <td>-14.296285</td>\n",
       "      <td>-122.466698</td>\n",
       "    </tr>\n",
       "    <tr>\n",
       "      <th>11</th>\n",
       "      <td>1</td>\n",
       "      <td>2</td>\n",
       "      <td>1833333333</td>\n",
       "      <td>-45.993202</td>\n",
       "      <td>-14.296285</td>\n",
       "      <td>-122.466698</td>\n",
       "      <td>102</td>\n",
       "      <td>7</td>\n",
       "      <td>5.972553</td>\n",
       "      <td>-1</td>\n",
       "      <td>-1</td>\n",
       "      <td>22.92</td>\n",
       "      <td>0</td>\n",
       "      <td>-45.993202</td>\n",
       "      <td>-14.296285</td>\n",
       "      <td>-122.466698</td>\n",
       "    </tr>\n",
       "  </tbody>\n",
       "</table>\n",
       "</div>"
      ],
      "text/plain": [
       "    event_number  type        time          x          y           z   amp  \\\n",
       "0              0     1   166666666  32.122543 -22.621212  -43.662350   818   \n",
       "1              0     2   166666666  32.122543 -22.621212  -43.662350   145   \n",
       "2              0     1   500000000   7.289836 -28.672121  -58.539639  3675   \n",
       "3              0     2   500000000   7.289836 -28.672121  -58.539639   609   \n",
       "4              0     1   833333333  36.476028 -32.952290 -136.419952  4234   \n",
       "5              0     2   833333333  36.476028 -32.952290 -136.419952   625   \n",
       "6              1     1  1166666666 -13.274544 -16.667040   -7.988991  1040   \n",
       "7              1     2  1166666666 -13.274544 -16.667040   -7.988991   164   \n",
       "8              1     1  1500000000  -6.285732  65.843475  -28.266441  2797   \n",
       "9              1     2  1500000000  -6.285732  65.843475  -28.266441   383   \n",
       "10             1     1  1833333333 -45.993202 -14.296285 -122.466698   346   \n",
       "11             1     2  1833333333 -45.993202 -14.296285 -122.466698   102   \n",
       "\n",
       "    recoil      e_dep  g4id  vol_id  local_field  n_excitons      x_pri  \\\n",
       "0        7  13.101433    -1      -1        22.92         113  32.122543   \n",
       "1        7  13.101433    -1      -1        22.92           0  32.122543   \n",
       "2        7  57.908840    -1      -1        22.92         670   7.289836   \n",
       "3        7  57.908840    -1      -1        22.92           0   7.289836   \n",
       "4        7  65.917046    -1      -1        22.92         755  36.476028   \n",
       "5        7  65.917046    -1      -1        22.92           0  36.476028   \n",
       "6        7  16.401899    -1      -1        22.92         159 -13.274544   \n",
       "7        7  16.401899    -1      -1        22.92           0 -13.274544   \n",
       "8        7  43.466827    -1      -1        22.92         486  -6.285732   \n",
       "9        7  43.466827    -1      -1        22.92           0  -6.285732   \n",
       "10       7   5.972553    -1      -1        22.92          24 -45.993202   \n",
       "11       7   5.972553    -1      -1        22.92           0 -45.993202   \n",
       "\n",
       "        y_pri       z_pri  \n",
       "0  -22.621212  -43.662350  \n",
       "1  -22.621212  -43.662350  \n",
       "2  -28.672121  -58.539639  \n",
       "3  -28.672121  -58.539639  \n",
       "4  -32.952290 -136.419952  \n",
       "5  -32.952290 -136.419952  \n",
       "6  -16.667040   -7.988991  \n",
       "7  -16.667040   -7.988991  \n",
       "8   65.843475  -28.266441  \n",
       "9   65.843475  -28.266441  \n",
       "10 -14.296285 -122.466698  \n",
       "11 -14.296285 -122.466698  "
      ]
     },
     "execution_count": 5,
     "metadata": {},
     "output_type": "execute_result"
    }
   ],
   "source": [
    "instructions = inst_array = wfsim.strax_interface.rand_instructions(c={'event_rate':3, 'chunk_size':1, 'nchunk':1, **config})\n",
    "inst_df = pd.DataFrame(inst_array)\n",
    "inst_df"
   ]
  },
  {
   "cell_type": "markdown",
   "metadata": {},
   "source": [
    "The `event_number` are all 0, but don't worry about it. It is used as event index when using with pax, while having no significant meaning when using with straxen."
   ]
  },
  {
   "cell_type": "markdown",
   "metadata": {},
   "source": [
    "The instruction is sorted by the physical time of the signal, that is S2-esque signal are delayed by drift time. And clustered into instruction groups, similar to gap size clustering that split when the gap is larger than `right_raw_extension`."
   ]
  },
  {
   "cell_type": "code",
   "execution_count": 6,
   "metadata": {},
   "outputs": [],
   "source": [
    "# Pre-load some constents from config\n",
    "v = config['drift_velocity_liquid']\n",
    "rext = config['right_raw_extension']\n",
    "\n",
    "# Primary instructions must be sorted by signal time\n",
    "# int(type) by design S1-esque being odd, S2-esque being even\n",
    "# thus type%2-1 is 0:S1-esque;  -1:S2-esque\n",
    "# Make a list of clusters of instructions, with gap smaller then rext\n",
    "inst_time = instructions['time'] + instructions['z']  / v * (instructions['type'] % 2 - 1)\n",
    "inst_queue = np.argsort(inst_time)\n",
    "inst_queue = np.split(inst_queue, np.where(np.diff(inst_time[inst_queue]) > rext)[0]+1)"
   ]
  },
  {
   "cell_type": "markdown",
   "metadata": {},
   "source": [
    "### Between Interface and Core\n",
    "\n",
    "Let's now examine what's been passing between the interface and core, specifically between `ChunkRawRecord` and `ChunkRawRecord.rawdata (rawdata)`. The most important things passed into `rawdata` are the instructions. But we also pass the truth buffer (empty array of truth dtype with 10000 slots) into `rawdata`. In return, we have `(channel, left, right, data)` valuse of digitized pulses, needed to build raw records.\n",
    "\n",
    "At the same time three properties are interally used as chunking indicators `rawdata.left, rawdata.right, radata.source_finished`. Whereas the left and right above returned by calling `__next__` on `rawdata` are of individual pulses, the `rawdata.left, rawdata.right` are of all the pulses originated from an instruction group. So that when we stop and chunk, we can be sure we have finished an instruction group, and the next pulse will come at least `right_raw_extension` away."
   ]
  },
  {
   "cell_type": "markdown",
   "metadata": {},
   "source": [
    "<img src=\"wfsim_intro_1.2.png\" width=\"600\">"
   ]
  },
  {
   "cell_type": "markdown",
   "metadata": {},
   "source": [
    "**Sim data** is the function where `Pulse` class are called."
   ]
  },
  {
   "cell_type": "markdown",
   "metadata": {},
   "source": [
    "#### Convert to raw records\n",
    "The pulses returned are in the form of `(channel, left, right, data)`, not exactly the form of raw records. So one of the two main functions of `ChunkRawRecord` is to covert them."
   ]
  },
  {
   "cell_type": "code",
   "execution_count": 7,
   "metadata": {},
   "outputs": [
    {
     "ename": "NameError",
     "evalue": "name 'right' is not defined",
     "output_type": "error",
     "traceback": [
      "\u001b[0;31m---------------------------------------------------------------------------\u001b[0m",
      "\u001b[0;31mNameError\u001b[0m                                 Traceback (most recent call last)",
      "Cell \u001b[0;32mIn[7], line 3\u001b[0m\n\u001b[1;32m      1\u001b[0m \u001b[38;5;66;03m# !!! Do not run this cell\u001b[39;00m\n\u001b[0;32m----> 3\u001b[0m pulse_length \u001b[38;5;241m=\u001b[39m \u001b[43mright\u001b[49m \u001b[38;5;241m-\u001b[39m left \u001b[38;5;241m+\u001b[39m \u001b[38;5;241m1\u001b[39m\n\u001b[1;32m      4\u001b[0m records_needed \u001b[38;5;241m=\u001b[39m \u001b[38;5;28mint\u001b[39m(np\u001b[38;5;241m.\u001b[39mceil(pulse_length \u001b[38;5;241m/\u001b[39m samples_per_record))\n\u001b[1;32m      6\u001b[0m \u001b[38;5;66;03m# WARNING baseline and area fields are zeros before finish_results\u001b[39;00m\n",
      "\u001b[0;31mNameError\u001b[0m: name 'right' is not defined"
     ]
    }
   ],
   "source": [
    "# !!! Do not run this cell\n",
    "\n",
    "pulse_length = right - left + 1\n",
    "records_needed = int(np.ceil(pulse_length / samples_per_record))\n",
    "\n",
    "# WARNING baseline and area fields are zeros before finish_results\n",
    "s = slice(blevel, blevel + records_needed)\n",
    "record_buffer[s]['channel'] = channel\n",
    "record_buffer[s]['dt'] = dt\n",
    "record_buffer[s]['time'] = dt * (left + samples_per_record * np.arange(records_needed))\n",
    "record_buffer[s]['length'] = [min(pulse_length, samples_per_record * (i+1)) \n",
    "    - samples_per_record * i for i in range(records_needed)]\n",
    "record_buffer[s]['pulse_length'] = pulse_length\n",
    "record_buffer[s]['record_i'] = np.arange(records_needed)\n",
    "record_buffer[s]['data'] = np.pad(data, \n",
    "    (0, records_needed * samples_per_record - pulse_length), 'constant').reshape((-1, samples_per_record))\n"
   ]
  },
  {
   "cell_type": "markdown",
   "metadata": {},
   "source": [
    "#### Digitize pulse cache\n",
    "\n",
    "The psuedo pulses are cached in `_pulses_cache`, once an instruction group is over, we digitize all the psuedo pulses. This is done by summing up all the pulse current in each channel and convert unit from PE to acd count thus becoming `adc_wave`. Three functions `add_noise`, `add_baseline` and `digitizer_saturation` are done afterwards."
   ]
  },
  {
   "cell_type": "code",
   "execution_count": 8,
   "metadata": {},
   "outputs": [
    {
     "ename": "NameError",
     "evalue": "name '_pulses_cache' is not defined",
     "output_type": "error",
     "traceback": [
      "\u001b[0;31m---------------------------------------------------------------------------\u001b[0m",
      "\u001b[0;31mNameError\u001b[0m                                 Traceback (most recent call last)",
      "Cell \u001b[0;32mIn[8], line 8\u001b[0m\n\u001b[1;32m      1\u001b[0m \u001b[38;5;66;03m# !!! Do not run this cell\u001b[39;00m\n\u001b[1;32m      4\u001b[0m current_2_adc \u001b[38;5;241m=\u001b[39m config[\u001b[38;5;124m'\u001b[39m\u001b[38;5;124mpmt_circuit_load_resistor\u001b[39m\u001b[38;5;124m'\u001b[39m] \\\n\u001b[1;32m      5\u001b[0m     \u001b[38;5;241m*\u001b[39m config[\u001b[38;5;124m'\u001b[39m\u001b[38;5;124mexternal_amplification\u001b[39m\u001b[38;5;124m'\u001b[39m] \\\n\u001b[1;32m      6\u001b[0m     \u001b[38;5;241m/\u001b[39m (config[\u001b[38;5;124m'\u001b[39m\u001b[38;5;124mdigitizer_voltage_range\u001b[39m\u001b[38;5;124m'\u001b[39m] \u001b[38;5;241m/\u001b[39m \u001b[38;5;241m2\u001b[39m \u001b[38;5;241m*\u001b[39m\u001b[38;5;241m*\u001b[39m (config[\u001b[38;5;124m'\u001b[39m\u001b[38;5;124mdigitizer_bits\u001b[39m\u001b[38;5;124m'\u001b[39m]))\n\u001b[0;32m----> 8\u001b[0m left \u001b[38;5;241m=\u001b[39m np\u001b[38;5;241m.\u001b[39mmin([p[\u001b[38;5;124m'\u001b[39m\u001b[38;5;124mleft\u001b[39m\u001b[38;5;124m'\u001b[39m] \u001b[38;5;28;01mfor\u001b[39;00m p \u001b[38;5;129;01min\u001b[39;00m \u001b[43m_pulses_cache\u001b[49m]) \u001b[38;5;241m-\u001b[39m config[\u001b[38;5;124m'\u001b[39m\u001b[38;5;124mtrigger_window\u001b[39m\u001b[38;5;124m'\u001b[39m]\n\u001b[1;32m      9\u001b[0m right \u001b[38;5;241m=\u001b[39m np\u001b[38;5;241m.\u001b[39mmax([p[\u001b[38;5;124m'\u001b[39m\u001b[38;5;124mright\u001b[39m\u001b[38;5;124m'\u001b[39m] \u001b[38;5;28;01mfor\u001b[39;00m p \u001b[38;5;129;01min\u001b[39;00m _pulses_cache]) \u001b[38;5;241m+\u001b[39m config[\u001b[38;5;124m'\u001b[39m\u001b[38;5;124mtrigger_window\u001b[39m\u001b[38;5;124m'\u001b[39m]\n\u001b[1;32m     10\u001b[0m \u001b[38;5;28;01massert\u001b[39;00m right \u001b[38;5;241m-\u001b[39m left \u001b[38;5;241m<\u001b[39m \u001b[38;5;241m200000\u001b[39m, \u001b[38;5;124m\"\u001b[39m\u001b[38;5;124mPulse cache too long\u001b[39m\u001b[38;5;124m\"\u001b[39m\n",
      "\u001b[0;31mNameError\u001b[0m: name '_pulses_cache' is not defined"
     ]
    }
   ],
   "source": [
    "# !!! Do not run this cell\n",
    "\n",
    "\n",
    "current_2_adc = config['pmt_circuit_load_resistor'] \\\n",
    "    * config['external_amplification'] \\\n",
    "    / (config['digitizer_voltage_range'] / 2 ** (config['digitizer_bits']))\n",
    "\n",
    "left = np.min([p['left'] for p in _pulses_cache]) - config['trigger_window']\n",
    "right = np.max([p['right'] for p in _pulses_cache]) + config['trigger_window']\n",
    "assert right - left < 200000, \"Pulse cache too long\"\n",
    "\n",
    "if left % 2 != 0: left -= 1 # Seems like a digizier effect\n",
    "\n",
    "_raw_data = np.zeros((801,\n",
    "    right - left + 1), dtype=('<i8'))\n",
    "\n",
    "for ix, _pulse in enumerate(_pulses_cache):\n",
    "    ch = _pulse['channel']\n",
    "    adc_wave = - np.trunc(_pulse['current'] * current_2_adc).astype(int)\n",
    "    _slice = slice(_pulse['left'] - left, _pulse['right'] - left + 1)\n",
    "\n",
    "    _raw_data[ch, _slice] += adc_wave\n",
    "\n",
    "    if config['detector'] == 'XENONnT':\n",
    "        adc_wave_he = adc_wave * int(config['high_energy_deamplification_factor'])\n",
    "        if ch <= config['channels_top'][-1]:\n",
    "            ch_he = config['channels_top_high_energy'][ch]\n",
    "            _raw_data[ch_he, _slice] += adc_wave_he\n",
    "        elif ch <= config['channels_bottom'][-1]:\n",
    "            sum_signal(adc_wave_he,\n",
    "                _pulse['left'] - left,\n",
    "                _pulse['right'] - left + 1,\n",
    "                _raw_data[config['channels_in_detector']['sum_signal']])\n",
    "\n",
    "# Adding noise, baseline and digitizer saturation\n",
    "add_noise(data=_raw_data,\n",
    "               channel_mask=_channel_mask,\n",
    "               noise_data=resource.noise_data,\n",
    "               noise_data_length=len(resource.noise_data))\n",
    "add_baseline(_raw_data, _channel_mask, \n",
    "    config['digitizer_reference_baseline'],)\n",
    "digitizer_saturation(_raw_data, _channel_mask)"
   ]
  },
  {
   "cell_type": "markdown",
   "metadata": {},
   "source": [
    "#### Z(ero) L(ength) E(ncoding)\n",
    "Right after digitize pulse cache, we run ZLE, which uses `find_intervals_below_threshold`. For each interval, this yields a pulse, similar to what physical digitizers are doing"
   ]
  },
  {
   "cell_type": "markdown",
   "metadata": {},
   "source": [
    "### Pulse Classes\n",
    "\n",
    "Pulse classes are another monster we will go into with more details in other notebooks. But in general, there's the parent class `Pulse` while different types of signal are children of it. And S2-esque after pulsing all inherite from `S2`.\n",
    "\n",
    "\n",
    "<img src=\"wfsim_intro_1.3.png\" width=\"900\">"
   ]
  },
  {
   "cell_type": "markdown",
   "metadata": {},
   "source": [
    "### Workflow Walkthrough"
   ]
  },
  {
   "cell_type": "code",
   "execution_count": null,
   "metadata": {},
   "outputs": [],
   "source": []
  }
 ],
 "metadata": {
  "kernelspec": {
   "display_name": "Python 3 (ipykernel)",
   "language": "python",
   "name": "python3"
  },
  "language_info": {
   "codemirror_mode": {
    "name": "ipython",
    "version": 3
   },
   "file_extension": ".py",
   "mimetype": "text/x-python",
   "name": "python",
   "nbconvert_exporter": "python",
   "pygments_lexer": "ipython3",
   "version": "3.9.17"
  }
 },
 "nbformat": 4,
 "nbformat_minor": 4
}
