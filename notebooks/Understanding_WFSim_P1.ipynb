{
 "cells": [
  {
   "cell_type": "markdown",
   "metadata": {},
   "source": [
    "## Understanding Waveform Simulation for XENONnT\n",
    "\n",
    "Nov 30"
   ]
  },
  {
   "cell_type": "code",
   "execution_count": 1,
   "metadata": {},
   "outputs": [],
   "source": [
    "import strax, straxen, wfsim\n",
    "import numpy as np\n",
    "import pandas as pd"
   ]
  },
  {
   "cell_type": "code",
   "execution_count": 2,
   "metadata": {},
   "outputs": [],
   "source": [
    "config = straxen.get_resource('https://raw.githubusercontent.com/XENONnT/'\n",
    "                 'strax_auxiliary_files/master/fax_files/fax_config_nt_design.json', fmt='json')\n",
    "config.update({'detector':'XENONnT', 'right_raw_extension':50000})"
   ]
  },
  {
   "cell_type": "markdown",
   "metadata": {},
   "source": [
    "### Part 1, Simulation flow\n",
    "[Conceptual Overview](#Conceptual-Overview) / [Between Interface and Core](#Between-Interface-and-Core) / [Pulse Classes](#Pulse-Classes) / [Workflow Walkthrough](#Workflow-Walkthrough)"
   ]
  },
  {
   "cell_type": "markdown",
   "metadata": {},
   "source": [
    "### Conceptual Overview\n",
    "\n",
    "#### What it's for?\n",
    "\n",
    "Imagine a monoenergetic source like Kr83m, producing photons and electrons uniformally in the detector, what would the events look like, can the processing software correctly reconstruct them? Or Would you like some fake events in the blinded regions?\n",
    "\n",
    "The signals from XENON experiments have been extensively studied, so that we can mostly model them from the bottom up approach. The [WFSim](https://github.com/XENONnT/WFSim) use those models do construct waveforms as realistic as possible while keeping track of the inputs.\n",
    "\n",
    "Let's break down the WFSim bit by bit.\n",
    "\n",
    "#### How it works\n",
    "\n",
    "The WFSim from the outside works like a python iterator, and is composed of four levels of iterators, where the deepest are `Pulse` classes (those are not exactly iterator) taking [instruction groups](#Instruction-groups) and return a list of pseudo pulses. The `RawData` take the pseudo pulses and `yield` digitized pulses, similar to what physical digitizers would do. The `ChunkRawRecords` and `RawRecordsFromFaxNT` takes care of chunking and interface with strax respectively.\n"
   ]
  },
  {
   "cell_type": "markdown",
   "metadata": {},
   "source": [
    "<img src=\"wfsim_intro_1.1.png\" width=\"600\">"
   ]
  },
  {
   "cell_type": "markdown",
   "metadata": {},
   "source": [
    "#### Instruction groups\n",
    "\n",
    "However, it is not exactly iterating over instructions, the instructions are just one of the arguments for `__init__`. It is designed to turn instruction like the one below into the lowest input structure of the processing software, `chunk` containing `raw_records`(`event` containing `pulses`)."
   ]
  },
  {
   "cell_type": "code",
   "execution_count": 3,
   "metadata": {},
   "outputs": [
    {
     "data": {
      "text/html": [
       "<div>\n",
       "<style scoped>\n",
       "    .dataframe tbody tr th:only-of-type {\n",
       "        vertical-align: middle;\n",
       "    }\n",
       "\n",
       "    .dataframe tbody tr th {\n",
       "        vertical-align: top;\n",
       "    }\n",
       "\n",
       "    .dataframe thead th {\n",
       "        text-align: right;\n",
       "    }\n",
       "</style>\n",
       "<table border=\"1\" class=\"dataframe\">\n",
       "  <thead>\n",
       "    <tr style=\"text-align: right;\">\n",
       "      <th></th>\n",
       "      <th>event_number</th>\n",
       "      <th>type</th>\n",
       "      <th>time</th>\n",
       "      <th>x</th>\n",
       "      <th>y</th>\n",
       "      <th>z</th>\n",
       "      <th>amp</th>\n",
       "      <th>recoil</th>\n",
       "    </tr>\n",
       "  </thead>\n",
       "  <tbody>\n",
       "    <tr>\n",
       "      <th>0</th>\n",
       "      <td>0</td>\n",
       "      <td>1</td>\n",
       "      <td>166666666</td>\n",
       "      <td>-12.444336</td>\n",
       "      <td>35.394833</td>\n",
       "      <td>-36.326618</td>\n",
       "      <td>2019</td>\n",
       "      <td>er</td>\n",
       "    </tr>\n",
       "    <tr>\n",
       "      <th>1</th>\n",
       "      <td>0</td>\n",
       "      <td>2</td>\n",
       "      <td>166666666</td>\n",
       "      <td>-12.444336</td>\n",
       "      <td>35.394833</td>\n",
       "      <td>-36.326618</td>\n",
       "      <td>4018</td>\n",
       "      <td>er</td>\n",
       "    </tr>\n",
       "    <tr>\n",
       "      <th>2</th>\n",
       "      <td>0</td>\n",
       "      <td>1</td>\n",
       "      <td>500000000</td>\n",
       "      <td>-57.106525</td>\n",
       "      <td>-18.970032</td>\n",
       "      <td>-29.390602</td>\n",
       "      <td>2002</td>\n",
       "      <td>er</td>\n",
       "    </tr>\n",
       "    <tr>\n",
       "      <th>3</th>\n",
       "      <td>0</td>\n",
       "      <td>2</td>\n",
       "      <td>500000000</td>\n",
       "      <td>-57.106525</td>\n",
       "      <td>-18.970032</td>\n",
       "      <td>-29.390602</td>\n",
       "      <td>2100</td>\n",
       "      <td>er</td>\n",
       "    </tr>\n",
       "    <tr>\n",
       "      <th>4</th>\n",
       "      <td>0</td>\n",
       "      <td>1</td>\n",
       "      <td>833333333</td>\n",
       "      <td>12.810806</td>\n",
       "      <td>-20.407909</td>\n",
       "      <td>-122.853485</td>\n",
       "      <td>2046</td>\n",
       "      <td>er</td>\n",
       "    </tr>\n",
       "    <tr>\n",
       "      <th>5</th>\n",
       "      <td>0</td>\n",
       "      <td>2</td>\n",
       "      <td>833333333</td>\n",
       "      <td>12.810806</td>\n",
       "      <td>-20.407909</td>\n",
       "      <td>-122.853485</td>\n",
       "      <td>7966</td>\n",
       "      <td>er</td>\n",
       "    </tr>\n",
       "  </tbody>\n",
       "</table>\n",
       "</div>"
      ],
      "text/plain": [
       "   event_number  type       time          x          y           z   amp  \\\n",
       "0             0     1  166666666 -12.444336  35.394833  -36.326618  2019   \n",
       "1             0     2  166666666 -12.444336  35.394833  -36.326618  4018   \n",
       "2             0     1  500000000 -57.106525 -18.970032  -29.390602  2002   \n",
       "3             0     2  500000000 -57.106525 -18.970032  -29.390602  2100   \n",
       "4             0     1  833333333  12.810806 -20.407909 -122.853485  2046   \n",
       "5             0     2  833333333  12.810806 -20.407909 -122.853485  7966   \n",
       "\n",
       "  recoil  \n",
       "0     er  \n",
       "1     er  \n",
       "2     er  \n",
       "3     er  \n",
       "4     er  \n",
       "5     er  "
      ]
     },
     "execution_count": 3,
     "metadata": {},
     "output_type": "execute_result"
    }
   ],
   "source": [
    "instructions = inst_array = wfsim.rand_instructions(c={'event_rate':3, 'chunk_size':1, 'nchunk':1, **config})\n",
    "inst_df = pd.DataFrame(inst_array)\n",
    "inst_df"
   ]
  },
  {
   "cell_type": "markdown",
   "metadata": {},
   "source": [
    "The `event_number` are all 0, but don't worry about it. It is used as event index when using with pax, while having no significant meaning when using with straxen."
   ]
  },
  {
   "cell_type": "markdown",
   "metadata": {},
   "source": [
    "The instruction is sorted by the physical time of the signal, that is S2-esque signal are delayed by drift time. And clustered into instruction groups, similar to gap size clustering that split when the gap is larger than `right_raw_extension`."
   ]
  },
  {
   "cell_type": "code",
   "execution_count": 4,
   "metadata": {},
   "outputs": [],
   "source": [
    "# Pre-load some constents from config\n",
    "v = config['drift_velocity_liquid']\n",
    "rext = config['right_raw_extension']\n",
    "\n",
    "# Primary instructions must be sorted by signal time\n",
    "# int(type) by design S1-esque being odd, S2-esque being even\n",
    "# thus type%2-1 is 0:S1-esque;  -1:S2-esque\n",
    "# Make a list of clusters of instructions, with gap smaller then rext\n",
    "inst_time = instructions['time'] + instructions['z']  / v * (instructions['type'] % 2 - 1)\n",
    "inst_queue = np.argsort(inst_time)\n",
    "inst_queue = np.split(inst_queue, np.where(np.diff(inst_time[inst_queue]) > rext)[0]+1)"
   ]
  },
  {
   "cell_type": "markdown",
   "metadata": {},
   "source": [
    "### Between Interface and Core\n",
    "\n",
    "Let's now examine what's been passing between the interface and core, specifically between `ChunkRawRecord` and `ChunkRawRecord.rawdata (rawdata)`. The most important things passed into `rawdata` are the instructions. But we also pass the truth buffer (empty array of truth dtype with 10000 slots) into `rawdata`. In return, we have `(channel, left, right, data)` valuse of digitized pulses, needed to build raw records.\n",
    "\n",
    "At the same time three properties are interally used as chunking indicators `rawdata.left, rawdata.right, radata.source_finished`. Whereas the left and right above returned by calling `__next__` on `rawdata` are of individual pulses, the `rawdata.left, rawdata.right` are of all the pulses originated from an instruction group. So that when we stop and chunk, we can be sure we have finished an instruction group, and the next pulse will come at least `right_raw_extension` away."
   ]
  },
  {
   "cell_type": "markdown",
   "metadata": {},
   "source": [
    "<img src=\"wfsim_intro_1.2.png\" width=\"600\">"
   ]
  },
  {
   "cell_type": "markdown",
   "metadata": {},
   "source": [
    "**Sim data** is the function where `Pulse` class are called."
   ]
  },
  {
   "cell_type": "markdown",
   "metadata": {},
   "source": [
    "#### Convert to raw records\n",
    "The pulses returned are in the form of `(channel, left, right, data)`, not exactly the form of raw records. So one of the two main functions of `ChunkRawRecord` is to covert them."
   ]
  },
  {
   "cell_type": "code",
   "execution_count": null,
   "metadata": {},
   "outputs": [],
   "source": [
    "# !!! Do not run this cell\n",
    "\n",
    "pulse_length = right - left + 1\n",
    "records_needed = int(np.ceil(pulse_length / samples_per_record))\n",
    "\n",
    "# WARNING baseline and area fields are zeros before finish_results\n",
    "s = slice(blevel, blevel + records_needed)\n",
    "record_buffer[s]['channel'] = channel\n",
    "record_buffer[s]['dt'] = dt\n",
    "record_buffer[s]['time'] = dt * (left + samples_per_record * np.arange(records_needed))\n",
    "record_buffer[s]['length'] = [min(pulse_length, samples_per_record * (i+1)) \n",
    "    - samples_per_record * i for i in range(records_needed)]\n",
    "record_buffer[s]['pulse_length'] = pulse_length\n",
    "record_buffer[s]['record_i'] = np.arange(records_needed)\n",
    "record_buffer[s]['data'] = np.pad(data, \n",
    "    (0, records_needed * samples_per_record - pulse_length), 'constant').reshape((-1, samples_per_record))\n"
   ]
  },
  {
   "cell_type": "markdown",
   "metadata": {},
   "source": [
    "#### Digitize pulse cache\n",
    "\n",
    "The psuedo pulses are cached in `_pulses_cache`, once an instruction group is over, we digitize all the psuedo pulses. This is done by summing up all the pulse current in each channel and convert unit from PE to acd count thus becoming `adc_wave`. Three functions `add_noise`, `add_baseline` and `digitizer_saturation` are done afterwards."
   ]
  },
  {
   "cell_type": "code",
   "execution_count": null,
   "metadata": {},
   "outputs": [],
   "source": [
    "# !!! Do not run this cell\n",
    "\n",
    "\n",
    "current_2_adc = config['pmt_circuit_load_resistor'] \\\n",
    "    * config['external_amplification'] \\\n",
    "    / (config['digitizer_voltage_range'] / 2 ** (config['digitizer_bits']))\n",
    "\n",
    "left = np.min([p['left'] for p in _pulses_cache]) - config['trigger_window']\n",
    "right = np.max([p['right'] for p in _pulses_cache]) + config['trigger_window']\n",
    "assert right - left < 200000, \"Pulse cache too long\"\n",
    "\n",
    "if left % 2 != 0: left -= 1 # Seems like a digizier effect\n",
    "\n",
    "_raw_data = np.zeros((801,\n",
    "    right - left + 1), dtype=('<i8'))\n",
    "\n",
    "for ix, _pulse in enumerate(_pulses_cache):\n",
    "    ch = _pulse['channel']\n",
    "    adc_wave = - np.trunc(_pulse['current'] * current_2_adc).astype(int)\n",
    "    _slice = slice(_pulse['left'] - left, _pulse['right'] - left + 1)\n",
    "\n",
    "    _raw_data[ch, _slice] += adc_wave\n",
    "\n",
    "    if config['detector'] == 'XENONnT':\n",
    "        adc_wave_he = adc_wave * int(config['high_energy_deamplification_factor'])\n",
    "        if ch <= config['channels_top'][-1]:\n",
    "            ch_he = config['channels_top_high_energy'][ch]\n",
    "            _raw_data[ch_he, _slice] += adc_wave_he\n",
    "        elif ch <= config['channels_bottom'][-1]:\n",
    "            sum_signal(adc_wave_he,\n",
    "                _pulse['left'] - left,\n",
    "                _pulse['right'] - left + 1,\n",
    "                _raw_data[config['channels_in_detector']['sum_signal']])\n",
    "\n",
    "# Adding noise, baseline and digitizer saturation\n",
    "add_noise(data=_raw_data,\n",
    "               channel_mask=_channel_mask,\n",
    "               noise_data=resource.noise_data,\n",
    "               noise_data_length=len(resource.noise_data))\n",
    "add_baseline(_raw_data, _channel_mask, \n",
    "    config['digitizer_reference_baseline'],)\n",
    "digitizer_saturation(_raw_data, _channel_mask)"
   ]
  },
  {
   "cell_type": "markdown",
   "metadata": {},
   "source": [
    "#### Z(ero) L(ength) E(ncoding)\n",
    "Right after digitize pulse cache, we run ZLE, which uses `find_intervals_below_threshold`. For each interval, this yields a pulse, similar to what physical digitizers are doing"
   ]
  },
  {
   "cell_type": "markdown",
   "metadata": {},
   "source": [
    "### Pulse Classes\n",
    "\n",
    "Pulse classes are another monster we will go into with more details in other notebooks. But in general, there's the parent class `Pulse` while different types of signal are children of it. And S2-esque after pulsing all inherite from `S2`.\n",
    "\n",
    "\n",
    "<img src=\"wfsim_intro_1.3.png\" width=\"900\">"
   ]
  },
  {
   "cell_type": "markdown",
   "metadata": {},
   "source": [
    "### Workflow Walkthrough"
   ]
  },
  {
   "cell_type": "code",
   "execution_count": null,
   "metadata": {},
   "outputs": [],
   "source": []
  }
 ],
 "metadata": {
  "kernelspec": {
   "display_name": "Python 3",
   "language": "python",
   "name": "python3"
  },
  "language_info": {
   "codemirror_mode": {
    "name": "ipython",
    "version": 3
   },
   "file_extension": ".py",
   "mimetype": "text/x-python",
   "name": "python",
   "nbconvert_exporter": "python",
   "pygments_lexer": "ipython3",
   "version": "3.8.5"
  }
 },
 "nbformat": 4,
 "nbformat_minor": 4
}
