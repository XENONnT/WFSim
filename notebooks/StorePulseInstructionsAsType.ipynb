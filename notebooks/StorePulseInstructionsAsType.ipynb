{
 "cells": [
  {
   "cell_type": "markdown",
   "id": "2b94abd9-5330-476e-93a6-51ebbfd94ced",
   "metadata": {},
   "source": [
    "Here I'll make an example of making the pmt channel and timing instructions a seperate dtype"
   ]
  },
  {
   "cell_type": "code",
   "execution_count": 1,
   "id": "fa65286a-1d75-4167-9e63-fb57327bd72f",
   "metadata": {},
   "outputs": [
    {
     "name": "stderr",
     "output_type": "stream",
     "text": [
      "*** Detector definition message ***\n",
      "You are currently using the default XENON10 template detector.\n",
      "\n"
     ]
    }
   ],
   "source": [
    "import strax\n",
    "import wfsim\n",
    "import cutax\n",
    "import numpy as np"
   ]
  },
  {
   "cell_type": "code",
   "execution_count": 2,
   "id": "ddf5b842-f45c-4d3e-99a3-1a67392e2206",
   "metadata": {},
   "outputs": [
    {
     "name": "stderr",
     "output_type": "stream",
     "text": [
      "/opt/XENONnT/anaconda/envs/XENONnT_development/lib/python3.8/site-packages/strax/context.py:1433: UserWarning: Option baseline_samples_nv not taken by any registered plugin\n",
      "  plugins = self._get_plugins((target,), run_id)\n",
      "/opt/XENONnT/anaconda/envs/XENONnT_development/lib/python3.8/site-packages/strax/context.py:1433: UserWarning: Option gain_model_mv not taken by any registered plugin\n",
      "  plugins = self._get_plugins((target,), run_id)\n",
      "/opt/XENONnT/anaconda/envs/XENONnT_development/lib/python3.8/site-packages/strax/context.py:1433: UserWarning: Option hit_min_amplitude_mv not taken by any registered plugin\n",
      "  plugins = self._get_plugins((target,), run_id)\n",
      "/opt/XENONnT/anaconda/envs/XENONnT_development/lib/python3.8/site-packages/strax/context.py:1433: UserWarning: Option gain_model_nv not taken by any registered plugin\n",
      "  plugins = self._get_plugins((target,), run_id)\n",
      "/opt/XENONnT/anaconda/envs/XENONnT_development/lib/python3.8/site-packages/strax/context.py:1433: UserWarning: Option hit_min_amplitude_nv not taken by any registered plugin\n",
      "  plugins = self._get_plugins((target,), run_id)\n"
     ]
    },
    {
     "data": {
      "text/plain": [
       "wfsim.strax_interface.RawRecordsFromFaxOpticalNT"
      ]
     },
     "execution_count": 2,
     "metadata": {},
     "output_type": "execute_result"
    }
   ],
   "source": [
    "st = cutax.contexts.xenonnt_sim_SR0v0_cmt_v5()\n",
    "st.register(wfsim.strax_interface.RawRecordsFromFaxOpticalNT)"
   ]
  },
  {
   "cell_type": "code",
   "execution_count": 3,
   "id": "4c4f5617-1ad1-4b00-8459-005e33f6ed6e",
   "metadata": {},
   "outputs": [],
   "source": [
    "@strax.takes_config(\n",
    "strax.Option('instructions',track=False),\n",
    "strax.Option('timings',track=False),\n",
    "strax.Option('channels',track=False),\n",
    "strax.Option('max_length',track=False),\n",
    "strax.Option('instructions_per_chunk',default=False,track=False))\n",
    "class PulseInstructions(strax.Plugin):\n",
    "    depends_on=()\n",
    "    data_kind='wfsim_instructions'\n",
    "    is_ready=True\n",
    "    max_chunks=1\n",
    "    _source_finished=False\n",
    "    \n",
    "    def setup(self,):\n",
    "        if self.config['instructions_per_chunk']:\n",
    "            self.max_chunks= np.ceil(len(self.config['instructions'])/self.config['instructions_per_chunk'])\n",
    "        else:\n",
    "            self.config['instructions_per_chunk']=len(self.config['instructions'])\n",
    "    \n",
    "    def infer_dtype(self,):\n",
    "        max_num_photons = self.config['max_length']\n",
    "        dtype = wfsim.strax_interface.instruction_dtype+ \\\n",
    "                wfsim.strax_interface.optical_extra_dtype+ \\\n",
    "                [('timings',max_num_photons),('channels',max_num_photons),('endtime',np.int64)]\n",
    "        return dtype\n",
    "    \n",
    "    def compute(self,chunk_i):\n",
    "        result=np.zeros(self.config['instructions_per_chunk'],dtype=self.dtype)\n",
    "        \n",
    "        start = chunk_i*self.config['instructions_per_chunk']\n",
    "        stop = (chunk_i+1)*self.config['instructions_per_chunk']\n",
    "        \n",
    "        if chunk_i==self.max_chunks:\n",
    "            stop=len(self.config['instructions'])+1\n",
    "        \n",
    "        for d in self.config['instructions'].dtype.names:\n",
    "            result[d]=self.config['instructions'][start:stop][d]\n",
    "        result['timings']=self.config['timings'][start:stop]\n",
    "        result['channels']=self.config['channels'][start:stop]\n",
    "        result['endtime']= np.max(result['timings'])\n",
    "        return self.chunk(start=result['time'][0],end=result['endtime'][-1],data=result)\n",
    "    \n",
    "    def is_ready(self,chunk_i):\n",
    "        if chunk_i==self.max_chunks:\n",
    "            self._source_finished=True\n",
    "        return not chunk_i==self.max_chunks\n",
    "    \n",
    "    def source_finished(self,):\n",
    "        return self._source_finished"
   ]
  },
  {
   "cell_type": "code",
   "execution_count": 4,
   "id": "27b963d7-a198-441b-8b00-98e0969e20ff",
   "metadata": {},
   "outputs": [],
   "source": [
    "def get_s1_photons(instruction,config,resource):\n",
    "    \n",
    "    t = instruction['time']\n",
    "    x = instruction['x']\n",
    "    y = instruction['y']\n",
    "    z = instruction['z']\n",
    "    n_photons = instruction['amp']\n",
    "    recoil_type = instruction['recoil']\n",
    "    positions = np.array([x, y, z]).T  # For map interpolation\n",
    "    n_photon_hits = wfsim.S1.get_n_photons(n_photons=n_photons,\n",
    "                                       positions=positions,\n",
    "                                       s1_lce_correction_map=resource.s1_lce_correction_map,\n",
    "                                       config=config)\n",
    "\n",
    "    # The new way interpolation is written always require a list\n",
    "    \n",
    "    _photon_channels = wfsim.S1.photon_channels(positions=positions,\n",
    "                                                 n_photon_hits=n_photon_hits,\n",
    "                                                 config=config, \n",
    "                                                 s1_pattern_map=resource.s1_pattern_map)\n",
    "\n",
    "    _photon_timings = wfsim.S1.photon_timings(t=t,\n",
    "                                               n_photon_hits=n_photon_hits, \n",
    "                                               recoil_type=recoil_type,\n",
    "                                               config=config,\n",
    "                                               phase='liquid',\n",
    "                                               channels=_photon_channels,\n",
    "                                               positions=positions,\n",
    "                                               resource=resource)\n",
    "\n",
    "    # Sorting times according to the channel, as non-explicit sorting\n",
    "    # is performed later and this breaks timing of individual channels/arrays\n",
    "    sortind = np.argsort(_photon_channels)\n",
    "\n",
    "    _photon_channels = _photon_channels[sortind]\n",
    "    _photon_timings = _photon_timings[sortind]\n",
    "    return _photon_channels,_photon_timings"
   ]
  },
  {
   "cell_type": "code",
   "execution_count": 5,
   "id": "99c73ff8-c1a8-47ed-b5b3-b83133343927",
   "metadata": {},
   "outputs": [],
   "source": [
    "def get_s2_photons(instructions,config,resource):\n",
    "    if len(instructions.shape) < 1:\n",
    "        # shape of recarr is a bit strange\n",
    "        instruction = np.array([instructions])\n",
    "\n",
    "    _, _, t, x, y, z, n_electron, recoil_type, *rest = [\n",
    "        np.array(v).reshape(-1) for v in zip(*instructions)]\n",
    "\n",
    "    # Reverse engineerring FDC\n",
    "    if config['field_distortion_on']:\n",
    "        z_obs, positions = inverse_field_distortion(x, y, z, resource=resource)\n",
    "    else:\n",
    "        z_obs, positions = z, np.array([x, y]).T\n",
    "\n",
    "    sc_gain = wfsim.S2.get_s2_light_yield(positions=positions,\n",
    "                                      config=config,\n",
    "                                      resource=resource)\n",
    "\n",
    "    n_electron = wfsim.S2.get_electron_yield(n_electron=n_electron,\n",
    "                                         positions=positions,\n",
    "                                         z_obs=z_obs,\n",
    "                                         config=config,\n",
    "                                         resource=resource)\n",
    "\n",
    "    # Second generate photon timing and channel\n",
    "    _electron_timings, _photon_timings, _instruction = wfsim.S2.photon_timings(t, n_electron, z_obs,\n",
    "                                                                                          positions, sc_gain,\n",
    "                                                                                          config=config,\n",
    "                                                                                          resource=resource,\n",
    "                                                                                          phase='gas')\n",
    "\n",
    "    _photon_channels, _photon_timings = wfsim.S2.photon_channels(n_electron=n_electron,\n",
    "                                                                       z_obs=z_obs,\n",
    "                                                                       positions=positions,\n",
    "                                                                       _photon_timings=_photon_timings,\n",
    "                                                                       _instruction=_instruction,\n",
    "                                                                       config=config,\n",
    "                                                                       resource=resource)\n",
    "    return _photon_channels,_photon_timings"
   ]
  },
  {
   "cell_type": "code",
   "execution_count": 10,
   "id": "39ee0cc9-8edd-4fc4-a6b1-e17e87d6dc97",
   "metadata": {},
   "outputs": [],
   "source": [
    "def instructions_function(c):\n",
    "    '''\n",
    "    So we we'll need to dump everything for the generation of the instruction. \n",
    "    This we will pass to the strax class for saving in the end\n",
    "    Because we need to specify the dtype in advance for strax we need to calculate everything here,\n",
    "    and pass to strax the final result. Note that the array we'll make be the size of the largest timing and channel array\n",
    "    '''\n",
    "    run_id='MakeSureToSetThisToSomething_01'\n",
    "    # st = cutax.contexts.xenonnt_sim_SR0v0_cmt_v5()\n",
    "    st.register(PulseInstructions)\n",
    "    import nestpy\n",
    "    half_life = 156.94e-9 #Kr intermediate state half-life in ns\n",
    "    decay_energies = [32.2,9.4] # Decay energies in kev\n",
    "    \n",
    "    n = c['nevents'] = c['event_rate'] * c['chunk_size'] * c['nchunk']\n",
    "    c['total_time'] = c['chunk_size'] * c['nchunk']\n",
    "\n",
    "    instructions = np.zeros(4 * n, dtype=wfsim.instruction_dtype+wfsim.optical_extra_dtype)\n",
    "    instructions['event_number'] = np.digitize(instructions['time'],\n",
    "         1e9 * np.arange(c['nchunk']) * c['chunk_size']) - 1\n",
    "    \n",
    "    instructions['type'] = np.tile([1, 2], 2 * n)\n",
    "    instructions['recoil'] = [7 for i in range(4 * n)]\n",
    "    \n",
    "    r = np.sqrt(np.random.uniform(0, 2500, n))\n",
    "    t = np.random.uniform(-np.pi, np.pi, n)\n",
    "    instructions['x'] = np.repeat(r * np.cos(t), 4)\n",
    "    instructions['y'] = np.repeat(r * np.sin(t), 4)\n",
    "    instructions['z'] = np.repeat(np.random.uniform(-80, 0, n), 4)\n",
    "    \n",
    "    #To get the correct times we'll need to include the 156.94 ns half life of the intermediate state.\n",
    "\n",
    "    uniform_times = c['total_time'] * (np.arange(n) + 0.5) / n\n",
    "    delayed_times = uniform_times + np.random.exponential(half_life/np.log(2),len(uniform_times))\n",
    "    instructions['time'] = np.repeat(list(zip(uniform_times,delayed_times)),2) * 1e9\n",
    "\n",
    "\n",
    "    # Here we'll define our XENON-like detector\n",
    "    nc = nestpy.NESTcalc(nestpy.VDetector())\n",
    "    A = 131.293\n",
    "    Z = 54.\n",
    "    density = 2.862  # g/cm^3   #SR1 Value\n",
    "    drift_field = 82  # V/cm    #SR1 Value\n",
    "    interaction = nestpy.INTERACTION_TYPE(7)\n",
    "    \n",
    "    energy = np.tile(decay_energies,n)\n",
    "    quanta = []\n",
    "    for en in energy:\n",
    "        y = nc.GetYields(interaction,\n",
    "                         en,\n",
    "                         density,\n",
    "                         drift_field,\n",
    "                         A,\n",
    "                         Z,\n",
    "                         (1, 1))\n",
    "        q = nc.GetQuanta(y, density)\n",
    "        quanta.append(q.photons)\n",
    "        quanta.append(q.electrons)\n",
    "    instructions['amp'] = quanta\n",
    "    \n",
    "    c['turned_off_pmts'] = []\n",
    "    resource = wfsim.load_resource.load_config(c)\n",
    "    s1_channels, s1_timings = get_s1_photons(instructions[instructions['type']==1],c,resource)\n",
    "    s2_channels, s2_timings = get_s2_photons(instructions[instructions['type']==2],c,resource)\n",
    "    \n",
    "    #hacky way to make the simulator work, with s2s it will crash. but we don't use that part anyway\n",
    "    instructions['type']=1\n",
    "    \n",
    "    timings=np.concatenate((s1_timings,s2_timings))\n",
    "    channels=np.concatenate((s1_channels,s2_channels))\n",
    "    \n",
    "    sortind = np.argsort(timings)\n",
    "    \n",
    "    timings=timings[sortind]\n",
    "    channels=channels[sortind]\n",
    "    \n",
    "    max_photons=np.max(timings)\n",
    "    wfsim.optical_adjustment(instructions,timings,channels)\n",
    "    \n",
    "    st.set_config(dict(instructions=instructions,\n",
    "                       timings=timings,\n",
    "                       channels=channels,\n",
    "                       max_length=max_photons))\n",
    "    st.make(run_id,'pulse_instructions')\n",
    "    return instructions,channels,timings"
   ]
  },
  {
   "cell_type": "code",
   "execution_count": 11,
   "id": "cf4961b9-4cdd-4da0-8dc5-168c0a0bb631",
   "metadata": {},
   "outputs": [
    {
     "name": "stdout",
     "output_type": "stream",
     "text": [
      "Removing old incomplete data in ./strax_data/bla-raw_records_he-4w2cexf5p7\n",
      "Removing old incomplete data in ./strax_data/bla-truth-4w2cexf5p7\n",
      "Removing old incomplete data in ./strax_data/bla-raw_records-4w2cexf5p7\n",
      "Removing old incomplete data in ./strax_data/bla-raw_records_aqmon-4w2cexf5p7\n"
     ]
    },
    {
     "name": "stderr",
     "output_type": "stream",
     "text": [
      "WARNING:wfsim.interface:Replacing drift_time_gate with CMT option ('cmt_run_id', '026550', 'electron_drift_time_gate', 'v1', True) to 2700.0\n",
      "WARNING:wfsim.interface:Replacing drift_velocity_liquid with CMT option ('cmt_run_id', '026550', 'electron_drift_velocity', 'v2', True) to 6.77e-05\n",
      "WARNING:wfsim.interface:Replacing electron_lifetime_liquid with CMT option ('cmt_run_id', '026550', 'elife', 'v3', True) to 13530356.470960295\n",
      "WARNING:strax:Could not estimate run start and end time from run metadata: assuming it is 0 and inf\n"
     ]
    },
    {
     "data": {
      "application/vnd.jupyter.widget-view+json": {
       "model_id": "10618883da2e40749058c21eb61d45e5",
       "version_major": 2,
       "version_minor": 0
      },
      "text/plain": [
       "Simulating Raw Records:   0%|          | 0/1000 [00:00<?, ?it/s]"
      ]
     },
     "metadata": {},
     "output_type": "display_data"
    },
    {
     "name": "stdout",
     "output_type": "stream",
     "text": [
      "Source finished!\n"
     ]
    }
   ],
   "source": [
    "wfsim.strax_interface.read_optical=instructions_function\n",
    "st.set_config(dict(nevents=5,\n",
    "                   nchunk=1,\n",
    "                   chunk_size=1,\n",
    "                   fax_file='bla.root',\n",
    "                   fax_config_override=dict(s1_model_type='simple',\n",
    "                                            enable_pmt_afterpulses=False,\n",
    "                                            enable_electron_afterpulses=False)))\n",
    "st.make('bla','raw_records')"
   ]
  }
 ],
 "metadata": {
  "kernelspec": {
   "display_name": "Python 3 (ipykernel)",
   "language": "python",
   "name": "python3"
  },
  "language_info": {
   "codemirror_mode": {
    "name": "ipython",
    "version": 3
   },
   "file_extension": ".py",
   "mimetype": "text/x-python",
   "name": "python",
   "nbconvert_exporter": "python",
   "pygments_lexer": "ipython3",
   "version": "3.8.12"
  }
 },
 "nbformat": 4,
 "nbformat_minor": 5
}
